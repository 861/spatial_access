{
 "cells": [
  {
   "cell_type": "markdown",
   "metadata": {},
   "source": [
    "# Transit Matrix"
   ]
  },
  {
   "cell_type": "code",
   "execution_count": 1,
   "metadata": {},
   "outputs": [],
   "source": [
    "import sys, os\n",
    "os.chdir('/Users/whlu/spatial_access/spatial_access')\n",
    "from p2p import *\n",
    "\n",
    "import geopandas as gpd"
   ]
  },
  {
   "cell_type": "code",
   "execution_count": 2,
   "metadata": {},
   "outputs": [],
   "source": [
    "%matplotlib inline"
   ]
  },
  {
   "cell_type": "markdown",
   "metadata": {},
   "source": [
    "--- \n",
    "<h1><center>DEMO</center></h1>  \n"
   ]
  },
  {
   "cell_type": "markdown",
   "metadata": {},
   "source": [
    "**View structure of data example: Health Facilities in Chicago.**  \n",
    "Health Facilities Data: http://makosak.github.io/chihealthaccess/index.html"
   ]
  },
  {
   "cell_type": "code",
   "execution_count": 3,
   "metadata": {},
   "outputs": [
    {
     "data": {
      "text/html": [
       "<div>\n",
       "<style scoped>\n",
       "    .dataframe tbody tr th:only-of-type {\n",
       "        vertical-align: middle;\n",
       "    }\n",
       "\n",
       "    .dataframe tbody tr th {\n",
       "        vertical-align: top;\n",
       "    }\n",
       "\n",
       "    .dataframe thead th {\n",
       "        text-align: right;\n",
       "    }\n",
       "</style>\n",
       "<table border=\"1\" class=\"dataframe\">\n",
       "  <thead>\n",
       "    <tr style=\"text-align: right;\">\n",
       "      <th></th>\n",
       "      <th>geoid10</th>\n",
       "      <th>lon</th>\n",
       "      <th>lat</th>\n",
       "      <th>Pop2014</th>\n",
       "      <th>Pov14</th>\n",
       "      <th>community</th>\n",
       "      <th>ID</th>\n",
       "    </tr>\n",
       "  </thead>\n",
       "  <tbody>\n",
       "    <tr>\n",
       "      <th>0</th>\n",
       "      <td>17031842400</td>\n",
       "      <td>-87.630040</td>\n",
       "      <td>41.742475</td>\n",
       "      <td>5157</td>\n",
       "      <td>769</td>\n",
       "      <td>44</td>\n",
       "      <td>1</td>\n",
       "    </tr>\n",
       "    <tr>\n",
       "      <th>1</th>\n",
       "      <td>17031840300</td>\n",
       "      <td>-87.681882</td>\n",
       "      <td>41.832094</td>\n",
       "      <td>5881</td>\n",
       "      <td>1021</td>\n",
       "      <td>59</td>\n",
       "      <td>2</td>\n",
       "    </tr>\n",
       "    <tr>\n",
       "      <th>2</th>\n",
       "      <td>17031841100</td>\n",
       "      <td>-87.635098</td>\n",
       "      <td>41.851006</td>\n",
       "      <td>3363</td>\n",
       "      <td>2742</td>\n",
       "      <td>34</td>\n",
       "      <td>3</td>\n",
       "    </tr>\n",
       "    <tr>\n",
       "      <th>3</th>\n",
       "      <td>17031841200</td>\n",
       "      <td>-87.683342</td>\n",
       "      <td>41.855562</td>\n",
       "      <td>3710</td>\n",
       "      <td>1819</td>\n",
       "      <td>31</td>\n",
       "      <td>4</td>\n",
       "    </tr>\n",
       "    <tr>\n",
       "      <th>4</th>\n",
       "      <td>17031838200</td>\n",
       "      <td>-87.675079</td>\n",
       "      <td>41.870416</td>\n",
       "      <td>3296</td>\n",
       "      <td>361</td>\n",
       "      <td>28</td>\n",
       "      <td>5</td>\n",
       "    </tr>\n",
       "  </tbody>\n",
       "</table>\n",
       "</div>"
      ],
      "text/plain": [
       "       geoid10        lon        lat  Pop2014  Pov14  community  ID\n",
       "0  17031842400 -87.630040  41.742475     5157    769         44   1\n",
       "1  17031840300 -87.681882  41.832094     5881   1021         59   2\n",
       "2  17031841100 -87.635098  41.851006     3363   2742         34   3\n",
       "3  17031841200 -87.683342  41.855562     3710   1819         31   4\n",
       "4  17031838200 -87.675079  41.870416     3296    361         28   5"
      ]
     },
     "execution_count": 3,
     "metadata": {},
     "output_type": "execute_result"
    }
   ],
   "source": [
    "df = pd.read_csv('/Users/whlu/spatial_access/data/input_data/tracts2010.csv')\n",
    "df.head()"
   ]
  },
  {
   "cell_type": "markdown",
   "metadata": {},
   "source": [
    "### Distance Matrices  \n",
    "\n",
    "<span style=\"color:LimeGreen\"> **Specifications for the asymmetric and symmetric distance matrices:**  \n",
    "\n",
    "- network_type (drive or walk)\n",
    "- epsilon=0.05 (can change default)  \n",
    "- primary_input  \n",
    "- secondary_input  \n",
    "- output_type='csv'  \n",
    "- n_best_matches=4 (for simulations)\n",
    "- read_from_file=None  \n",
    "- write_to_file (set as True if user wants to save results)   \n",
    "- load_to_mem=True (True is default but can set it to False if the user is running a computational intensive process >>>.)\n",
    "\n",
    "**Please make sure latitude and longitude are correct if using X and Y.**\n"
   ]
  },
  {
   "cell_type": "markdown",
   "metadata": {},
   "source": [
    "## Model 1: Asymmetric Matrix  \n",
    "---\n",
    "The first model directly creates an asymmetric matrix from destination points to the centroids of the area of analysis (also takes ~ 20 min). This approach is most effective when you are only calculating the distance matrix or a particular distance score once."
   ]
  },
  {
   "cell_type": "code",
   "execution_count": 4,
   "metadata": {
    "code_folding": [],
    "collapsed": true
   },
   "outputs": [
    {
     "name": "stdout",
     "output_type": "stream",
     "text": [
      "The variables in your data set are:\n",
      ">  geoid10\n",
      ">  lon\n",
      ">  lat\n",
      ">  Pop2014\n",
      ">  Pov14\n",
      ">  community\n",
      ">  ID\n"
     ]
    },
    {
     "name": "stdin",
     "output_type": "stream",
     "text": [
      "Enter the longitude coordinate:  lon\n",
      "Enter the latitude coordinate:  lat\n",
      "Enter the index name:  ID\n"
     ]
    },
    {
     "name": "stdout",
     "output_type": "stream",
     "text": [
      "The variables in your data set are:\n",
      ">  ID\n",
      ">  Facility\n",
      ">  lat\n",
      ">  lon\n",
      ">  Type\n",
      ">  target\n",
      ">  category\n",
      ">  community\n"
     ]
    },
    {
     "name": "stdin",
     "output_type": "stream",
     "text": [
      "Enter the longitude coordinate:  lon\n",
      "Enter the latitude coordinate:  lat\n",
      "Enter the index name:  ID\n"
     ]
    },
    {
     "name": "stderr",
     "output_type": "stream",
     "text": [
      "INFO:p2p:Approx area of bounding box: 2,445.05 sq. km\n",
      "INFO:p2p:All operations completed in 15.88 seconds\n"
     ]
    }
   ],
   "source": [
    "# Calculate asymmetric distance matrix for walking (takes ~5 minutes to run) \n",
    "\n",
    "w_asym_mat = TransitMatrix('walk', \n",
    "                           primary_input='/Users/whlu/spatial_access/data/input_data/tracts2010.csv', \n",
    "                           secondary_input='/Users/whlu/spatial_access/data/input_data/health_chicago.csv')\n",
    "w_asym_mat.process()\n",
    "\n"
   ]
  },
  {
   "cell_type": "code",
   "execution_count": 5,
   "metadata": {},
   "outputs": [
    {
     "name": "stderr",
     "output_type": "stream",
     "text": [
      "INFO:p2p:Wrote to /Users/whlu/spatial_access/spatial_access/data/matrices/walk_asym_health_tracts.csv in 0.04 seconds\n"
     ]
    }
   ],
   "source": [
    "w_asym_mat.write_csv(outfile = \"/Users/whlu/spatial_access/spatial_access/data/matrices/walk_asym_health_tracts.csv\")\n",
    "\n",
    "#Saved as walk_asym_health_tracts.csv"
   ]
  },
  {
   "cell_type": "code",
   "execution_count": 6,
   "metadata": {},
   "outputs": [
    {
     "name": "stderr",
     "output_type": "stream",
     "text": [
      "INFO:p2p:Wrote to /Users/whlu/spatial_access/spatial_access/data/matrices/walk_asym_health_tracts.tmx in 0.00 seconds\n"
     ]
    }
   ],
   "source": [
    "w_asym_mat.write_tmx(outfile = \"/Users/whlu/spatial_access/spatial_access/data/matrices/walk_asym_health_tracts.tmx\")\n",
    "\n",
    "# Saved as walk_asym_health_tracts.tmx"
   ]
  },
  {
   "cell_type": "code",
   "execution_count": 7,
   "metadata": {
    "code_folding": []
   },
   "outputs": [
    {
     "name": "stdout",
     "output_type": "stream",
     "text": [
      "The variables in your data set are:\n",
      ">  geoid10\n",
      ">  lon\n",
      ">  lat\n",
      ">  Pop2014\n",
      ">  Pov14\n",
      ">  community\n",
      ">  ID\n"
     ]
    },
    {
     "name": "stdin",
     "output_type": "stream",
     "text": [
      "Enter the longitude coordinate:  lon\n",
      "Enter the latitude coordinate:  lat\n",
      "Enter the index name:  ID\n"
     ]
    },
    {
     "name": "stdout",
     "output_type": "stream",
     "text": [
      "The variables in your data set are:\n",
      ">  ID\n",
      ">  Facility\n",
      ">  lat\n",
      ">  lon\n",
      ">  Type\n",
      ">  target\n",
      ">  category\n",
      ">  community\n"
     ]
    },
    {
     "name": "stdin",
     "output_type": "stream",
     "text": [
      "Enter the longitude coordinate:  lon\n",
      "Enter the latitude coordinate:  lat\n",
      "Enter the index name:  ID\n"
     ]
    },
    {
     "name": "stderr",
     "output_type": "stream",
     "text": [
      "INFO:p2p:Approx area of bounding box: 2,445.05 sq. km\n",
      "INFO:p2p:All operations completed in 7.94 seconds\n"
     ]
    }
   ],
   "source": [
    "# Calculate asymmetric distance matrix for driving (takes ~1.5 minutes to run) \n",
    "\n",
    "d_asym_mat = TransitMatrix('drive', \n",
    "                           primary_input='/Users/whlu/spatial_access/data/input_data/tracts2010.csv', \n",
    "                           secondary_input='/Users/whlu/spatial_access/data/input_data/health_chicago.csv')\n",
    "\n",
    "d_asym_mat.process()\n",
    "\n"
   ]
  },
  {
   "cell_type": "code",
   "execution_count": 8,
   "metadata": {},
   "outputs": [
    {
     "name": "stderr",
     "output_type": "stream",
     "text": [
      "INFO:p2p:Wrote to /Users/whlu/spatial_access/spatial_access/data/matrices/drive_asym_health_tracts.csv in 0.04 seconds\n"
     ]
    }
   ],
   "source": [
    "d_asym_mat.write_csv(outfile = \"/Users/whlu/spatial_access/spatial_access/data/matrices/drive_asym_health_tracts.csv\")\n",
    "\n",
    "#Saved as drive_asym_health_tracts.csv"
   ]
  },
  {
   "cell_type": "code",
   "execution_count": null,
   "metadata": {},
   "outputs": [],
   "source": [
    "d_asym_mat.write_tmx(outfile = \"/Users/whlu/spatial_access/spatial_access/data/matrices/drive_asym_health_tracts.tmx\")\n",
    "\n",
    "# Saved as drive_asym_health_tracts.tmx"
   ]
  },
  {
   "cell_type": "markdown",
   "metadata": {},
   "source": [
    "## Model 2: Symmetric Matrix\n",
    "\n",
    "--\n",
    "\n",
    "The second model creates a symmetric distance travel matrix from block to block (801 x 801 matrix). Then, we snap the destination points to the area of analysis (blocks), getting a matrix that calculates the distance between the destinations and every block in the dataset.\n"
   ]
  },
  {
   "cell_type": "code",
   "execution_count": 13,
   "metadata": {},
   "outputs": [
    {
     "name": "stdout",
     "output_type": "stream",
     "text": [
      "The variables in your data set are:\n",
      ">  geoid10\n",
      ">  lon\n",
      ">  lat\n",
      ">  Pop2014\n",
      ">  Pov14\n",
      ">  community\n",
      ">  ID\n"
     ]
    },
    {
     "name": "stdin",
     "output_type": "stream",
     "text": [
      "Enter the longitude coordinate:  lon\n",
      "Enter the latitude coordinate:  lat\n",
      "Enter the index name:  ID\n"
     ]
    },
    {
     "name": "stderr",
     "output_type": "stream",
     "text": [
      "INFO:p2p:Approx area of bounding box: 2,067.39 sq. km\n",
      "INFO:p2p:All operations completed in 9.09 seconds\n"
     ]
    }
   ],
   "source": [
    "# Specify walking distance matrix (takes ~3 min to run) \n",
    "w_sym_mat = TransitMatrix('walk', \n",
    "                           primary_input='/Users/whlu/spatial_access/data/input_data/tracts2010.csv')\n",
    "\n",
    "# Run process\n",
    "w_sym_mat.process()"
   ]
  },
  {
   "cell_type": "code",
   "execution_count": 14,
   "metadata": {},
   "outputs": [
    {
     "name": "stderr",
     "output_type": "stream",
     "text": [
      "INFO:p2p:Wrote to /Users/whlu/spatial_access/spatial_access/data/matrices/walk_sym_health_tracts.csv in 0.14 seconds\n"
     ]
    }
   ],
   "source": [
    "w_sym_mat.write_csv(outfile = \"/Users/whlu/spatial_access/spatial_access/data/matrices/walk_sym_health_tracts.csv\")\n",
    "\n",
    "# Saved as walk_sym_health_tracts.csv"
   ]
  },
  {
   "cell_type": "code",
   "execution_count": null,
   "metadata": {},
   "outputs": [],
   "source": [
    "w_sym_mat.write_tmx(outfile = \"/Users/whlu/spatial_access/spatial_access/data/matrices/walk_sym_health_tracts.tmx\")\n",
    "\n",
    "# Saved as walk_sym_health_tracts.tmx"
   ]
  },
  {
   "cell_type": "code",
   "execution_count": 15,
   "metadata": {},
   "outputs": [
    {
     "name": "stdout",
     "output_type": "stream",
     "text": [
      "The variables in your data set are:\n",
      ">  geoid10\n",
      ">  lon\n",
      ">  lat\n",
      ">  Pop2014\n",
      ">  Pov14\n",
      ">  community\n",
      ">  ID\n"
     ]
    },
    {
     "name": "stdin",
     "output_type": "stream",
     "text": [
      "Enter the longitude coordinate:  lopn\n",
      "Enter the longitude coordinate:  lon\n",
      "Enter the latitude coordinate:  lat\n",
      "Enter the index name:  ID\n"
     ]
    },
    {
     "name": "stderr",
     "output_type": "stream",
     "text": [
      "INFO:p2p:Approx area of bounding box: 2,067.39 sq. km\n"
     ]
    },
    {
     "name": "stdout",
     "output_type": "stream",
     "text": [
      "Requesting network data within bounding box from Overpass API in 1 request(s)\n",
      "Posting to http://www.overpass-api.de/api/interpreter with timeout=180, \"{'data': '[out:json][timeout:180];(way[\"highway\"][\"highway\"!~\"cycleway|footway|path|pedestrian|steps|track|proposed|construction|bridleway|abandoned|platform|raceway|service\"][\"motor_vehicle\"!~\"no\"][\"motorcar\"!~\"no\"][\"service\"!~\"parking|parking_aisle|driveway|emergency_access\"](41.60021990,-87.95448850,42.07126140,-87.48049640);>;);out;'}\"\n",
      "Downloaded 48,348.1KB from www.overpass-api.de in 4.67 seconds\n",
      "Downloaded OSM network data within bounding box from Overpass API in 1 request(s) and 5.56 seconds\n",
      "Returning OSM data with 249,806 nodes and 55,393 ways...\n",
      "Edge node pairs completed. Took 79.76 seconds\n",
      "Returning processed graph with 77,575 nodes and 117,269 edges...\n",
      "Completed OSM data download and Pandana node and edge table creation in 89.67 seconds\n"
     ]
    },
    {
     "name": "stderr",
     "output_type": "stream",
     "text": [
      "/anaconda3/lib/python3.7/site-packages/pandas/core/generic.py:2531: PerformanceWarning: \n",
      "your performance may suffer as PyTables will pickle object types that it cannot\n",
      "map directly to c-types [inferred_type->mixed,key->block2_values] [items->['name', 'ref', 'highway', 'service', 'bridge', 'oneway', 'toll', 'area', 'junction']]\n",
      "\n",
      "  pytables.to_hdf(path_or_buf, key, self, **kwargs)\n",
      "INFO:p2p:Finished querying osm\n",
      "INFO:p2p:All operations completed in 95.81 seconds\n"
     ]
    }
   ],
   "source": [
    "# Specify driving distance matrix (takes ~1.5 minute to run) \n",
    "d_sym_mat = TransitMatrix('drive', \n",
    "                           primary_input='/Users/whlu/spatial_access/data/input_data/tracts2010.csv')\n",
    "\n",
    "# Run process. For driving, p2p queries OSM to fetch the street network and then output the shortest path transit matrix\n",
    "d_sym_mat.process()\n"
   ]
  },
  {
   "cell_type": "code",
   "execution_count": 16,
   "metadata": {},
   "outputs": [
    {
     "name": "stderr",
     "output_type": "stream",
     "text": [
      "INFO:p2p:Wrote to /Users/whlu/spatial_access/spatial_access/data/matrices/drive_sym_health_tracts.csv in 0.13 seconds\n"
     ]
    }
   ],
   "source": [
    "d_sym_mat.write_csv(outfile = \"/Users/whlu/spatial_access/spatial_access/data/matrices/drive_sym_health_tracts.csv\")\n",
    "\n",
    "# Saved as drive_sym_health_tracts.csv"
   ]
  },
  {
   "cell_type": "code",
   "execution_count": null,
   "metadata": {},
   "outputs": [],
   "source": [
    "d_sym_mat.write_tmx(outfile = \"/Users/whlu/spatial_access/spatial_access/data/matrices/drive_sym_health_tracts.tmx\")\n",
    "\n",
    "# Saved as drive_sym_health_tracts.tmx"
   ]
  },
  {
   "cell_type": "markdown",
   "metadata": {},
   "source": [
    "Now, snap the points to the units of analysis. However, snapping the destination points is not always so straightforward. Deciding which points (laying on the network) are assigned to each area of analysis may be arbitrary; therefore, it is important to scrutinize the structure of the data before doing any further processing. If the destinations fall within the unit of analysis, the best option is to run a within function that incorporates the destinations to the unit of analysis and then doing a join with the area IDs.\n",
    "The following image shows that in this case, we can safely run a function that assigns each point to the area of analysis of interest. "
   ]
  },
  {
   "cell_type": "markdown",
   "metadata": {},
   "source": [
    "<img src=\"figures/snap.png\" width=\"500\" title=\"Optional title\">"
   ]
  },
  {
   "cell_type": "markdown",
   "metadata": {},
   "source": [
    "**Spatial join of health facilities and area of analysis**\n",
    "\n",
    "Finally, in order to get the matrix of origins to destinations, we need to join the health facilities by block with the distance matrix previously generated. This will generate an asymmetric matrix with all the distances from destinations to all the units of analysis in Chicago."
   ]
  },
  {
   "cell_type": "code",
   "execution_count": 47,
   "metadata": {
    "code_folding": [
     0
    ],
    "collapsed": true
   },
   "outputs": [],
   "source": [
    "# Read destination files to join with boundaries \n",
    "health_gdf = gpd.read_file('/Users/whlu/spatial_access/data/input_data/health_chicago-point.shp')\n",
    "health_gdf.head()\n",
    "#Use symmetric matrix calculated above or read your previously saved results:\n",
    "sym_walk=pd.read_csv('/Users/whlu/spatial_access/spatial_access/data/matrices/walk_sym_health_tracts.csv')\n",
    "\n",
    "# Read boundaries files \n",
    "boundaries_gdf = gpd.read_file('/Users/whlu/spatial_access/data/chicago_boundaries/chi_blocks.shp')\n",
    "\n",
    "# Rename the ID name in order to match both data frames. \n",
    "sym_walk= sym_walk.rename(index=str, columns={\"Unnamed: 0\": \"geoid10\"})\n",
    "\n",
    "\n",
    "# Spatial join of amenities within each area of analysis \n",
    "#It drops values outside of the tracts shapefile. From 199 to 182 datapoints.\n",
    "s_join = gpd.sjoin(health_gdf, boundaries_gdf, how='inner', op='within')\n",
    "\n",
    "# Convert geopanda dataframe to non-spatial dataframe to join \n",
    "jb_df = pd.DataFrame(s_join)\n",
    "\n",
    "\n",
    "# Make sure the id is of the same data type in both data frames.\n",
    "# sym_walk.dtypes\n",
    "# jb_df.dtypes\n",
    "jb_df.geoid10=jb_df.geoid10.astype(int)\n",
    "jb_df=pd.DataFrame(jb_df['geoid10'])\n",
    "\n",
    "# Join the symmetric matrix with the spatially joined data (with geoid10 id)\n",
    "j_asym=pd.merge(sym_walk, jb_df, left_on='geoid10', right_on='geoid10', how='left')\n",
    "\n",
    "j_asym.to_csv('/Users/whlu/spatial_access/spatial_access/data/matrices/walk_asym_health_tracts_join.csv')"
   ]
  },
  {
   "cell_type": "code",
   "execution_count": 48,
   "metadata": {},
   "outputs": [
    {
     "data": {
      "text/html": [
       "<div>\n",
       "<style scoped>\n",
       "    .dataframe tbody tr th:only-of-type {\n",
       "        vertical-align: middle;\n",
       "    }\n",
       "\n",
       "    .dataframe tbody tr th {\n",
       "        vertical-align: top;\n",
       "    }\n",
       "\n",
       "    .dataframe thead th {\n",
       "        text-align: right;\n",
       "    }\n",
       "</style>\n",
       "<table border=\"1\" class=\"dataframe\">\n",
       "  <thead>\n",
       "    <tr style=\"text-align: right;\">\n",
       "      <th></th>\n",
       "      <th>geoid10</th>\n",
       "      <th>1</th>\n",
       "      <th>2</th>\n",
       "      <th>3</th>\n",
       "      <th>4</th>\n",
       "      <th>5</th>\n",
       "      <th>6</th>\n",
       "      <th>7</th>\n",
       "      <th>8</th>\n",
       "      <th>9</th>\n",
       "      <th>...</th>\n",
       "      <th>793</th>\n",
       "      <th>794</th>\n",
       "      <th>795</th>\n",
       "      <th>796</th>\n",
       "      <th>797</th>\n",
       "      <th>798</th>\n",
       "      <th>799</th>\n",
       "      <th>800</th>\n",
       "      <th>801</th>\n",
       "      <th>Unnamed: 802</th>\n",
       "    </tr>\n",
       "  </thead>\n",
       "  <tbody>\n",
       "    <tr>\n",
       "      <th>0</th>\n",
       "      <td>1</td>\n",
       "      <td>0</td>\n",
       "      <td>9881</td>\n",
       "      <td>9106</td>\n",
       "      <td>11593</td>\n",
       "      <td>12167</td>\n",
       "      <td>8364</td>\n",
       "      <td>7089</td>\n",
       "      <td>27241</td>\n",
       "      <td>7104</td>\n",
       "      <td>...</td>\n",
       "      <td>9824</td>\n",
       "      <td>15701</td>\n",
       "      <td>16077</td>\n",
       "      <td>16334</td>\n",
       "      <td>15570</td>\n",
       "      <td>15201</td>\n",
       "      <td>22104</td>\n",
       "      <td>13666</td>\n",
       "      <td>8169</td>\n",
       "      <td>NaN</td>\n",
       "    </tr>\n",
       "    <tr>\n",
       "      <th>1</th>\n",
       "      <td>2</td>\n",
       "      <td>9881</td>\n",
       "      <td>0</td>\n",
       "      <td>3326</td>\n",
       "      <td>2115</td>\n",
       "      <td>3592</td>\n",
       "      <td>6092</td>\n",
       "      <td>14890</td>\n",
       "      <td>18531</td>\n",
       "      <td>16327</td>\n",
       "      <td>...</td>\n",
       "      <td>4472</td>\n",
       "      <td>9291</td>\n",
       "      <td>8947</td>\n",
       "      <td>8756</td>\n",
       "      <td>8394</td>\n",
       "      <td>8751</td>\n",
       "      <td>13449</td>\n",
       "      <td>3924</td>\n",
       "      <td>4295</td>\n",
       "      <td>NaN</td>\n",
       "    </tr>\n",
       "    <tr>\n",
       "      <th>2</th>\n",
       "      <td>3</td>\n",
       "      <td>9106</td>\n",
       "      <td>3326</td>\n",
       "      <td>0</td>\n",
       "      <td>3297</td>\n",
       "      <td>3777</td>\n",
       "      <td>9084</td>\n",
       "      <td>15494</td>\n",
       "      <td>18504</td>\n",
       "      <td>15926</td>\n",
       "      <td>...</td>\n",
       "      <td>7464</td>\n",
       "      <td>6881</td>\n",
       "      <td>7245</td>\n",
       "      <td>7437</td>\n",
       "      <td>6673</td>\n",
       "      <td>6381</td>\n",
       "      <td>13367</td>\n",
       "      <td>5388</td>\n",
       "      <td>7287</td>\n",
       "      <td>NaN</td>\n",
       "    </tr>\n",
       "    <tr>\n",
       "      <th>3</th>\n",
       "      <td>4</td>\n",
       "      <td>11593</td>\n",
       "      <td>2115</td>\n",
       "      <td>3297</td>\n",
       "      <td>0</td>\n",
       "      <td>1670</td>\n",
       "      <td>7905</td>\n",
       "      <td>16709</td>\n",
       "      <td>16992</td>\n",
       "      <td>18146</td>\n",
       "      <td>...</td>\n",
       "      <td>6285</td>\n",
       "      <td>7568</td>\n",
       "      <td>7205</td>\n",
       "      <td>7014</td>\n",
       "      <td>6652</td>\n",
       "      <td>7028</td>\n",
       "      <td>11910</td>\n",
       "      <td>2482</td>\n",
       "      <td>6108</td>\n",
       "      <td>NaN</td>\n",
       "    </tr>\n",
       "    <tr>\n",
       "      <th>4</th>\n",
       "      <td>5</td>\n",
       "      <td>12167</td>\n",
       "      <td>3592</td>\n",
       "      <td>3777</td>\n",
       "      <td>1670</td>\n",
       "      <td>0</td>\n",
       "      <td>9382</td>\n",
       "      <td>17433</td>\n",
       "      <td>15746</td>\n",
       "      <td>18870</td>\n",
       "      <td>...</td>\n",
       "      <td>7762</td>\n",
       "      <td>6141</td>\n",
       "      <td>5778</td>\n",
       "      <td>5587</td>\n",
       "      <td>5225</td>\n",
       "      <td>5601</td>\n",
       "      <td>10609</td>\n",
       "      <td>2939</td>\n",
       "      <td>7585</td>\n",
       "      <td>NaN</td>\n",
       "    </tr>\n",
       "  </tbody>\n",
       "</table>\n",
       "<p>5 rows × 803 columns</p>\n",
       "</div>"
      ],
      "text/plain": [
       "   geoid10      1     2     3      4      5     6      7      8      9  ...  \\\n",
       "0        1      0  9881  9106  11593  12167  8364   7089  27241   7104  ...   \n",
       "1        2   9881     0  3326   2115   3592  6092  14890  18531  16327  ...   \n",
       "2        3   9106  3326     0   3297   3777  9084  15494  18504  15926  ...   \n",
       "3        4  11593  2115  3297      0   1670  7905  16709  16992  18146  ...   \n",
       "4        5  12167  3592  3777   1670      0  9382  17433  15746  18870  ...   \n",
       "\n",
       "    793    794    795    796    797    798    799    800   801  Unnamed: 802  \n",
       "0  9824  15701  16077  16334  15570  15201  22104  13666  8169           NaN  \n",
       "1  4472   9291   8947   8756   8394   8751  13449   3924  4295           NaN  \n",
       "2  7464   6881   7245   7437   6673   6381  13367   5388  7287           NaN  \n",
       "3  6285   7568   7205   7014   6652   7028  11910   2482  6108           NaN  \n",
       "4  7762   6141   5778   5587   5225   5601  10609   2939  7585           NaN  \n",
       "\n",
       "[5 rows x 803 columns]"
      ]
     },
     "execution_count": 48,
     "metadata": {},
     "output_type": "execute_result"
    }
   ],
   "source": [
    "#Check the output is correct\n",
    "j_asym.head()"
   ]
  },
  {
   "cell_type": "code",
   "execution_count": 49,
   "metadata": {},
   "outputs": [
    {
     "data": {
      "text/plain": [
       "(801, 803)"
      ]
     },
     "execution_count": 49,
     "metadata": {},
     "output_type": "execute_result"
    }
   ],
   "source": [
    "j_asym.shape"
   ]
  },
  {
   "cell_type": "markdown",
   "metadata": {},
   "source": [
    "Now that the user has the origin destination matrices, we can proceed to estimate metrics. For this demo's purpose, we will use only drive_asym_health_tracts.csv and walk_asym_health_tracts.csv to run the metrics."
   ]
  }
 ],
 "metadata": {
  "kernelspec": {
   "display_name": "Python 3",
   "language": "python",
   "name": "python3"
  },
  "language_info": {
   "codemirror_mode": {
    "name": "ipython",
    "version": 3
   },
   "file_extension": ".py",
   "mimetype": "text/x-python",
   "name": "python",
   "nbconvert_exporter": "python",
   "pygments_lexer": "ipython3",
   "version": "3.7.3"
  }
 },
 "nbformat": 4,
 "nbformat_minor": 2
}
