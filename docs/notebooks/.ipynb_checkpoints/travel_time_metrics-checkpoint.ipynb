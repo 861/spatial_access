{
 "cells": [
  {
   "cell_type": "markdown",
   "metadata": {},
   "source": [
    "# Travel Time Measures"
   ]
  },
  {
   "cell_type": "code",
   "execution_count": 1,
   "metadata": {},
   "outputs": [],
   "source": [
    "import sys, os\n",
    "os.chdir('scripts')\n",
    "from CommunityAnalytics import *\n",
    "import pandas as pd "
   ]
  },
  {
   "cell_type": "code",
   "execution_count": 2,
   "metadata": {},
   "outputs": [],
   "source": [
    "%matplotlib inline"
   ]
  },
  {
   "cell_type": "code",
   "execution_count": 3,
   "metadata": {},
   "outputs": [],
   "source": [
    "#View sources and destinations for Chicago Health Facilities\n",
    "sources=pd.read_csv('data/ORIG/tracts2010.csv')\n",
    "dest=pd.read_csv('data/DEST/health_chicago.csv')"
   ]
  },
  {
   "cell_type": "code",
   "execution_count": 4,
   "metadata": {},
   "outputs": [
    {
     "data": {
      "text/html": [
       "<div>\n",
       "<style scoped>\n",
       "    .dataframe tbody tr th:only-of-type {\n",
       "        vertical-align: middle;\n",
       "    }\n",
       "\n",
       "    .dataframe tbody tr th {\n",
       "        vertical-align: top;\n",
       "    }\n",
       "\n",
       "    .dataframe thead th {\n",
       "        text-align: right;\n",
       "    }\n",
       "</style>\n",
       "<table border=\"1\" class=\"dataframe\">\n",
       "  <thead>\n",
       "    <tr style=\"text-align: right;\">\n",
       "      <th></th>\n",
       "      <th>geoid10</th>\n",
       "      <th>lon</th>\n",
       "      <th>lat</th>\n",
       "      <th>Pop2014</th>\n",
       "      <th>Pov14</th>\n",
       "      <th>community</th>\n",
       "    </tr>\n",
       "  </thead>\n",
       "  <tbody>\n",
       "    <tr>\n",
       "      <th>0</th>\n",
       "      <td>17031842400</td>\n",
       "      <td>-87.630040</td>\n",
       "      <td>41.742475</td>\n",
       "      <td>5157</td>\n",
       "      <td>769</td>\n",
       "      <td>44</td>\n",
       "    </tr>\n",
       "    <tr>\n",
       "      <th>1</th>\n",
       "      <td>17031840300</td>\n",
       "      <td>-87.681882</td>\n",
       "      <td>41.832094</td>\n",
       "      <td>5881</td>\n",
       "      <td>1021</td>\n",
       "      <td>59</td>\n",
       "    </tr>\n",
       "    <tr>\n",
       "      <th>2</th>\n",
       "      <td>17031841100</td>\n",
       "      <td>-87.635098</td>\n",
       "      <td>41.851006</td>\n",
       "      <td>3363</td>\n",
       "      <td>2742</td>\n",
       "      <td>34</td>\n",
       "    </tr>\n",
       "    <tr>\n",
       "      <th>3</th>\n",
       "      <td>17031841200</td>\n",
       "      <td>-87.683342</td>\n",
       "      <td>41.855562</td>\n",
       "      <td>3710</td>\n",
       "      <td>1819</td>\n",
       "      <td>31</td>\n",
       "    </tr>\n",
       "    <tr>\n",
       "      <th>4</th>\n",
       "      <td>17031838200</td>\n",
       "      <td>-87.675079</td>\n",
       "      <td>41.870416</td>\n",
       "      <td>3296</td>\n",
       "      <td>361</td>\n",
       "      <td>28</td>\n",
       "    </tr>\n",
       "  </tbody>\n",
       "</table>\n",
       "</div>"
      ],
      "text/plain": [
       "       geoid10        lon        lat  Pop2014  Pov14  community\n",
       "0  17031842400 -87.630040  41.742475     5157    769         44\n",
       "1  17031840300 -87.681882  41.832094     5881   1021         59\n",
       "2  17031841100 -87.635098  41.851006     3363   2742         34\n",
       "3  17031841200 -87.683342  41.855562     3710   1819         31\n",
       "4  17031838200 -87.675079  41.870416     3296    361         28"
      ]
     },
     "execution_count": 4,
     "metadata": {},
     "output_type": "execute_result"
    }
   ],
   "source": [
    "sources.head()"
   ]
  },
  {
   "cell_type": "code",
   "execution_count": 5,
   "metadata": {},
   "outputs": [
    {
     "data": {
      "text/html": [
       "<div>\n",
       "<style scoped>\n",
       "    .dataframe tbody tr th:only-of-type {\n",
       "        vertical-align: middle;\n",
       "    }\n",
       "\n",
       "    .dataframe tbody tr th {\n",
       "        vertical-align: top;\n",
       "    }\n",
       "\n",
       "    .dataframe thead th {\n",
       "        text-align: right;\n",
       "    }\n",
       "</style>\n",
       "<table border=\"1\" class=\"dataframe\">\n",
       "  <thead>\n",
       "    <tr style=\"text-align: right;\">\n",
       "      <th></th>\n",
       "      <th>ID</th>\n",
       "      <th>Facility</th>\n",
       "      <th>lat</th>\n",
       "      <th>lon</th>\n",
       "      <th>Type</th>\n",
       "      <th>target</th>\n",
       "      <th>category</th>\n",
       "      <th>community</th>\n",
       "    </tr>\n",
       "  </thead>\n",
       "  <tbody>\n",
       "    <tr>\n",
       "      <th>0</th>\n",
       "      <td>1</td>\n",
       "      <td>American Indian Health Service of Chicago, Inc.</td>\n",
       "      <td>41.956676</td>\n",
       "      <td>-87.651879</td>\n",
       "      <td>5</td>\n",
       "      <td>127000</td>\n",
       "      <td>Other Health Providers</td>\n",
       "      <td>3</td>\n",
       "    </tr>\n",
       "    <tr>\n",
       "      <th>1</th>\n",
       "      <td>2</td>\n",
       "      <td>Hamdard Center for Health and Human Services</td>\n",
       "      <td>41.997852</td>\n",
       "      <td>-87.669535</td>\n",
       "      <td>5</td>\n",
       "      <td>190000</td>\n",
       "      <td>Other Health Providers</td>\n",
       "      <td>77</td>\n",
       "    </tr>\n",
       "    <tr>\n",
       "      <th>2</th>\n",
       "      <td>3</td>\n",
       "      <td>Infant Welfare Society of Chicago</td>\n",
       "      <td>41.924904</td>\n",
       "      <td>-87.717270</td>\n",
       "      <td>5</td>\n",
       "      <td>137000</td>\n",
       "      <td>Other Health Providers</td>\n",
       "      <td>22</td>\n",
       "    </tr>\n",
       "    <tr>\n",
       "      <th>3</th>\n",
       "      <td>4</td>\n",
       "      <td>Mercy Family - Henry Booth House Family Health...</td>\n",
       "      <td>41.841694</td>\n",
       "      <td>-87.624790</td>\n",
       "      <td>5</td>\n",
       "      <td>159000</td>\n",
       "      <td>Other Health Providers</td>\n",
       "      <td>35</td>\n",
       "    </tr>\n",
       "    <tr>\n",
       "      <th>4</th>\n",
       "      <td>6</td>\n",
       "      <td>Cook County - Dr. Jorge Prieto Health Center</td>\n",
       "      <td>41.847143</td>\n",
       "      <td>-87.724975</td>\n",
       "      <td>5</td>\n",
       "      <td>166000</td>\n",
       "      <td>Other Health Providers</td>\n",
       "      <td>30</td>\n",
       "    </tr>\n",
       "  </tbody>\n",
       "</table>\n",
       "</div>"
      ],
      "text/plain": [
       "   ID                                           Facility        lat  \\\n",
       "0   1    American Indian Health Service of Chicago, Inc.  41.956676   \n",
       "1   2       Hamdard Center for Health and Human Services  41.997852   \n",
       "2   3                  Infant Welfare Society of Chicago  41.924904   \n",
       "3   4  Mercy Family - Henry Booth House Family Health...  41.841694   \n",
       "4   6       Cook County - Dr. Jorge Prieto Health Center  41.847143   \n",
       "\n",
       "         lon  Type  target                category  community  \n",
       "0 -87.651879     5  127000  Other Health Providers          3  \n",
       "1 -87.669535     5  190000  Other Health Providers         77  \n",
       "2 -87.717270     5  137000  Other Health Providers         22  \n",
       "3 -87.624790     5  159000  Other Health Providers         35  \n",
       "4 -87.724975     5  166000  Other Health Providers         30  "
      ]
     },
     "execution_count": 5,
     "metadata": {},
     "output_type": "execute_result"
    }
   ],
   "source": [
    "dest.head()"
   ]
  },
  {
   "cell_type": "markdown",
   "metadata": {},
   "source": [
    "<a id='overview'></a>"
   ]
  },
  {
   "cell_type": "code",
   "execution_count": 6,
   "metadata": {},
   "outputs": [
    {
     "name": "stdout",
     "output_type": "stream",
     "text": [
      "The variables in your data set are:\n",
      ">  geoid10\n",
      ">  lon\n",
      ">  lat\n",
      ">  Pop2014\n",
      ">  Pov14\n",
      ">  community\n",
      "If you have no population variable, write \"skip\" (no quotations)\n",
      "If you have no lower areal unit variable, write \"skip\" (no quotations)\n",
      "The variables in your data set are:\n",
      ">  ID\n",
      ">  Facility\n",
      ">  lat\n",
      ">  lon\n",
      ">  Type\n",
      ">  target\n",
      ">  category\n",
      ">  community\n",
      "If you have no target variable, write \"skip\" (no quotations)\n",
      "If you have no lower areal unit variable, write \"skip\" (no quotations)\n",
      "If you have no category variable, write \"skip\" (no quotations)\n"
     ]
    },
    {
     "name": "stderr",
     "output_type": "stream",
     "text": [
      "INFO:ScoreModel:Loaded sp matrix from file: data/matrices/walk_asym_health_tracts.csv\n",
      "INFO:ScoreModel:Finished loading sp_matrix in 0.14 seconds\n",
      "INFO:ScoreModel:Processing... This could take a while\n",
      "INFO:ScoreModel:Finished processing ModelData in 0.06 seconds\n"
     ]
    }
   ],
   "source": [
    "tt=TTMetrics(network_type='walk',\n",
    "             sp_matrix_filename='data/matrices/walk_asym_health_tracts.csv',\n",
    "             source_filename='data/ORIG/tracts2010.csv',\n",
    "             dest_filename='data/DEST/health_chicago.csv')"
   ]
  },
  {
   "cell_type": "code",
   "execution_count": 7,
   "metadata": {},
   "outputs": [],
   "source": [
    "tt.calculate()"
   ]
  },
  {
   "cell_type": "markdown",
   "metadata": {},
   "source": [
    "## Count of Nearby Destinations"
   ]
  },
  {
   "cell_type": "code",
   "execution_count": 8,
   "metadata": {},
   "outputs": [],
   "source": [
    "#Use .n_dests_in_range to estimate the number of facilities by category within a buffer (time defined in upper)\n",
    "tt.n_dests_in_range.to_csv('data/other_metrics/nd_health_tracts.csv')"
   ]
  },
  {
   "cell_type": "code",
   "execution_count": 9,
   "metadata": {},
   "outputs": [
    {
     "data": {
      "text/html": [
       "<div>\n",
       "<style scoped>\n",
       "    .dataframe tbody tr th:only-of-type {\n",
       "        vertical-align: middle;\n",
       "    }\n",
       "\n",
       "    .dataframe tbody tr th {\n",
       "        vertical-align: top;\n",
       "    }\n",
       "\n",
       "    .dataframe thead th {\n",
       "        text-align: right;\n",
       "    }\n",
       "</style>\n",
       "<table border=\"1\" class=\"dataframe\">\n",
       "  <thead>\n",
       "    <tr style=\"text-align: right;\">\n",
       "      <th></th>\n",
       "      <th>Hospitals</th>\n",
       "      <th>All Free Health Clinics</th>\n",
       "      <th>Other Health Providers</th>\n",
       "      <th>Federally Qualified Health Centers</th>\n",
       "      <th>School-Based Health Centers</th>\n",
       "    </tr>\n",
       "  </thead>\n",
       "  <tbody>\n",
       "    <tr>\n",
       "      <th>17031010100</th>\n",
       "      <td>1</td>\n",
       "      <td>0</td>\n",
       "      <td>0</td>\n",
       "      <td>4</td>\n",
       "      <td>1</td>\n",
       "    </tr>\n",
       "    <tr>\n",
       "      <th>17031010201</th>\n",
       "      <td>1</td>\n",
       "      <td>0</td>\n",
       "      <td>0</td>\n",
       "      <td>4</td>\n",
       "      <td>1</td>\n",
       "    </tr>\n",
       "    <tr>\n",
       "      <th>17031010202</th>\n",
       "      <td>1</td>\n",
       "      <td>0</td>\n",
       "      <td>1</td>\n",
       "      <td>4</td>\n",
       "      <td>1</td>\n",
       "    </tr>\n",
       "    <tr>\n",
       "      <th>17031010300</th>\n",
       "      <td>0</td>\n",
       "      <td>0</td>\n",
       "      <td>1</td>\n",
       "      <td>5</td>\n",
       "      <td>1</td>\n",
       "    </tr>\n",
       "    <tr>\n",
       "      <th>17031010400</th>\n",
       "      <td>1</td>\n",
       "      <td>0</td>\n",
       "      <td>1</td>\n",
       "      <td>3</td>\n",
       "      <td>1</td>\n",
       "    </tr>\n",
       "  </tbody>\n",
       "</table>\n",
       "</div>"
      ],
      "text/plain": [
       "             Hospitals  All Free Health Clinics  Other Health Providers  \\\n",
       "17031010100          1                        0                       0   \n",
       "17031010201          1                        0                       0   \n",
       "17031010202          1                        0                       1   \n",
       "17031010300          0                        0                       1   \n",
       "17031010400          1                        0                       1   \n",
       "\n",
       "             Federally Qualified Health Centers  School-Based Health Centers  \n",
       "17031010100                                   4                            1  \n",
       "17031010201                                   4                            1  \n",
       "17031010202                                   4                            1  \n",
       "17031010300                                   5                            1  \n",
       "17031010400                                   3                            1  "
      ]
     },
     "execution_count": 9,
     "metadata": {},
     "output_type": "execute_result"
    }
   ],
   "source": [
    "tt.n_dests_in_range.head()"
   ]
  },
  {
   "cell_type": "markdown",
   "metadata": {},
   "source": [
    "**Results of count of nearby destinations by category**"
   ]
  },
  {
   "cell_type": "markdown",
   "metadata": {},
   "source": [
    "<img src=\"figures/nd_2.png\" width=\"1800\" title=\"Optional title\"  align=\"center\">"
   ]
  },
  {
   "cell_type": "markdown",
   "metadata": {},
   "source": [
    "## Time to Closest Destination"
   ]
  },
  {
   "cell_type": "code",
   "execution_count": 10,
   "metadata": {},
   "outputs": [],
   "source": [
    "#Use .near_nbr to create the time to the nearest neighbor within a buffer (time defined in upper)\n",
    "tt.near_nbr.to_csv('data/other_metrics/nn_health_tracts.csv')"
   ]
  },
  {
   "cell_type": "code",
   "execution_count": 11,
   "metadata": {},
   "outputs": [
    {
     "data": {
      "text/html": [
       "<div>\n",
       "<style scoped>\n",
       "    .dataframe tbody tr th:only-of-type {\n",
       "        vertical-align: middle;\n",
       "    }\n",
       "\n",
       "    .dataframe tbody tr th {\n",
       "        vertical-align: top;\n",
       "    }\n",
       "\n",
       "    .dataframe thead th {\n",
       "        text-align: right;\n",
       "    }\n",
       "</style>\n",
       "<table border=\"1\" class=\"dataframe\">\n",
       "  <thead>\n",
       "    <tr style=\"text-align: right;\">\n",
       "      <th></th>\n",
       "      <th>Hospitals</th>\n",
       "      <th>Federally Qualified Health Centers</th>\n",
       "      <th>School-Based Health Centers</th>\n",
       "      <th>All Free Health Clinics</th>\n",
       "      <th>Other Health Providers</th>\n",
       "    </tr>\n",
       "  </thead>\n",
       "  <tbody>\n",
       "    <tr>\n",
       "      <th>17031010100</th>\n",
       "      <td>1195</td>\n",
       "      <td>200</td>\n",
       "      <td>1722</td>\n",
       "      <td>3140</td>\n",
       "      <td>2008</td>\n",
       "    </tr>\n",
       "    <tr>\n",
       "      <th>17031010201</th>\n",
       "      <td>1010</td>\n",
       "      <td>469</td>\n",
       "      <td>1791</td>\n",
       "      <td>2377</td>\n",
       "      <td>1907</td>\n",
       "    </tr>\n",
       "    <tr>\n",
       "      <th>17031010202</th>\n",
       "      <td>1401</td>\n",
       "      <td>396</td>\n",
       "      <td>1453</td>\n",
       "      <td>2705</td>\n",
       "      <td>1672</td>\n",
       "    </tr>\n",
       "    <tr>\n",
       "      <th>17031010300</th>\n",
       "      <td>1802</td>\n",
       "      <td>531</td>\n",
       "      <td>1377</td>\n",
       "      <td>3140</td>\n",
       "      <td>1746</td>\n",
       "    </tr>\n",
       "    <tr>\n",
       "      <th>17031010400</th>\n",
       "      <td>1407</td>\n",
       "      <td>921</td>\n",
       "      <td>979</td>\n",
       "      <td>2882</td>\n",
       "      <td>1317</td>\n",
       "    </tr>\n",
       "  </tbody>\n",
       "</table>\n",
       "</div>"
      ],
      "text/plain": [
       "             Hospitals  Federally Qualified Health Centers  \\\n",
       "17031010100       1195                                 200   \n",
       "17031010201       1010                                 469   \n",
       "17031010202       1401                                 396   \n",
       "17031010300       1802                                 531   \n",
       "17031010400       1407                                 921   \n",
       "\n",
       "             School-Based Health Centers  All Free Health Clinics  \\\n",
       "17031010100                         1722                     3140   \n",
       "17031010201                         1791                     2377   \n",
       "17031010202                         1453                     2705   \n",
       "17031010300                         1377                     3140   \n",
       "17031010400                          979                     2882   \n",
       "\n",
       "             Other Health Providers  \n",
       "17031010100                    2008  \n",
       "17031010201                    1907  \n",
       "17031010202                    1672  \n",
       "17031010300                    1746  \n",
       "17031010400                    1317  "
      ]
     },
     "execution_count": 11,
     "metadata": {},
     "output_type": "execute_result"
    }
   ],
   "source": [
    "tt.near_nbr.head()"
   ]
  },
  {
   "cell_type": "markdown",
   "metadata": {},
   "source": [
    "**Results of time to nearest destination by category**"
   ]
  },
  {
   "cell_type": "markdown",
   "metadata": {},
   "source": [
    "<img src=\"figures/nn_2.png\" width=\"1800\" title=\"Optional title\"  align=\"center\">"
   ]
  },
  {
   "cell_type": "markdown",
   "metadata": {},
   "source": [
    "**Empirical Cumulative Distribution Function Plots**"
   ]
  },
  {
   "cell_type": "code",
   "execution_count": 12,
   "metadata": {},
   "outputs": [
    {
     "data": {
      "image/png": "[encoded data removed]",
      "text/plain": [
       "<Figure size 576x288 with 1 Axes>"
      ]
     },
     "metadata": {},
     "output_type": "display_data"
    },
    {
     "name": "stderr",
     "output_type": "stream",
     "text": [
      "INFO:ScoreModel:Plot was saved to: data/figures/fig_0.png\n"
     ]
    }
   ],
   "source": [
    "tt.plot_nearest_providers(limit_categories=None,\n",
    "                              n_bins=300,\n",
    "                              resolution='block',\n",
    "                              title=\"Time to Nearest Neighbor Health Provider - CDF by Area\")"
   ]
  },
  {
   "cell_type": "code",
   "execution_count": 13,
   "metadata": {},
   "outputs": [
    {
     "data": {
      "image/png": "[encoded data removed]",
      "text/plain": [
       "<Figure size 576x288 with 1 Axes>"
      ]
     },
     "metadata": {},
     "output_type": "display_data"
    },
    {
     "name": "stderr",
     "output_type": "stream",
     "text": [
      "INFO:ScoreModel:Plot was saved to: data/figures/fig_1.png\n"
     ]
    }
   ],
   "source": [
    "tt.plot_nearest_providers(limit_categories=None,\n",
    "                              n_bins=300,\n",
    "                              resolution='population',\n",
    "                              title=\"Time to Nearest Neighbor Health Provider- CDF by Population\")"
   ]
  },
  {
   "cell_type": "markdown",
   "metadata": {},
   "source": [
    "Other metrics results are saved under Access_health_tracts.shp.  \n",
    "The prefix nd stands for the count of nearby destinations metric and the prefix nn stands for the time to the closest destination."
   ]
  }
 ],
 "metadata": {
  "kernelspec": {
   "display_name": "Python 3",
   "language": "python",
   "name": "python3"
  },
  "language_info": {
   "codemirror_mode": {
    "name": "ipython",
    "version": 3
   },
   "file_extension": ".py",
   "mimetype": "text/x-python",
   "name": "python",
   "nbconvert_exporter": "python",
   "pygments_lexer": "ipython3",
   "version": "3.6.5"
  }
 },
 "nbformat": 4,
 "nbformat_minor": 2
}
