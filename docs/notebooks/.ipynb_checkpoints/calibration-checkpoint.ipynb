{
 "cells": [
  {
   "cell_type": "markdown",
   "metadata": {},
   "source": [
    "## P2P Calibration \n",
    "put at the end of p2p in order to import transitmatrix\n",
    "\n",
    "We use Graphhopper in order to test the p2p calibration. A Graphhopper API is required to run this process and it can be obtained here:\n",
    "https://graphhopper.com/api/1/docs/FAQ/\n",
    "\n",
    "Note: You can also use a GoogleMaps API.\n",
    "\n",
    "\n",
    "Show the mean and stddev of the difference between p2p's route time\n",
    "and GraphHopper's route time, in seconds.\n",
    "\n",
    "IMPORTANT: To use this, must have a valid GraphHopper Matrix API key\n",
    "saved in a text file in this directory called GRAPHHOPPER_API_KEY.txt\n",
    "\n",
    "Positive differences indicate p2p's route was longer, negative times indicates\n",
    "that p2p's route was shorter."
   ]
  },
  {
   "cell_type": "code",
   "execution_count": 8,
   "metadata": {},
   "outputs": [],
   "source": [
    "import pandas as pd"
   ]
  },
  {
   "cell_type": "code",
   "execution_count": 2,
   "metadata": {},
   "outputs": [],
   "source": [
    "# P2P Calibration \n",
    "#need this because p2p and graphhopper use synonyms for \n",
    "#vehicle/route types\n",
    "p2p_to_graphhopper_type_names = {\n",
    "    'drive' : 'car',\n",
    "    'walk' : 'foot',\n",
    "    'bike' : 'bike'\n",
    "}\n",
    "\n",
    "def sample_one_matrix(df, tm, network_type, api_key):\n",
    "    '''\n",
    "    Test one ditance matrix\n",
    "    '''\n",
    "\n",
    "    base_url = \"https://graphhopper.com/api/1/matrix\"\n",
    "    first = True\n",
    "    for data in df.itertuples():\n",
    "        x_data = data[4]\n",
    "        y_data = data[5]\n",
    "        if first:\n",
    "            point_string = \"?point={},{}\".format(x_data, y_data)\n",
    "            first = False\n",
    "        else:\n",
    "            point_string = \"&point={},{}\".format(x_data, y_data)\n",
    "\n",
    "        base_url += point_string\n",
    "\n",
    "    param_string = \"&type=json&vehicle={}&debug=true&out_array=times&key={}\".format(network_type, api_key)\n",
    "    base_url += param_string\n",
    "\n",
    "\n",
    "    try:\n",
    "        r = requests.get(base_url)\n",
    "\n",
    "        results = r.json()['times']\n",
    "    except:\n",
    "        print('there was a problem fetching from GraphHopper. Exiting...')\n",
    "        sys.exit()\n",
    "\n",
    "\n",
    "    already_checked = set()\n",
    "    diffs = []\n",
    "    for i, row in enumerate(df.index):\n",
    "        for j, col in enumerate(df.index):\n",
    "            if (row, col) not in already_checked and row != col:\n",
    "                calculated_time = tm.get(row, col)\n",
    "                actual_time = results[i][j]\n",
    "                diff = calculated_time - actual_time\n",
    "                diffs.append(diff)\n",
    "                already_checked.add((row, col))\n",
    "                already_checked.add((col, row))\n",
    "\n",
    "    stddev = np.std(diffs)\n",
    "    mean = np.mean(diffs)\n",
    "\n",
    "\n",
    "    print('diffs mean: {}, stddev: {}'.format(mean, stddev))\n",
    "\n",
    "\n",
    "def calibrate(network_type='walk', input_file='resources/LEHD_blocks.csv', \n",
    "    sl_file='resources/condensed_street_data.csv', n=1):\n",
    "    '''\n",
    "    Show the mean and stddev of the difference between p2p's route time\n",
    "    and GraphHopper's route time, in seconds.\n",
    "\n",
    "    IMPORTANT: To use this, must have a valid GraphHopper Matrix API key\n",
    "    saved in a text file in this directory called GRAPHHOPPER_API_KEY.txt\n",
    "\n",
    "    Positive differences indicate p2p's route was longer, negative times indicates\n",
    "    that p2p's route was shorter.\n",
    "    '''\n",
    "    if network_type == 'drive':\n",
    "        assert sl_file is not None, 'must provide sl_file for use with driving network calibration'\n",
    "    with open('GRAPHHOPPER_API_KEY.txt', 'r') as api_file:\n",
    "        api_key = api_file.read()\n",
    "        api_key = api_key.strip()\n",
    "    gh_type_name = p2p_to_graphhopper_type_names[network_type]\n",
    "\n",
    "    tm = TransitMatrix(network_type=network_type, primary_input=input_file)\n",
    "    if network_type == 'drive':\n",
    "        tm.process(speed_limit_filename=sl_file)\n",
    "    else:\n",
    "        tm.process()\n",
    "\n",
    "    #extract the column names\n",
    "    xcol = ''\n",
    "    ycol = ''\n",
    "    idx = ''\n",
    "\n",
    "    df = pd.read_csv(input_file)\n",
    "\n",
    "    print('The variables in your data set are:')\n",
    "    df_cols = df.columns.values\n",
    "    for var in df_cols:\n",
    "        print('> ',var)\n",
    "    while xcol not in df_cols:\n",
    "        xcol = input('Enter the x coordinate (Latitude): ')\n",
    "    while ycol not in df_cols:\n",
    "        ycol = input('Enter the y coordinate (Longitude): ')\n",
    "    while idx not in df_cols:\n",
    "        idx = input('Enter the index name: ')\n",
    "\n",
    "    df.rename(columns={xcol:'x',ycol:'y', idx:'idx'},inplace=True)\n",
    "    df.set_index('idx', inplace=True)\n",
    "\n",
    "    for i in range(n):\n",
    "\n",
    "        sample_one_matrix(df.sample(24), tm, gh_type_name, api_key)\n",
    "    "
   ]
  },
  {
   "cell_type": "code",
   "execution_count": null,
   "metadata": {},
   "outputs": [],
   "source": [
    "calibrate(network_type='walk',\n",
    "          input_file='data/ORIG/tracts2010.csv',\n",
    "          sl_file='data/DEST/health_chicago.csv',\n",
    "          n=1)"
   ]
  },
  {
   "cell_type": "markdown",
   "metadata": {},
   "source": [
    "## Epsilon Calibration"
   ]
  },
  {
   "cell_type": "markdown",
   "metadata": {},
   "source": [
    "<a id='scoremodel'></a>"
   ]
  },
  {
   "cell_type": "code",
   "execution_count": 9,
   "metadata": {},
   "outputs": [
    {
     "data": {
      "text/plain": [
       "(801, 200)"
      ]
     },
     "execution_count": 9,
     "metadata": {},
     "output_type": "execute_result"
    }
   ],
   "source": [
    "# Load the travel time distance matrix and assess dimensions:  \n",
    "df = pd.read_csv('scripts/data/matrices/walk_asym_health_tracts.csv')\n",
    "df.shape"
   ]
  },
  {
   "cell_type": "code",
   "execution_count": 10,
   "metadata": {},
   "outputs": [],
   "source": [
    "#Identify percentage of values outside epsilon:\n",
    "p_eps=((df.groupby('1').count()).iloc[0][0])/len(df)"
   ]
  },
  {
   "cell_type": "code",
   "execution_count": 11,
   "metadata": {},
   "outputs": [
    {
     "name": "stdout",
     "output_type": "stream",
     "text": [
      "Of the total matrix  0.25% of the values are outside the bounding box. If the value is below 1% it seems epsilon is appropriate for this particular dataset.\n"
     ]
    }
   ],
   "source": [
    "print (\"Of the total matrix \",\"{0:.2f}%\".format(p_eps* 100),\"of the values are outside the bounding box. If the value is below 1% it seems epsilon is appropriate for this particular dataset.\")"
   ]
  }
 ],
 "metadata": {
  "kernelspec": {
   "display_name": "Python 3",
   "language": "python",
   "name": "python3"
  },
  "language_info": {
   "codemirror_mode": {
    "name": "ipython",
    "version": 3
   },
   "file_extension": ".py",
   "mimetype": "text/x-python",
   "name": "python",
   "nbconvert_exporter": "python",
   "pygments_lexer": "ipython3",
   "version": "3.6.5"
  }
 },
 "nbformat": 4,
 "nbformat_minor": 2
}
