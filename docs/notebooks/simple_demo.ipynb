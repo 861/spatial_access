{
 "cells": [
  {
   "cell_type": "markdown",
   "metadata": {},
   "source": [
    "# Simple Demo\n",
    "This notebook will run through 12 sources and 7 destinations.  \n",
    "It will create a 12x7 walking matrix of amenities in Hyde Park, Chicago.  \n",
    "Then, it will run through a basic version of each access and coverage metric to illustrate it's usage."
   ]
  },
  {
   "cell_type": "code",
   "execution_count": 1,
   "metadata": {},
   "outputs": [
    {
     "name": "stdout",
     "output_type": "stream",
     "text": [
      "Name: spatial-access\n",
      "Version: 1.0.0\n",
      "Summary: UNKNOWN\n",
      "Home-page: https://github.com/GeoDaCenter/spatial_access\n",
      "Author: Logan Noel (lmnoel)\n",
      "Author-email: lnoel@uchicago.edu\n",
      "License: GPL\n",
      "Location: /anaconda/lib/python3.6/site-packages/spatial_access-1.0.0-py3.6-macosx-10.7-x86_64.egg\n",
      "Requires: fiona, cython, matplotlib, jellyfish, geopandas, psutil, pandas, numpy, osmnet, scipy, geopy, shapely, tables, scikit-learn, atlas, descartes, rtree, rtree\n",
      "Required-by: \n"
     ]
    }
   ],
   "source": [
    "#check to see what version of spatial access the user is using\n",
    "! pip show spatial-access"
   ]
  },
  {
   "cell_type": "markdown",
   "metadata": {},
   "source": [
    "## Creating the Matrix"
   ]
  },
  {
   "cell_type": "code",
   "execution_count": 2,
   "metadata": {},
   "outputs": [
    {
     "data": {
      "text/plain": [
       "'/Users/irenefarah/Downloads/push/spatial_access/docs/notebooks'"
      ]
     },
     "execution_count": 2,
     "metadata": {},
     "output_type": "execute_result"
    }
   ],
   "source": [
    "pwd"
   ]
  },
  {
   "cell_type": "code",
   "execution_count": 3,
   "metadata": {},
   "outputs": [
    {
     "name": "stdout",
     "output_type": "stream",
     "text": [
      "/Users/irenefarah/Downloads/push/spatial_access\n"
     ]
    }
   ],
   "source": [
    "cd '/Users/irenefarah/Downloads/push/spatial_access/'"
   ]
  },
  {
   "cell_type": "code",
   "execution_count": 4,
   "metadata": {},
   "outputs": [],
   "source": [
    "from spatial_access.p2p import *"
   ]
  },
  {
   "cell_type": "code",
   "execution_count": 5,
   "metadata": {},
   "outputs": [],
   "source": [
    "import pandas as pd\n",
    "sources_df = pd.read_csv('data/input_data/sources/hyde_park_tracts.csv')\n",
    "dests_df = pd.read_csv('data/input_data/destinations/hyde_park_dests.csv')\n"
   ]
  },
  {
   "cell_type": "code",
   "execution_count": 7,
   "metadata": {},
   "outputs": [
    {
     "data": {
      "text/html": [
       "<div>\n",
       "<style scoped>\n",
       "    .dataframe tbody tr th:only-of-type {\n",
       "        vertical-align: middle;\n",
       "    }\n",
       "\n",
       "    .dataframe tbody tr th {\n",
       "        vertical-align: top;\n",
       "    }\n",
       "\n",
       "    .dataframe thead th {\n",
       "        text-align: right;\n",
       "    }\n",
       "</style>\n",
       "<table border=\"1\" class=\"dataframe\">\n",
       "  <thead>\n",
       "    <tr style=\"text-align: right;\">\n",
       "      <th></th>\n",
       "      <th>geoid10</th>\n",
       "      <th>lon</th>\n",
       "      <th>lat</th>\n",
       "      <th>Pop2014</th>\n",
       "      <th>Pov14</th>\n",
       "      <th>community</th>\n",
       "    </tr>\n",
       "  </thead>\n",
       "  <tbody>\n",
       "    <tr>\n",
       "      <th>0</th>\n",
       "      <td>17031836300</td>\n",
       "      <td>-87.601757</td>\n",
       "      <td>41.801532</td>\n",
       "      <td>6465</td>\n",
       "      <td>234</td>\n",
       "      <td>41</td>\n",
       "    </tr>\n",
       "    <tr>\n",
       "      <th>1</th>\n",
       "      <td>17031836200</td>\n",
       "      <td>-87.601284</td>\n",
       "      <td>41.790469</td>\n",
       "      <td>1329</td>\n",
       "      <td>47</td>\n",
       "      <td>41</td>\n",
       "    </tr>\n",
       "    <tr>\n",
       "      <th>2</th>\n",
       "      <td>17031410100</td>\n",
       "      <td>-87.579323</td>\n",
       "      <td>41.801497</td>\n",
       "      <td>1956</td>\n",
       "      <td>551</td>\n",
       "      <td>41</td>\n",
       "    </tr>\n",
       "    <tr>\n",
       "      <th>3</th>\n",
       "      <td>17031410200</td>\n",
       "      <td>-87.594269</td>\n",
       "      <td>41.801668</td>\n",
       "      <td>1248</td>\n",
       "      <td>362</td>\n",
       "      <td>41</td>\n",
       "    </tr>\n",
       "    <tr>\n",
       "      <th>4</th>\n",
       "      <td>17031410500</td>\n",
       "      <td>-87.603745</td>\n",
       "      <td>41.797827</td>\n",
       "      <td>2630</td>\n",
       "      <td>717</td>\n",
       "      <td>41</td>\n",
       "    </tr>\n",
       "    <tr>\n",
       "      <th>5</th>\n",
       "      <td>17031410600</td>\n",
       "      <td>-87.598946</td>\n",
       "      <td>41.797971</td>\n",
       "      <td>2365</td>\n",
       "      <td>703</td>\n",
       "      <td>41</td>\n",
       "    </tr>\n",
       "    <tr>\n",
       "      <th>6</th>\n",
       "      <td>17031411100</td>\n",
       "      <td>-87.589702</td>\n",
       "      <td>41.790449</td>\n",
       "      <td>2246</td>\n",
       "      <td>154</td>\n",
       "      <td>41</td>\n",
       "    </tr>\n",
       "    <tr>\n",
       "      <th>7</th>\n",
       "      <td>17031410700</td>\n",
       "      <td>-87.594198</td>\n",
       "      <td>41.798040</td>\n",
       "      <td>1959</td>\n",
       "      <td>453</td>\n",
       "      <td>41</td>\n",
       "    </tr>\n",
       "    <tr>\n",
       "      <th>8</th>\n",
       "      <td>17031410800</td>\n",
       "      <td>-87.589626</td>\n",
       "      <td>41.797960</td>\n",
       "      <td>3201</td>\n",
       "      <td>741</td>\n",
       "      <td>41</td>\n",
       "    </tr>\n",
       "    <tr>\n",
       "      <th>9</th>\n",
       "      <td>17031410900</td>\n",
       "      <td>-87.576659</td>\n",
       "      <td>41.797874</td>\n",
       "      <td>2923</td>\n",
       "      <td>607</td>\n",
       "      <td>41</td>\n",
       "    </tr>\n",
       "    <tr>\n",
       "      <th>10</th>\n",
       "      <td>17031411000</td>\n",
       "      <td>-87.576873</td>\n",
       "      <td>41.790716</td>\n",
       "      <td>3313</td>\n",
       "      <td>465</td>\n",
       "      <td>41</td>\n",
       "    </tr>\n",
       "    <tr>\n",
       "      <th>11</th>\n",
       "      <td>17031411200</td>\n",
       "      <td>-87.594017</td>\n",
       "      <td>41.790556</td>\n",
       "      <td>1691</td>\n",
       "      <td>289</td>\n",
       "      <td>41</td>\n",
       "    </tr>\n",
       "  </tbody>\n",
       "</table>\n",
       "</div>"
      ],
      "text/plain": [
       "        geoid10        lon        lat  Pop2014  Pov14  community\n",
       "0   17031836300 -87.601757  41.801532     6465    234         41\n",
       "1   17031836200 -87.601284  41.790469     1329     47         41\n",
       "2   17031410100 -87.579323  41.801497     1956    551         41\n",
       "3   17031410200 -87.594269  41.801668     1248    362         41\n",
       "4   17031410500 -87.603745  41.797827     2630    717         41\n",
       "5   17031410600 -87.598946  41.797971     2365    703         41\n",
       "6   17031411100 -87.589702  41.790449     2246    154         41\n",
       "7   17031410700 -87.594198  41.798040     1959    453         41\n",
       "8   17031410800 -87.589626  41.797960     3201    741         41\n",
       "9   17031410900 -87.576659  41.797874     2923    607         41\n",
       "10  17031411000 -87.576873  41.790716     3313    465         41\n",
       "11  17031411200 -87.594017  41.790556     1691    289         41"
      ]
     },
     "execution_count": 7,
     "metadata": {},
     "output_type": "execute_result"
    }
   ],
   "source": [
    "sources_df"
   ]
  },
  {
   "cell_type": "code",
   "execution_count": 8,
   "metadata": {},
   "outputs": [
    {
     "data": {
      "text/html": [
       "<div>\n",
       "<style scoped>\n",
       "    .dataframe tbody tr th:only-of-type {\n",
       "        vertical-align: middle;\n",
       "    }\n",
       "\n",
       "    .dataframe tbody tr th {\n",
       "        vertical-align: top;\n",
       "    }\n",
       "\n",
       "    .dataframe thead th {\n",
       "        text-align: right;\n",
       "    }\n",
       "</style>\n",
       "<table border=\"1\" class=\"dataframe\">\n",
       "  <thead>\n",
       "    <tr style=\"text-align: right;\">\n",
       "      <th></th>\n",
       "      <th>name</th>\n",
       "      <th>lon</th>\n",
       "      <th>lat</th>\n",
       "      <th>category</th>\n",
       "      <th>target</th>\n",
       "    </tr>\n",
       "  </thead>\n",
       "  <tbody>\n",
       "    <tr>\n",
       "      <th>0</th>\n",
       "      <td>Museum of Science and Industry</td>\n",
       "      <td>-87.583131</td>\n",
       "      <td>41.790883</td>\n",
       "      <td>Museum</td>\n",
       "      <td>400</td>\n",
       "    </tr>\n",
       "    <tr>\n",
       "      <th>1</th>\n",
       "      <td>Medici</td>\n",
       "      <td>-87.593738</td>\n",
       "      <td>41.791438</td>\n",
       "      <td>Restaurant</td>\n",
       "      <td>50</td>\n",
       "    </tr>\n",
       "    <tr>\n",
       "      <th>2</th>\n",
       "      <td>Valois</td>\n",
       "      <td>-87.588328</td>\n",
       "      <td>41.799663</td>\n",
       "      <td>Restaurant</td>\n",
       "      <td>30</td>\n",
       "    </tr>\n",
       "    <tr>\n",
       "      <th>3</th>\n",
       "      <td>DuSable Museum</td>\n",
       "      <td>-87.607132</td>\n",
       "      <td>41.791985</td>\n",
       "      <td>Museum</td>\n",
       "      <td>100</td>\n",
       "    </tr>\n",
       "    <tr>\n",
       "      <th>4</th>\n",
       "      <td>Whole Foods</td>\n",
       "      <td>-87.587949</td>\n",
       "      <td>41.801978</td>\n",
       "      <td>Supermarket</td>\n",
       "      <td>50</td>\n",
       "    </tr>\n",
       "    <tr>\n",
       "      <th>5</th>\n",
       "      <td>Hyde Park Produce</td>\n",
       "      <td>-87.595524</td>\n",
       "      <td>41.799942</td>\n",
       "      <td>Supermarket</td>\n",
       "      <td>35</td>\n",
       "    </tr>\n",
       "    <tr>\n",
       "      <th>6</th>\n",
       "      <td>Jewel Osco</td>\n",
       "      <td>-87.607225</td>\n",
       "      <td>41.784580</td>\n",
       "      <td>Supermarket</td>\n",
       "      <td>70</td>\n",
       "    </tr>\n",
       "  </tbody>\n",
       "</table>\n",
       "</div>"
      ],
      "text/plain": [
       "                             name        lon        lat     category  target\n",
       "0  Museum of Science and Industry -87.583131  41.790883       Museum     400\n",
       "1                          Medici -87.593738  41.791438   Restaurant      50\n",
       "2                          Valois -87.588328  41.799663   Restaurant      30\n",
       "3                  DuSable Museum -87.607132  41.791985       Museum     100\n",
       "4                     Whole Foods -87.587949  41.801978  Supermarket      50\n",
       "5               Hyde Park Produce -87.595524  41.799942  Supermarket      35\n",
       "6                      Jewel Osco -87.607225  41.784580  Supermarket      70"
      ]
     },
     "execution_count": 8,
     "metadata": {},
     "output_type": "execute_result"
    }
   ],
   "source": [
    "dests_df"
   ]
  },
  {
   "cell_type": "code",
   "execution_count": 13,
   "metadata": {},
   "outputs": [],
   "source": [
    "#assymetrix matrix, different source and dest files\n",
    "matrix = TransitMatrix(network_type='walk',\n",
    "                       primary_hints={'idx' : 'geoid10', 'population': 'skip', 'lat': 'lat', 'lon': 'lon'},\n",
    "                       secondary_hints={'idx': 'name', 'capacity': 'skip', 'category': 'category', 'lat': 'lat', 'lon': 'lon'},\n",
    "                       primary_input='data/input_data/sources/hyde_park_tracts.csv',\n",
    "                       secondary_input='data/input_data/destinations/hyde_park_dests.csv')\n"
   ]
  },
  {
   "cell_type": "code",
   "execution_count": 14,
   "metadata": {},
   "outputs": [
    {
     "name": "stderr",
     "output_type": "stream",
     "text": [
      "INFO:spatial_access.p2p:Approx area of bounding box: 141.64 sq. km\n",
      "INFO:spatial_access.p2p:All operations completed in 0.34 seconds\n"
     ]
    }
   ],
   "source": [
    "matrix.process()"
   ]
  },
  {
   "cell_type": "code",
   "execution_count": 11,
   "metadata": {},
   "outputs": [
    {
     "name": "stderr",
     "output_type": "stream",
     "text": [
      "INFO:spatial_access.p2p:Wrote to data/output_data/matrices/simple_demo_matrix.csv in 0.00 seconds\n"
     ]
    }
   ],
   "source": [
    "matrix.write_csv('data/output_data/matrices/simple_demo_matrix.csv')"
   ]
  },
  {
   "cell_type": "markdown",
   "metadata": {},
   "source": [
    "## Access Metrics (Origin Attributes)"
   ]
  },
  {
   "cell_type": "code",
   "execution_count": 12,
   "metadata": {},
   "outputs": [],
   "source": [
    "from spatial_access.Models import *"
   ]
  },
  {
   "cell_type": "markdown",
   "metadata": {},
   "source": [
    "### Access Model"
   ]
  },
  {
   "cell_type": "markdown",
   "metadata": {},
   "source": [
    "The first line of code is defining Access Model using the previously generated matrix above with a linear decay function. If the user specifies **`transit_matrix_filename=None`**, the matrix will be estimated 'on the fly'.  \n",
    "The second line of code is defining the density and variety weights."
   ]
  },
  {
   "cell_type": "code",
   "execution_count": 16,
   "metadata": {},
   "outputs": [
    {
     "name": "stderr",
     "output_type": "stream",
     "text": [
      "WARNING:spatial_access.p2p:You should use tmx instead of csv for significantly better performance\n"
     ]
    },
    {
     "ename": "NameError",
     "evalue": "name 'categories' is not defined",
     "output_type": "error",
     "traceback": [
      "\u001b[0;31m---------------------------------------------------------------------------\u001b[0m",
      "\u001b[0;31mNameError\u001b[0m                                 Traceback (most recent call last)",
      "\u001b[0;32m<ipython-input-16-5365b4d74269>\u001b[0m in \u001b[0;36m<module>\u001b[0;34m()\u001b[0m\n\u001b[1;32m      5\u001b[0m                      \u001b[0msource_column_names\u001b[0m\u001b[0;34m=\u001b[0m\u001b[0;34m{\u001b[0m\u001b[0;34m'idx'\u001b[0m \u001b[0;34m:\u001b[0m \u001b[0;34m'geoid10'\u001b[0m\u001b[0;34m,\u001b[0m \u001b[0;34m'population'\u001b[0m\u001b[0;34m:\u001b[0m \u001b[0;34m'skip'\u001b[0m\u001b[0;34m,\u001b[0m \u001b[0;34m'lat'\u001b[0m\u001b[0;34m:\u001b[0m \u001b[0;34m'lat'\u001b[0m\u001b[0;34m,\u001b[0m \u001b[0;34m'lon'\u001b[0m\u001b[0;34m:\u001b[0m \u001b[0;34m'lon'\u001b[0m\u001b[0;34m}\u001b[0m\u001b[0;34m,\u001b[0m\u001b[0;34m\u001b[0m\u001b[0m\n\u001b[1;32m      6\u001b[0m                      \u001b[0mdest_column_names\u001b[0m\u001b[0;34m=\u001b[0m\u001b[0;34m{\u001b[0m\u001b[0;34m'idx'\u001b[0m\u001b[0;34m:\u001b[0m \u001b[0;34m'name'\u001b[0m\u001b[0;34m,\u001b[0m \u001b[0;34m'capacity'\u001b[0m\u001b[0;34m:\u001b[0m \u001b[0;34m'skip'\u001b[0m\u001b[0;34m,\u001b[0m \u001b[0;34m'category'\u001b[0m\u001b[0;34m:\u001b[0m \u001b[0;34m'category'\u001b[0m\u001b[0;34m,\u001b[0m \u001b[0;34m'lat'\u001b[0m\u001b[0;34m:\u001b[0m \u001b[0;34m'lat'\u001b[0m\u001b[0;34m,\u001b[0m \u001b[0;34m'lon'\u001b[0m\u001b[0;34m:\u001b[0m \u001b[0;34m'lon'\u001b[0m\u001b[0;34m}\u001b[0m\u001b[0;34m,\u001b[0m\u001b[0;34m\u001b[0m\u001b[0m\n\u001b[0;32m----> 7\u001b[0;31m                      decay_function = 'linear')\n\u001b[0m",
      "\u001b[0;32m~/Downloads/push/spatial_access/spatial_access/Models.py\u001b[0m in \u001b[0;36m__init__\u001b[0;34m(self, network_type, sources_filename, source_column_names, destinations_filename, dest_column_names, transit_matrix_filename, decay_function, configs, debug)\u001b[0m\n\u001b[1;32m    483\u001b[0m                          debug=debug)\n\u001b[1;32m    484\u001b[0m         \u001b[0mself\u001b[0m\u001b[0;34m.\u001b[0m\u001b[0mload_transit_matrix\u001b[0m\u001b[0;34m(\u001b[0m\u001b[0mtransit_matrix_filename\u001b[0m\u001b[0;34m)\u001b[0m\u001b[0;34m\u001b[0m\u001b[0m\n\u001b[0;32m--> 485\u001b[0;31m         \u001b[0mself\u001b[0m\u001b[0;34m.\u001b[0m\u001b[0mset_focus_categories\u001b[0m\u001b[0;34m(\u001b[0m\u001b[0mcategories\u001b[0m\u001b[0;34m=\u001b[0m\u001b[0mcategories\u001b[0m\u001b[0;34m)\u001b[0m\u001b[0;34m\u001b[0m\u001b[0m\n\u001b[0m\u001b[1;32m    486\u001b[0m         \u001b[0mself\u001b[0m\u001b[0;34m.\u001b[0m\u001b[0m_result_column_names\u001b[0m \u001b[0;34m=\u001b[0m \u001b[0;34m'score'\u001b[0m\u001b[0;34m\u001b[0m\u001b[0m\n\u001b[1;32m    487\u001b[0m \u001b[0;34m\u001b[0m\u001b[0m\n",
      "\u001b[0;31mNameError\u001b[0m: name 'categories' is not defined"
     ]
    }
   ],
   "source": [
    "access = AccessModel(network_type='walk',\n",
    "                     transit_matrix_filename='data/output_data/matrices/simple_demo_matrix.csv',\n",
    "                     sources_filename='data/input_data/sources/hyde_park_tracts.csv',\n",
    "                     destinations_filename='data/input_data/destinations/hyde_park_dests.csv',\n",
    "                     source_column_names={'idx' : 'geoid10', 'population': 'skip', 'lat': 'lat', 'lon': 'lon'},\n",
    "                     dest_column_names={'idx': 'name', 'capacity': 'skip', 'category': 'category', 'lat': 'lat', 'lon': 'lon'},\n",
    "                     decay_function = 'linear')"
   ]
  },
  {
   "cell_type": "code",
   "execution_count": 100,
   "metadata": {},
   "outputs": [],
   "source": [
    "category_dict = {\n",
    "    \"Museum\": [5, 5, 3],\n",
    "    \"Restaurant\": [10, 10],\n",
    "    \"Supermarket\": [10, 7, 5]\n",
    "}"
   ]
  },
  {
   "cell_type": "code",
   "execution_count": 101,
   "metadata": {},
   "outputs": [
    {
     "name": "stderr",
     "output_type": "stream",
     "text": [
      "INFO:spatial_access.BaseModel:Using weights: {'Museum': [5, 5, 3], 'Supermarket': [10, 7, 5], 'Restaurant': [10, 10]}\n"
     ]
    },
    {
     "data": {
      "text/html": [
       "<div>\n",
       "<style scoped>\n",
       "    .dataframe tbody tr th:only-of-type {\n",
       "        vertical-align: middle;\n",
       "    }\n",
       "\n",
       "    .dataframe tbody tr th {\n",
       "        vertical-align: top;\n",
       "    }\n",
       "\n",
       "    .dataframe thead th {\n",
       "        text-align: right;\n",
       "    }\n",
       "</style>\n",
       "<table border=\"1\" class=\"dataframe\">\n",
       "  <thead>\n",
       "    <tr style=\"text-align: right;\">\n",
       "      <th></th>\n",
       "      <th>all_categories_score</th>\n",
       "      <th>Museum_score</th>\n",
       "      <th>Supermarket_score</th>\n",
       "      <th>Restaurant_score</th>\n",
       "    </tr>\n",
       "  </thead>\n",
       "  <tbody>\n",
       "    <tr>\n",
       "      <th>17031836300</th>\n",
       "      <td>19.318333</td>\n",
       "      <td>2.108333</td>\n",
       "      <td>9.826667</td>\n",
       "      <td>7.383333</td>\n",
       "    </tr>\n",
       "    <tr>\n",
       "      <th>17031836200</th>\n",
       "      <td>22.553333</td>\n",
       "      <td>4.983333</td>\n",
       "      <td>8.342222</td>\n",
       "      <td>9.227778</td>\n",
       "    </tr>\n",
       "    <tr>\n",
       "      <th>17031410100</th>\n",
       "      <td>18.303889</td>\n",
       "      <td>2.011111</td>\n",
       "      <td>8.398333</td>\n",
       "      <td>7.894444</td>\n",
       "    </tr>\n",
       "    <tr>\n",
       "      <th>17031410200</th>\n",
       "      <td>25.826667</td>\n",
       "      <td>1.647222</td>\n",
       "      <td>12.301667</td>\n",
       "      <td>11.877778</td>\n",
       "    </tr>\n",
       "    <tr>\n",
       "      <th>17031410500</th>\n",
       "      <td>21.282778</td>\n",
       "      <td>3.519444</td>\n",
       "      <td>9.713333</td>\n",
       "      <td>8.050000</td>\n",
       "    </tr>\n",
       "    <tr>\n",
       "      <th>17031410600</th>\n",
       "      <td>26.657778</td>\n",
       "      <td>3.522222</td>\n",
       "      <td>11.874444</td>\n",
       "      <td>11.261111</td>\n",
       "    </tr>\n",
       "    <tr>\n",
       "      <th>17031411100</th>\n",
       "      <td>22.851111</td>\n",
       "      <td>4.175000</td>\n",
       "      <td>6.787222</td>\n",
       "      <td>11.888889</td>\n",
       "    </tr>\n",
       "    <tr>\n",
       "      <th>17031410700</th>\n",
       "      <td>30.253333</td>\n",
       "      <td>3.475000</td>\n",
       "      <td>12.800556</td>\n",
       "      <td>13.977778</td>\n",
       "    </tr>\n",
       "    <tr>\n",
       "      <th>17031410800</th>\n",
       "      <td>30.405000</td>\n",
       "      <td>3.400000</td>\n",
       "      <td>12.516111</td>\n",
       "      <td>14.488889</td>\n",
       "    </tr>\n",
       "    <tr>\n",
       "      <th>17031410900</th>\n",
       "      <td>13.410000</td>\n",
       "      <td>2.508333</td>\n",
       "      <td>4.507222</td>\n",
       "      <td>6.394444</td>\n",
       "    </tr>\n",
       "    <tr>\n",
       "      <th>17031411000</th>\n",
       "      <td>10.296667</td>\n",
       "      <td>3.219444</td>\n",
       "      <td>1.605000</td>\n",
       "      <td>5.472222</td>\n",
       "    </tr>\n",
       "    <tr>\n",
       "      <th>17031411200</th>\n",
       "      <td>27.472222</td>\n",
       "      <td>4.936111</td>\n",
       "      <td>8.713889</td>\n",
       "      <td>13.822222</td>\n",
       "    </tr>\n",
       "  </tbody>\n",
       "</table>\n",
       "</div>"
      ],
      "text/plain": [
       "             all_categories_score  Museum_score  Supermarket_score  \\\n",
       "17031836300             19.318333      2.108333           9.826667   \n",
       "17031836200             22.553333      4.983333           8.342222   \n",
       "17031410100             18.303889      2.011111           8.398333   \n",
       "17031410200             25.826667      1.647222          12.301667   \n",
       "17031410500             21.282778      3.519444           9.713333   \n",
       "17031410600             26.657778      3.522222          11.874444   \n",
       "17031411100             22.851111      4.175000           6.787222   \n",
       "17031410700             30.253333      3.475000          12.800556   \n",
       "17031410800             30.405000      3.400000          12.516111   \n",
       "17031410900             13.410000      2.508333           4.507222   \n",
       "17031411000             10.296667      3.219444           1.605000   \n",
       "17031411200             27.472222      4.936111           8.713889   \n",
       "\n",
       "             Restaurant_score  \n",
       "17031836300          7.383333  \n",
       "17031836200          9.227778  \n",
       "17031410100          7.894444  \n",
       "17031410200         11.877778  \n",
       "17031410500          8.050000  \n",
       "17031410600         11.261111  \n",
       "17031411100         11.888889  \n",
       "17031410700         13.977778  \n",
       "17031410800         14.488889  \n",
       "17031410900          6.394444  \n",
       "17031411000          5.472222  \n",
       "17031411200         13.822222  "
      ]
     },
     "execution_count": 101,
     "metadata": {},
     "output_type": "execute_result"
    }
   ],
   "source": [
    "access.calculate(upper_threshold=1800,\n",
    "                 normalize=False,\n",
    "                 category_weight_dict=category_dict)"
   ]
  },
  {
   "cell_type": "code",
   "execution_count": 17,
   "metadata": {},
   "outputs": [
    {
     "data": {
      "text/html": [
       "<div>\n",
       "<style scoped>\n",
       "    .dataframe tbody tr th:only-of-type {\n",
       "        vertical-align: middle;\n",
       "    }\n",
       "\n",
       "    .dataframe tbody tr th {\n",
       "        vertical-align: top;\n",
       "    }\n",
       "\n",
       "    .dataframe thead th {\n",
       "        text-align: right;\n",
       "    }\n",
       "</style>\n",
       "<table border=\"1\" class=\"dataframe\">\n",
       "  <thead>\n",
       "    <tr style=\"text-align: right;\">\n",
       "      <th></th>\n",
       "      <th>all_categories_score</th>\n",
       "      <th>Museum_score</th>\n",
       "      <th>Supermarket_score</th>\n",
       "      <th>Restaurant_score</th>\n",
       "    </tr>\n",
       "  </thead>\n",
       "  <tbody>\n",
       "    <tr>\n",
       "      <th>17031836300</th>\n",
       "      <td>19.318333</td>\n",
       "      <td>2.108333</td>\n",
       "      <td>9.826667</td>\n",
       "      <td>7.383333</td>\n",
       "    </tr>\n",
       "    <tr>\n",
       "      <th>17031836200</th>\n",
       "      <td>22.553333</td>\n",
       "      <td>4.983333</td>\n",
       "      <td>8.342222</td>\n",
       "      <td>9.227778</td>\n",
       "    </tr>\n",
       "    <tr>\n",
       "      <th>17031410100</th>\n",
       "      <td>18.303889</td>\n",
       "      <td>2.011111</td>\n",
       "      <td>8.398333</td>\n",
       "      <td>7.894444</td>\n",
       "    </tr>\n",
       "    <tr>\n",
       "      <th>17031410200</th>\n",
       "      <td>25.826667</td>\n",
       "      <td>1.647222</td>\n",
       "      <td>12.301667</td>\n",
       "      <td>11.877778</td>\n",
       "    </tr>\n",
       "    <tr>\n",
       "      <th>17031410500</th>\n",
       "      <td>21.282778</td>\n",
       "      <td>3.519444</td>\n",
       "      <td>9.713333</td>\n",
       "      <td>8.050000</td>\n",
       "    </tr>\n",
       "  </tbody>\n",
       "</table>\n",
       "</div>"
      ],
      "text/plain": [
       "             all_categories_score  Museum_score  Supermarket_score  \\\n",
       "17031836300             19.318333      2.108333           9.826667   \n",
       "17031836200             22.553333      4.983333           8.342222   \n",
       "17031410100             18.303889      2.011111           8.398333   \n",
       "17031410200             25.826667      1.647222          12.301667   \n",
       "17031410500             21.282778      3.519444           9.713333   \n",
       "\n",
       "             Restaurant_score  \n",
       "17031836300          7.383333  \n",
       "17031836200          9.227778  \n",
       "17031410100          7.894444  \n",
       "17031410200         11.877778  \n",
       "17031410500          8.050000  "
      ]
     },
     "execution_count": 17,
     "metadata": {},
     "output_type": "execute_result"
    }
   ],
   "source": [
    "access.model_results.head()"
   ]
  },
  {
   "cell_type": "code",
   "execution_count": 18,
   "metadata": {},
   "outputs": [],
   "source": [
    "access.model_results.to_csv('data/output_data/simple_demo_accessMod.csv')"
   ]
  },
  {
   "cell_type": "markdown",
   "metadata": {},
   "source": [
    "### Access Time: Time to closest destination"
   ]
  },
  {
   "cell_type": "markdown",
   "metadata": {},
   "source": [
    "Here, we are defining the Access Time model using the sources and destinations csv. "
   ]
  },
  {
   "cell_type": "code",
   "execution_count": 96,
   "metadata": {},
   "outputs": [
    {
     "name": "stderr",
     "output_type": "stream",
     "text": [
      "INFO:spatial_access.p2p:Approx area of bounding box: 141.64 sq. km\n",
      "INFO:spatial_access.p2p:All operations completed in 0.39 seconds\n"
     ]
    }
   ],
   "source": [
    "accessT = AccessTime(network_type='walk',\n",
    "                     transit_matrix_filename='data/output_data/matrices/simple_demo_matrix.csv',\n",
    "                     sources_filename='data/input_data/sources/hyde_park_tracts.csv',\n",
    "                     destinations_filename='data/input_data/destinations/hyde_park_dests.csv',\n",
    "                     source_column_names={'idx' : 'geoid10', 'population': 'skip', 'lat': 'lat', 'lon': 'lon'},\n",
    "                     dest_column_names={'idx': 'name', 'capacity': 'skip', 'category': 'category', 'lat': 'lat', 'lon': 'lon'}\n",
    "                    )"
   ]
  },
  {
   "cell_type": "code",
   "execution_count": 97,
   "metadata": {},
   "outputs": [
    {
     "data": {
      "text/html": [
       "<div>\n",
       "<style scoped>\n",
       "    .dataframe tbody tr th:only-of-type {\n",
       "        vertical-align: middle;\n",
       "    }\n",
       "\n",
       "    .dataframe tbody tr th {\n",
       "        vertical-align: top;\n",
       "    }\n",
       "\n",
       "    .dataframe thead th {\n",
       "        text-align: right;\n",
       "    }\n",
       "</style>\n",
       "<table border=\"1\" class=\"dataframe\">\n",
       "  <thead>\n",
       "    <tr style=\"text-align: right;\">\n",
       "      <th></th>\n",
       "      <th>time_to_nearest_Museum</th>\n",
       "      <th>time_to_nearest_Supermarket</th>\n",
       "      <th>time_to_nearest_Restaurant</th>\n",
       "      <th>time_to_nearest_all_categories</th>\n",
       "    </tr>\n",
       "  </thead>\n",
       "  <tbody>\n",
       "    <tr>\n",
       "      <th>17031836300</th>\n",
       "      <td>1041</td>\n",
       "      <td>545</td>\n",
       "      <td>994</td>\n",
       "      <td>545</td>\n",
       "    </tr>\n",
       "    <tr>\n",
       "      <th>17031836200</th>\n",
       "      <td>547</td>\n",
       "      <td>906</td>\n",
       "      <td>517</td>\n",
       "      <td>517</td>\n",
       "    </tr>\n",
       "    <tr>\n",
       "      <th>17031410100</th>\n",
       "      <td>1076</td>\n",
       "      <td>765</td>\n",
       "      <td>629</td>\n",
       "      <td>629</td>\n",
       "    </tr>\n",
       "    <tr>\n",
       "      <th>17031410200</th>\n",
       "      <td>1371</td>\n",
       "      <td>474</td>\n",
       "      <td>506</td>\n",
       "      <td>474</td>\n",
       "    </tr>\n",
       "    <tr>\n",
       "      <th>17031410500</th>\n",
       "      <td>652</td>\n",
       "      <td>643</td>\n",
       "      <td>1056</td>\n",
       "      <td>643</td>\n",
       "    </tr>\n",
       "    <tr>\n",
       "      <th>17031410600</th>\n",
       "      <td>936</td>\n",
       "      <td>343</td>\n",
       "      <td>756</td>\n",
       "      <td>343</td>\n",
       "    </tr>\n",
       "    <tr>\n",
       "      <th>17031411100</th>\n",
       "      <td>758</td>\n",
       "      <td>1167</td>\n",
       "      <td>449</td>\n",
       "      <td>449</td>\n",
       "    </tr>\n",
       "    <tr>\n",
       "      <th>17031410700</th>\n",
       "      <td>1129</td>\n",
       "      <td>268</td>\n",
       "      <td>480</td>\n",
       "      <td>268</td>\n",
       "    </tr>\n",
       "    <tr>\n",
       "      <th>17031410800</th>\n",
       "      <td>899</td>\n",
       "      <td>455</td>\n",
       "      <td>238</td>\n",
       "      <td>238</td>\n",
       "    </tr>\n",
       "    <tr>\n",
       "      <th>17031410900</th>\n",
       "      <td>897</td>\n",
       "      <td>1177</td>\n",
       "      <td>1041</td>\n",
       "      <td>897</td>\n",
       "    </tr>\n",
       "    <tr>\n",
       "      <th>17031411000</th>\n",
       "      <td>641</td>\n",
       "      <td>1516</td>\n",
       "      <td>1235</td>\n",
       "      <td>641</td>\n",
       "    </tr>\n",
       "    <tr>\n",
       "      <th>17031411200</th>\n",
       "      <td>831</td>\n",
       "      <td>854</td>\n",
       "      <td>89</td>\n",
       "      <td>89</td>\n",
       "    </tr>\n",
       "  </tbody>\n",
       "</table>\n",
       "</div>"
      ],
      "text/plain": [
       "             time_to_nearest_Museum  time_to_nearest_Supermarket  \\\n",
       "17031836300                    1041                          545   \n",
       "17031836200                     547                          906   \n",
       "17031410100                    1076                          765   \n",
       "17031410200                    1371                          474   \n",
       "17031410500                     652                          643   \n",
       "17031410600                     936                          343   \n",
       "17031411100                     758                         1167   \n",
       "17031410700                    1129                          268   \n",
       "17031410800                     899                          455   \n",
       "17031410900                     897                         1177   \n",
       "17031411000                     641                         1516   \n",
       "17031411200                     831                          854   \n",
       "\n",
       "             time_to_nearest_Restaurant  time_to_nearest_all_categories  \n",
       "17031836300                         994                             545  \n",
       "17031836200                         517                             517  \n",
       "17031410100                         629                             629  \n",
       "17031410200                         506                             474  \n",
       "17031410500                        1056                             643  \n",
       "17031410600                         756                             343  \n",
       "17031411100                         449                             449  \n",
       "17031410700                         480                             268  \n",
       "17031410800                         238                             238  \n",
       "17031410900                        1041                             897  \n",
       "17031411000                        1235                             641  \n",
       "17031411200                          89                              89  "
      ]
     },
     "execution_count": 97,
     "metadata": {},
     "output_type": "execute_result"
    }
   ],
   "source": [
    "accessT.calculate()"
   ]
  },
  {
   "cell_type": "code",
   "execution_count": null,
   "metadata": {},
   "outputs": [],
   "source": [
    "accessT.model_results.head()"
   ]
  },
  {
   "cell_type": "code",
   "execution_count": 21,
   "metadata": {},
   "outputs": [],
   "source": [
    "accessT.model_results.to_csv('data/output_data/simple_demo_accessT.csv')"
   ]
  },
  {
   "cell_type": "markdown",
   "metadata": {},
   "source": [
    "### Access Count: Number of Destinations in Range"
   ]
  },
  {
   "cell_type": "markdown",
   "metadata": {},
   "source": [
    "Access Count measures the number of destinations within a catchment area. In this case, the catchment area is 1800 seconds (30 minutes) of walking."
   ]
  },
  {
   "cell_type": "code",
   "execution_count": 99,
   "metadata": {},
   "outputs": [
    {
     "name": "stderr",
     "output_type": "stream",
     "text": [
      "INFO:spatial_access.p2p:Approx area of bounding box: 141.64 sq. km\n",
      "INFO:spatial_access.p2p:All operations completed in 0.42 seconds\n"
     ]
    }
   ],
   "source": [
    "accessC = AccessCount(network_type='walk',\n",
    "                     transit_matrix_filename='data/output_data/matrices/simple_demo_matrix.csv',\n",
    "                     sources_filename='data/input_data/sources/hyde_park_tracts.csv',\n",
    "                     destinations_filename='data/input_data/destinations/hyde_park_dests.csv',\n",
    "                     source_column_names={'idx' : 'geoid10', 'population': 'skip', 'lat': 'lat', 'lon': 'lon'},\n",
    "                     dest_column_names={'idx': 'name', 'capacity': 'skip', 'category': 'category', 'lat': 'lat', 'lon': 'lon'}\n",
    "                     )"
   ]
  },
  {
   "cell_type": "code",
   "execution_count": 23,
   "metadata": {},
   "outputs": [
    {
     "data": {
      "text/html": [
       "<div>\n",
       "<style scoped>\n",
       "    .dataframe tbody tr th:only-of-type {\n",
       "        vertical-align: middle;\n",
       "    }\n",
       "\n",
       "    .dataframe tbody tr th {\n",
       "        vertical-align: top;\n",
       "    }\n",
       "\n",
       "    .dataframe thead th {\n",
       "        text-align: right;\n",
       "    }\n",
       "</style>\n",
       "<table border=\"1\" class=\"dataframe\">\n",
       "  <thead>\n",
       "    <tr style=\"text-align: right;\">\n",
       "      <th></th>\n",
       "      <th>count_in_range_Museum</th>\n",
       "      <th>count_in_range_Supermarket</th>\n",
       "      <th>count_in_range_Restaurant</th>\n",
       "      <th>count_in_range_all_categories</th>\n",
       "    </tr>\n",
       "  </thead>\n",
       "  <tbody>\n",
       "    <tr>\n",
       "      <th>17031836300</th>\n",
       "      <td>1</td>\n",
       "      <td>3</td>\n",
       "      <td>2</td>\n",
       "      <td>6</td>\n",
       "    </tr>\n",
       "    <tr>\n",
       "      <th>17031836200</th>\n",
       "      <td>2</td>\n",
       "      <td>3</td>\n",
       "      <td>2</td>\n",
       "      <td>7</td>\n",
       "    </tr>\n",
       "    <tr>\n",
       "      <th>17031410100</th>\n",
       "      <td>1</td>\n",
       "      <td>2</td>\n",
       "      <td>2</td>\n",
       "      <td>5</td>\n",
       "    </tr>\n",
       "    <tr>\n",
       "      <th>17031410200</th>\n",
       "      <td>2</td>\n",
       "      <td>2</td>\n",
       "      <td>2</td>\n",
       "      <td>6</td>\n",
       "    </tr>\n",
       "    <tr>\n",
       "      <th>17031410500</th>\n",
       "      <td>2</td>\n",
       "      <td>3</td>\n",
       "      <td>2</td>\n",
       "      <td>7</td>\n",
       "    </tr>\n",
       "    <tr>\n",
       "      <th>17031410600</th>\n",
       "      <td>2</td>\n",
       "      <td>3</td>\n",
       "      <td>2</td>\n",
       "      <td>7</td>\n",
       "    </tr>\n",
       "    <tr>\n",
       "      <th>17031411100</th>\n",
       "      <td>2</td>\n",
       "      <td>3</td>\n",
       "      <td>2</td>\n",
       "      <td>7</td>\n",
       "    </tr>\n",
       "    <tr>\n",
       "      <th>17031410700</th>\n",
       "      <td>2</td>\n",
       "      <td>2</td>\n",
       "      <td>2</td>\n",
       "      <td>6</td>\n",
       "    </tr>\n",
       "    <tr>\n",
       "      <th>17031410800</th>\n",
       "      <td>2</td>\n",
       "      <td>2</td>\n",
       "      <td>2</td>\n",
       "      <td>6</td>\n",
       "    </tr>\n",
       "    <tr>\n",
       "      <th>17031410900</th>\n",
       "      <td>1</td>\n",
       "      <td>2</td>\n",
       "      <td>2</td>\n",
       "      <td>5</td>\n",
       "    </tr>\n",
       "    <tr>\n",
       "      <th>17031411000</th>\n",
       "      <td>1</td>\n",
       "      <td>2</td>\n",
       "      <td>2</td>\n",
       "      <td>5</td>\n",
       "    </tr>\n",
       "    <tr>\n",
       "      <th>17031411200</th>\n",
       "      <td>2</td>\n",
       "      <td>3</td>\n",
       "      <td>2</td>\n",
       "      <td>7</td>\n",
       "    </tr>\n",
       "  </tbody>\n",
       "</table>\n",
       "</div>"
      ],
      "text/plain": [
       "             count_in_range_Museum  count_in_range_Supermarket  \\\n",
       "17031836300                      1                           3   \n",
       "17031836200                      2                           3   \n",
       "17031410100                      1                           2   \n",
       "17031410200                      2                           2   \n",
       "17031410500                      2                           3   \n",
       "17031410600                      2                           3   \n",
       "17031411100                      2                           3   \n",
       "17031410700                      2                           2   \n",
       "17031410800                      2                           2   \n",
       "17031410900                      1                           2   \n",
       "17031411000                      1                           2   \n",
       "17031411200                      2                           3   \n",
       "\n",
       "             count_in_range_Restaurant  count_in_range_all_categories  \n",
       "17031836300                          2                              6  \n",
       "17031836200                          2                              7  \n",
       "17031410100                          2                              5  \n",
       "17031410200                          2                              6  \n",
       "17031410500                          2                              7  \n",
       "17031410600                          2                              7  \n",
       "17031411100                          2                              7  \n",
       "17031410700                          2                              6  \n",
       "17031410800                          2                              6  \n",
       "17031410900                          2                              5  \n",
       "17031411000                          2                              5  \n",
       "17031411200                          2                              7  "
      ]
     },
     "execution_count": 23,
     "metadata": {},
     "output_type": "execute_result"
    }
   ],
   "source": [
    "accessC.calculate(upper_threshold=1800)"
   ]
  },
  {
   "cell_type": "code",
   "execution_count": 34,
   "metadata": {},
   "outputs": [
    {
     "data": {
      "text/html": [
       "<div>\n",
       "<style scoped>\n",
       "    .dataframe tbody tr th:only-of-type {\n",
       "        vertical-align: middle;\n",
       "    }\n",
       "\n",
       "    .dataframe tbody tr th {\n",
       "        vertical-align: top;\n",
       "    }\n",
       "\n",
       "    .dataframe thead th {\n",
       "        text-align: right;\n",
       "    }\n",
       "</style>\n",
       "<table border=\"1\" class=\"dataframe\">\n",
       "  <thead>\n",
       "    <tr style=\"text-align: right;\">\n",
       "      <th></th>\n",
       "      <th>count_in_range_Museum</th>\n",
       "      <th>count_in_range_Supermarket</th>\n",
       "      <th>count_in_range_Restaurant</th>\n",
       "      <th>count_in_range_all_categories</th>\n",
       "    </tr>\n",
       "  </thead>\n",
       "  <tbody>\n",
       "    <tr>\n",
       "      <th>17031836300</th>\n",
       "      <td>1</td>\n",
       "      <td>3</td>\n",
       "      <td>2</td>\n",
       "      <td>6</td>\n",
       "    </tr>\n",
       "    <tr>\n",
       "      <th>17031836200</th>\n",
       "      <td>2</td>\n",
       "      <td>3</td>\n",
       "      <td>2</td>\n",
       "      <td>7</td>\n",
       "    </tr>\n",
       "    <tr>\n",
       "      <th>17031410100</th>\n",
       "      <td>1</td>\n",
       "      <td>2</td>\n",
       "      <td>2</td>\n",
       "      <td>5</td>\n",
       "    </tr>\n",
       "    <tr>\n",
       "      <th>17031410200</th>\n",
       "      <td>2</td>\n",
       "      <td>2</td>\n",
       "      <td>2</td>\n",
       "      <td>6</td>\n",
       "    </tr>\n",
       "    <tr>\n",
       "      <th>17031410500</th>\n",
       "      <td>2</td>\n",
       "      <td>3</td>\n",
       "      <td>2</td>\n",
       "      <td>7</td>\n",
       "    </tr>\n",
       "  </tbody>\n",
       "</table>\n",
       "</div>"
      ],
      "text/plain": [
       "             count_in_range_Museum  count_in_range_Supermarket  \\\n",
       "17031836300                      1                           3   \n",
       "17031836200                      2                           3   \n",
       "17031410100                      1                           2   \n",
       "17031410200                      2                           2   \n",
       "17031410500                      2                           3   \n",
       "\n",
       "             count_in_range_Restaurant  count_in_range_all_categories  \n",
       "17031836300                          2                              6  \n",
       "17031836200                          2                              7  \n",
       "17031410100                          2                              5  \n",
       "17031410200                          2                              6  \n",
       "17031410500                          2                              7  "
      ]
     },
     "execution_count": 34,
     "metadata": {},
     "output_type": "execute_result"
    }
   ],
   "source": [
    "accessC.model_results.head()"
   ]
  },
  {
   "cell_type": "code",
   "execution_count": 25,
   "metadata": {},
   "outputs": [],
   "source": [
    "accessC.model_results.to_csv('data/output_data/simple_demo_accessC.csv')"
   ]
  },
  {
   "cell_type": "markdown",
   "metadata": {},
   "source": [
    "### Access Sum: sum of an attribute of facility within a catchment area"
   ]
  },
  {
   "cell_type": "code",
   "execution_count": 90,
   "metadata": {},
   "outputs": [
    {
     "name": "stderr",
     "output_type": "stream",
     "text": [
      "INFO:spatial_access.p2p:Approx area of bounding box: 141.64 sq. km\n",
      "INFO:spatial_access.p2p:All operations completed in 0.45 seconds\n"
     ]
    }
   ],
   "source": [
    "accessS = AccessSum(network_type='walk',\n",
    "                     transit_matrix_filename='data/output_data/matrices/simple_demo_matrix.csv',\n",
    "                     sources_filename='data/input_data/sources/hyde_park_tracts.csv',\n",
    "                     destinations_filename='data/input_data/destinations/hyde_park_dests.csv',\n",
    "                     source_column_names={'idx' : 'geoid10', 'population': 'skip', 'lat': 'lat', 'lon': 'lon'},\n",
    "                     dest_column_names={'idx': 'name', 'capacity': 'target', 'category': 'category', 'lat': 'lat', 'lon': 'lon'}\n",
    "                   )"
   ]
  },
  {
   "cell_type": "code",
   "execution_count": 91,
   "metadata": {},
   "outputs": [
    {
     "data": {
      "text/html": [
       "<div>\n",
       "<style scoped>\n",
       "    .dataframe tbody tr th:only-of-type {\n",
       "        vertical-align: middle;\n",
       "    }\n",
       "\n",
       "    .dataframe tbody tr th {\n",
       "        vertical-align: top;\n",
       "    }\n",
       "\n",
       "    .dataframe thead th {\n",
       "        text-align: right;\n",
       "    }\n",
       "</style>\n",
       "<table border=\"1\" class=\"dataframe\">\n",
       "  <thead>\n",
       "    <tr style=\"text-align: right;\">\n",
       "      <th></th>\n",
       "      <th>sum_in_range_Museum</th>\n",
       "      <th>sum_in_range_Supermarket</th>\n",
       "      <th>sum_in_range_Restaurant</th>\n",
       "      <th>sum_in_range_all_categories</th>\n",
       "    </tr>\n",
       "  </thead>\n",
       "  <tbody>\n",
       "    <tr>\n",
       "      <th>17031836300</th>\n",
       "      <td>100</td>\n",
       "      <td>155</td>\n",
       "      <td>80</td>\n",
       "      <td>335</td>\n",
       "    </tr>\n",
       "    <tr>\n",
       "      <th>17031836200</th>\n",
       "      <td>500</td>\n",
       "      <td>155</td>\n",
       "      <td>80</td>\n",
       "      <td>735</td>\n",
       "    </tr>\n",
       "    <tr>\n",
       "      <th>17031410100</th>\n",
       "      <td>400</td>\n",
       "      <td>85</td>\n",
       "      <td>80</td>\n",
       "      <td>565</td>\n",
       "    </tr>\n",
       "    <tr>\n",
       "      <th>17031410200</th>\n",
       "      <td>500</td>\n",
       "      <td>85</td>\n",
       "      <td>80</td>\n",
       "      <td>665</td>\n",
       "    </tr>\n",
       "    <tr>\n",
       "      <th>17031410500</th>\n",
       "      <td>500</td>\n",
       "      <td>155</td>\n",
       "      <td>80</td>\n",
       "      <td>735</td>\n",
       "    </tr>\n",
       "    <tr>\n",
       "      <th>17031410600</th>\n",
       "      <td>500</td>\n",
       "      <td>155</td>\n",
       "      <td>80</td>\n",
       "      <td>735</td>\n",
       "    </tr>\n",
       "    <tr>\n",
       "      <th>17031411100</th>\n",
       "      <td>500</td>\n",
       "      <td>155</td>\n",
       "      <td>80</td>\n",
       "      <td>735</td>\n",
       "    </tr>\n",
       "    <tr>\n",
       "      <th>17031410700</th>\n",
       "      <td>500</td>\n",
       "      <td>85</td>\n",
       "      <td>80</td>\n",
       "      <td>665</td>\n",
       "    </tr>\n",
       "    <tr>\n",
       "      <th>17031410800</th>\n",
       "      <td>500</td>\n",
       "      <td>85</td>\n",
       "      <td>80</td>\n",
       "      <td>665</td>\n",
       "    </tr>\n",
       "    <tr>\n",
       "      <th>17031410900</th>\n",
       "      <td>400</td>\n",
       "      <td>85</td>\n",
       "      <td>80</td>\n",
       "      <td>565</td>\n",
       "    </tr>\n",
       "    <tr>\n",
       "      <th>17031411000</th>\n",
       "      <td>400</td>\n",
       "      <td>85</td>\n",
       "      <td>80</td>\n",
       "      <td>565</td>\n",
       "    </tr>\n",
       "    <tr>\n",
       "      <th>17031411200</th>\n",
       "      <td>500</td>\n",
       "      <td>155</td>\n",
       "      <td>80</td>\n",
       "      <td>735</td>\n",
       "    </tr>\n",
       "  </tbody>\n",
       "</table>\n",
       "</div>"
      ],
      "text/plain": [
       "             sum_in_range_Museum  sum_in_range_Supermarket  \\\n",
       "17031836300                  100                       155   \n",
       "17031836200                  500                       155   \n",
       "17031410100                  400                        85   \n",
       "17031410200                  500                        85   \n",
       "17031410500                  500                       155   \n",
       "17031410600                  500                       155   \n",
       "17031411100                  500                       155   \n",
       "17031410700                  500                        85   \n",
       "17031410800                  500                        85   \n",
       "17031410900                  400                        85   \n",
       "17031411000                  400                        85   \n",
       "17031411200                  500                       155   \n",
       "\n",
       "             sum_in_range_Restaurant  sum_in_range_all_categories  \n",
       "17031836300                       80                          335  \n",
       "17031836200                       80                          735  \n",
       "17031410100                       80                          565  \n",
       "17031410200                       80                          665  \n",
       "17031410500                       80                          735  \n",
       "17031410600                       80                          735  \n",
       "17031411100                       80                          735  \n",
       "17031410700                       80                          665  \n",
       "17031410800                       80                          665  \n",
       "17031410900                       80                          565  \n",
       "17031411000                       80                          565  \n",
       "17031411200                       80                          735  "
      ]
     },
     "execution_count": 91,
     "metadata": {},
     "output_type": "execute_result"
    }
   ],
   "source": [
    "accessS.calculate(upper_threshold=1800)"
   ]
  },
  {
   "cell_type": "code",
   "execution_count": 42,
   "metadata": {},
   "outputs": [
    {
     "data": {
      "text/html": [
       "<div>\n",
       "<style scoped>\n",
       "    .dataframe tbody tr th:only-of-type {\n",
       "        vertical-align: middle;\n",
       "    }\n",
       "\n",
       "    .dataframe tbody tr th {\n",
       "        vertical-align: top;\n",
       "    }\n",
       "\n",
       "    .dataframe thead th {\n",
       "        text-align: right;\n",
       "    }\n",
       "</style>\n",
       "<table border=\"1\" class=\"dataframe\">\n",
       "  <thead>\n",
       "    <tr style=\"text-align: right;\">\n",
       "      <th></th>\n",
       "      <th>sum_in_range_Museum</th>\n",
       "      <th>sum_in_range_Supermarket</th>\n",
       "      <th>sum_in_range_Restaurant</th>\n",
       "      <th>sum_in_range_all_categories</th>\n",
       "    </tr>\n",
       "  </thead>\n",
       "  <tbody>\n",
       "    <tr>\n",
       "      <th>17031836300</th>\n",
       "      <td>100</td>\n",
       "      <td>155</td>\n",
       "      <td>80</td>\n",
       "      <td>335</td>\n",
       "    </tr>\n",
       "    <tr>\n",
       "      <th>17031836200</th>\n",
       "      <td>500</td>\n",
       "      <td>155</td>\n",
       "      <td>80</td>\n",
       "      <td>735</td>\n",
       "    </tr>\n",
       "    <tr>\n",
       "      <th>17031410100</th>\n",
       "      <td>400</td>\n",
       "      <td>85</td>\n",
       "      <td>80</td>\n",
       "      <td>565</td>\n",
       "    </tr>\n",
       "    <tr>\n",
       "      <th>17031410200</th>\n",
       "      <td>500</td>\n",
       "      <td>85</td>\n",
       "      <td>80</td>\n",
       "      <td>665</td>\n",
       "    </tr>\n",
       "    <tr>\n",
       "      <th>17031410500</th>\n",
       "      <td>500</td>\n",
       "      <td>155</td>\n",
       "      <td>80</td>\n",
       "      <td>735</td>\n",
       "    </tr>\n",
       "  </tbody>\n",
       "</table>\n",
       "</div>"
      ],
      "text/plain": [
       "             sum_in_range_Museum  sum_in_range_Supermarket  \\\n",
       "17031836300                  100                       155   \n",
       "17031836200                  500                       155   \n",
       "17031410100                  400                        85   \n",
       "17031410200                  500                        85   \n",
       "17031410500                  500                       155   \n",
       "\n",
       "             sum_in_range_Restaurant  sum_in_range_all_categories  \n",
       "17031836300                       80                          335  \n",
       "17031836200                       80                          735  \n",
       "17031410100                       80                          565  \n",
       "17031410200                       80                          665  \n",
       "17031410500                       80                          735  "
      ]
     },
     "execution_count": 42,
     "metadata": {},
     "output_type": "execute_result"
    }
   ],
   "source": [
    "accessS.model_results.head()"
   ]
  },
  {
   "cell_type": "code",
   "execution_count": 40,
   "metadata": {},
   "outputs": [],
   "source": [
    "accessS.model_results.to_csv('data/output_data/simple_demo_accessS.csv')"
   ]
  },
  {
   "cell_type": "markdown",
   "metadata": {},
   "source": [
    "### Destination Sum: capacity and capacity per capita of providers in area"
   ]
  },
  {
   "cell_type": "code",
   "execution_count": 94,
   "metadata": {},
   "outputs": [],
   "source": [
    "d_sum = DestSum(network_type='walk',\n",
    "                sources_filename='data/input_data/sources/hyde_park_tracts.csv',\n",
    "                destinations_filename='data/input_data/destinations/hyde_park_dests.csv',\n",
    "                source_column_names={'idx' : 'geoid10', 'population': 'skip', 'lat': 'lat', 'lon': 'lon'},\n",
    "                dest_column_names={'idx': 'name', 'capacity': 'target', 'category': 'category', 'lat': 'lat', 'lon': 'lon'}\n",
    "               )"
   ]
  },
  {
   "cell_type": "code",
   "execution_count": 95,
   "metadata": {},
   "outputs": [
    {
     "data": {
      "text/html": [
       "<div>\n",
       "<style scoped>\n",
       "    .dataframe tbody tr th:only-of-type {\n",
       "        vertical-align: middle;\n",
       "    }\n",
       "\n",
       "    .dataframe tbody tr th {\n",
       "        vertical-align: top;\n",
       "    }\n",
       "\n",
       "    .dataframe thead th {\n",
       "        text-align: right;\n",
       "    }\n",
       "</style>\n",
       "<table border=\"1\" class=\"dataframe\">\n",
       "  <thead>\n",
       "    <tr style=\"text-align: right;\">\n",
       "      <th></th>\n",
       "      <th>Museum</th>\n",
       "      <th>Supermarket</th>\n",
       "      <th>Restaurant</th>\n",
       "      <th>all_categories</th>\n",
       "      <th>Museum_per_capita</th>\n",
       "      <th>Supermarket_per_capita</th>\n",
       "      <th>Restaurant_per_capita</th>\n",
       "      <th>all_categories_per_capita</th>\n",
       "    </tr>\n",
       "    <tr>\n",
       "      <th>spatial_index</th>\n",
       "      <th></th>\n",
       "      <th></th>\n",
       "      <th></th>\n",
       "      <th></th>\n",
       "      <th></th>\n",
       "      <th></th>\n",
       "      <th></th>\n",
       "      <th></th>\n",
       "    </tr>\n",
       "  </thead>\n",
       "  <tbody>\n",
       "    <tr>\n",
       "      <th>HYDE PARK</th>\n",
       "      <td>400.0</td>\n",
       "      <td>85.0</td>\n",
       "      <td>80.0</td>\n",
       "      <td>565.0</td>\n",
       "      <td>44.444444</td>\n",
       "      <td>9.444444</td>\n",
       "      <td>8.888889</td>\n",
       "      <td>62.777778</td>\n",
       "    </tr>\n",
       "    <tr>\n",
       "      <th>WASHINGTON PARK</th>\n",
       "      <td>100.0</td>\n",
       "      <td>0.0</td>\n",
       "      <td>0.0</td>\n",
       "      <td>100.0</td>\n",
       "      <td>NaN</td>\n",
       "      <td>NaN</td>\n",
       "      <td>NaN</td>\n",
       "      <td>NaN</td>\n",
       "    </tr>\n",
       "    <tr>\n",
       "      <th>WOODLAWN</th>\n",
       "      <td>0.0</td>\n",
       "      <td>70.0</td>\n",
       "      <td>0.0</td>\n",
       "      <td>70.0</td>\n",
       "      <td>NaN</td>\n",
       "      <td>NaN</td>\n",
       "      <td>NaN</td>\n",
       "      <td>NaN</td>\n",
       "    </tr>\n",
       "  </tbody>\n",
       "</table>\n",
       "</div>"
      ],
      "text/plain": [
       "                 Museum  Supermarket  Restaurant  all_categories  \\\n",
       "spatial_index                                                      \n",
       "HYDE PARK         400.0         85.0        80.0           565.0   \n",
       "WASHINGTON PARK   100.0          0.0         0.0           100.0   \n",
       "WOODLAWN            0.0         70.0         0.0            70.0   \n",
       "\n",
       "                 Museum_per_capita  Supermarket_per_capita  \\\n",
       "spatial_index                                                \n",
       "HYDE PARK                44.444444                9.444444   \n",
       "WASHINGTON PARK                NaN                     NaN   \n",
       "WOODLAWN                       NaN                     NaN   \n",
       "\n",
       "                 Restaurant_per_capita  all_categories_per_capita  \n",
       "spatial_index                                                      \n",
       "HYDE PARK                     8.888889                  62.777778  \n",
       "WASHINGTON PARK                    NaN                        NaN  \n",
       "WOODLAWN                           NaN                        NaN  "
      ]
     },
     "execution_count": 95,
     "metadata": {},
     "output_type": "execute_result"
    }
   ],
   "source": [
    "d_sum.calculate()"
   ]
  },
  {
   "cell_type": "code",
   "execution_count": 45,
   "metadata": {},
   "outputs": [
    {
     "data": {
      "text/html": [
       "<div>\n",
       "<style scoped>\n",
       "    .dataframe tbody tr th:only-of-type {\n",
       "        vertical-align: middle;\n",
       "    }\n",
       "\n",
       "    .dataframe tbody tr th {\n",
       "        vertical-align: top;\n",
       "    }\n",
       "\n",
       "    .dataframe thead th {\n",
       "        text-align: right;\n",
       "    }\n",
       "</style>\n",
       "<table border=\"1\" class=\"dataframe\">\n",
       "  <thead>\n",
       "    <tr style=\"text-align: right;\">\n",
       "      <th></th>\n",
       "      <th>Museum</th>\n",
       "      <th>Supermarket</th>\n",
       "      <th>Restaurant</th>\n",
       "      <th>all_categories</th>\n",
       "      <th>Museum_per_capita</th>\n",
       "      <th>Supermarket_per_capita</th>\n",
       "      <th>Restaurant_per_capita</th>\n",
       "      <th>all_categories_per_capita</th>\n",
       "    </tr>\n",
       "    <tr>\n",
       "      <th>spatial_index</th>\n",
       "      <th></th>\n",
       "      <th></th>\n",
       "      <th></th>\n",
       "      <th></th>\n",
       "      <th></th>\n",
       "      <th></th>\n",
       "      <th></th>\n",
       "      <th></th>\n",
       "    </tr>\n",
       "  </thead>\n",
       "  <tbody>\n",
       "    <tr>\n",
       "      <th>HYDE PARK</th>\n",
       "      <td>400.0</td>\n",
       "      <td>85.0</td>\n",
       "      <td>80.0</td>\n",
       "      <td>565.0</td>\n",
       "      <td>0.017291</td>\n",
       "      <td>0.003674</td>\n",
       "      <td>0.003458</td>\n",
       "      <td>0.024423</td>\n",
       "    </tr>\n",
       "    <tr>\n",
       "      <th>WASHINGTON PARK</th>\n",
       "      <td>100.0</td>\n",
       "      <td>0.0</td>\n",
       "      <td>0.0</td>\n",
       "      <td>100.0</td>\n",
       "      <td>NaN</td>\n",
       "      <td>NaN</td>\n",
       "      <td>NaN</td>\n",
       "      <td>NaN</td>\n",
       "    </tr>\n",
       "    <tr>\n",
       "      <th>WOODLAWN</th>\n",
       "      <td>0.0</td>\n",
       "      <td>70.0</td>\n",
       "      <td>0.0</td>\n",
       "      <td>70.0</td>\n",
       "      <td>NaN</td>\n",
       "      <td>NaN</td>\n",
       "      <td>NaN</td>\n",
       "      <td>NaN</td>\n",
       "    </tr>\n",
       "  </tbody>\n",
       "</table>\n",
       "</div>"
      ],
      "text/plain": [
       "                 Museum  Supermarket  Restaurant  all_categories  \\\n",
       "spatial_index                                                      \n",
       "HYDE PARK         400.0         85.0        80.0           565.0   \n",
       "WASHINGTON PARK   100.0          0.0         0.0           100.0   \n",
       "WOODLAWN            0.0         70.0         0.0            70.0   \n",
       "\n",
       "                 Museum_per_capita  Supermarket_per_capita  \\\n",
       "spatial_index                                                \n",
       "HYDE PARK                 0.017291                0.003674   \n",
       "WASHINGTON PARK                NaN                     NaN   \n",
       "WOODLAWN                       NaN                     NaN   \n",
       "\n",
       "                 Restaurant_per_capita  all_categories_per_capita  \n",
       "spatial_index                                                      \n",
       "HYDE PARK                     0.003458                   0.024423  \n",
       "WASHINGTON PARK                    NaN                        NaN  \n",
       "WOODLAWN                           NaN                        NaN  "
      ]
     },
     "execution_count": 45,
     "metadata": {},
     "output_type": "execute_result"
    }
   ],
   "source": [
    "d_sum.aggregated_results.head()"
   ]
  },
  {
   "cell_type": "code",
   "execution_count": 37,
   "metadata": {},
   "outputs": [],
   "source": [
    "d_sum.aggregated_results.to_csv('data/output_data/simple_demo_destsum.csv')"
   ]
  },
  {
   "cell_type": "markdown",
   "metadata": {},
   "source": [
    "## Coverage Metrics (Destinations)"
   ]
  },
  {
   "cell_type": "markdown",
   "metadata": {},
   "source": [
    "### Coverage Score"
   ]
  },
  {
   "cell_type": "code",
   "execution_count": 46,
   "metadata": {},
   "outputs": [
    {
     "name": "stdout",
     "output_type": "stream",
     "text": [
      "The variables in your data set are:\n",
      ">  geoid10\n",
      ">  lon\n",
      ">  lat\n",
      ">  Pop2014\n",
      ">  Pov14\n",
      ">  community\n"
     ]
    },
    {
     "name": "stdin",
     "output_type": "stream",
     "text": [
      "Enter the longitude coordinate:  lon\n",
      "Enter the latitude coordinate:  lat\n",
      "Enter the index name:  geoid10\n"
     ]
    },
    {
     "name": "stdout",
     "output_type": "stream",
     "text": [
      "The variables in your data set are:\n",
      ">  name\n",
      ">  lon\n",
      ">  lat\n",
      ">  category\n",
      ">  target\n"
     ]
    },
    {
     "name": "stdin",
     "output_type": "stream",
     "text": [
      "Enter the longitude coordinate:  lon\n",
      "Enter the latitude coordinate:  lat\n",
      "Enter the index name:  name\n"
     ]
    },
    {
     "name": "stderr",
     "output_type": "stream",
     "text": [
      "INFO:spatial_access.p2p:Approx area of bounding box: 141.64 sq. km\n",
      "INFO:spatial_access.p2p:All operations completed in 10.87 seconds\n"
     ]
    },
    {
     "name": "stdout",
     "output_type": "stream",
     "text": [
      "The variables in your data set are:\n",
      ">  geoid10\n",
      ">  lon\n",
      ">  lat\n",
      ">  Pop2014\n",
      ">  Pov14\n",
      ">  community\n",
      "If you have no population variable, write \"skip\" (no quotations)\n"
     ]
    },
    {
     "name": "stdin",
     "output_type": "stream",
     "text": [
      "Enter the population variable:  Pop2014\n"
     ]
    },
    {
     "name": "stdout",
     "output_type": "stream",
     "text": [
      "The variables in your data set are:\n",
      ">  name\n",
      ">  lon\n",
      ">  lat\n",
      ">  category\n",
      ">  target\n",
      "If you have no capacity variable, write \"skip\" (no quotations)\n"
     ]
    },
    {
     "name": "stdin",
     "output_type": "stream",
     "text": [
      "Enter the capacity variable:  target\n"
     ]
    },
    {
     "name": "stdout",
     "output_type": "stream",
     "text": [
      "If you have no category variable, write \"skip\" (no quotations)\n"
     ]
    },
    {
     "name": "stdin",
     "output_type": "stream",
     "text": [
      "Enter the category variable:  category\n"
     ]
    }
   ],
   "source": [
    "cov = Coverage(network_type='walk',\n",
    "               transit_matrix_filename='data/output_data/matrices/simple_demo_matrix.csv',\n",
    "               sources_filename='data/input_data/sources/hyde_park_tracts.csv',\n",
    "               destinations_filename='data/input_data/destinations/hyde_park_dests.csv',\n",
    "               source_column_names={'idx' : 'geoid10', 'population': 'Pop2014', 'lat': 'lat', 'lon': 'lon'},\n",
    "               dest_column_names={'idx': 'name', 'capacity': 'target', 'category': 'category', 'lat': 'lat', 'lon': 'lon'}\n",
    "              )"
   ]
  },
  {
   "cell_type": "code",
   "execution_count": 47,
   "metadata": {},
   "outputs": [
    {
     "data": {
      "text/html": [
       "<div>\n",
       "<style scoped>\n",
       "    .dataframe tbody tr th:only-of-type {\n",
       "        vertical-align: middle;\n",
       "    }\n",
       "\n",
       "    .dataframe tbody tr th {\n",
       "        vertical-align: top;\n",
       "    }\n",
       "\n",
       "    .dataframe thead th {\n",
       "        text-align: right;\n",
       "    }\n",
       "</style>\n",
       "<table border=\"1\" class=\"dataframe\">\n",
       "  <thead>\n",
       "    <tr style=\"text-align: right;\">\n",
       "      <th></th>\n",
       "      <th>service_pop</th>\n",
       "      <th>percap_spending</th>\n",
       "      <th>category</th>\n",
       "    </tr>\n",
       "  </thead>\n",
       "  <tbody>\n",
       "    <tr>\n",
       "      <th>Museum of Science and Industry</th>\n",
       "      <td>24861</td>\n",
       "      <td>0.016089</td>\n",
       "      <td>Museum</td>\n",
       "    </tr>\n",
       "    <tr>\n",
       "      <th>DuSable Museum</th>\n",
       "      <td>23134</td>\n",
       "      <td>0.004323</td>\n",
       "      <td>Museum</td>\n",
       "    </tr>\n",
       "    <tr>\n",
       "      <th>Whole Foods</th>\n",
       "      <td>31326</td>\n",
       "      <td>0.001596</td>\n",
       "      <td>Supermarket</td>\n",
       "    </tr>\n",
       "    <tr>\n",
       "      <th>Hyde Park Produce</th>\n",
       "      <td>31326</td>\n",
       "      <td>0.001117</td>\n",
       "      <td>Supermarket</td>\n",
       "    </tr>\n",
       "    <tr>\n",
       "      <th>Jewel Osco</th>\n",
       "      <td>16726</td>\n",
       "      <td>0.004185</td>\n",
       "      <td>Supermarket</td>\n",
       "    </tr>\n",
       "    <tr>\n",
       "      <th>Medici</th>\n",
       "      <td>31326</td>\n",
       "      <td>0.001596</td>\n",
       "      <td>Restaurant</td>\n",
       "    </tr>\n",
       "    <tr>\n",
       "      <th>Valois</th>\n",
       "      <td>31326</td>\n",
       "      <td>0.000958</td>\n",
       "      <td>Restaurant</td>\n",
       "    </tr>\n",
       "  </tbody>\n",
       "</table>\n",
       "</div>"
      ],
      "text/plain": [
       "                                service_pop  percap_spending     category\n",
       "Museum of Science and Industry        24861         0.016089       Museum\n",
       "DuSable Museum                        23134         0.004323       Museum\n",
       "Whole Foods                           31326         0.001596  Supermarket\n",
       "Hyde Park Produce                     31326         0.001117  Supermarket\n",
       "Jewel Osco                            16726         0.004185  Supermarket\n",
       "Medici                                31326         0.001596   Restaurant\n",
       "Valois                                31326         0.000958   Restaurant"
      ]
     },
     "execution_count": 47,
     "metadata": {},
     "output_type": "execute_result"
    }
   ],
   "source": [
    "cov.calculate(upper_threshold=1800)"
   ]
  },
  {
   "cell_type": "code",
   "execution_count": 16,
   "metadata": {},
   "outputs": [],
   "source": [
    "cov.model_results.to_csv('data/output_data/simple_demo_cov.csv')"
   ]
  },
  {
   "cell_type": "markdown",
   "metadata": {},
   "source": [
    "### Two Stage Floating Catchment Area"
   ]
  },
  {
   "cell_type": "code",
   "execution_count": 48,
   "metadata": {},
   "outputs": [
    {
     "name": "stdout",
     "output_type": "stream",
     "text": [
      "The variables in your data set are:\n",
      ">  geoid10\n",
      ">  lon\n",
      ">  lat\n",
      ">  Pop2014\n",
      ">  Pov14\n",
      ">  community\n"
     ]
    },
    {
     "name": "stdin",
     "output_type": "stream",
     "text": [
      "Enter the longitude coordinate:  lon\n",
      "Enter the latitude coordinate:  lat\n",
      "Enter the index name:  geoid10\n"
     ]
    },
    {
     "name": "stdout",
     "output_type": "stream",
     "text": [
      "The variables in your data set are:\n",
      ">  name\n",
      ">  lon\n",
      ">  lat\n",
      ">  category\n",
      ">  target\n"
     ]
    },
    {
     "name": "stdin",
     "output_type": "stream",
     "text": [
      "Enter the longitude coordinate:  lon\n",
      "Enter the latitude coordinate:  lat\n",
      "Enter the index name:  name\n"
     ]
    },
    {
     "name": "stderr",
     "output_type": "stream",
     "text": [
      "INFO:spatial_access.p2p:Approx area of bounding box: 141.64 sq. km\n",
      "INFO:spatial_access.p2p:All operations completed in 8.62 seconds\n"
     ]
    },
    {
     "name": "stdout",
     "output_type": "stream",
     "text": [
      "The variables in your data set are:\n",
      ">  geoid10\n",
      ">  lon\n",
      ">  lat\n",
      ">  Pop2014\n",
      ">  Pov14\n",
      ">  community\n",
      "If you have no population variable, write \"skip\" (no quotations)\n"
     ]
    },
    {
     "name": "stdin",
     "output_type": "stream",
     "text": [
      "Enter the population variable:  Pop2014\n"
     ]
    },
    {
     "name": "stdout",
     "output_type": "stream",
     "text": [
      "The variables in your data set are:\n",
      ">  name\n",
      ">  lon\n",
      ">  lat\n",
      ">  category\n",
      ">  target\n",
      "If you have no capacity variable, write \"skip\" (no quotations)\n"
     ]
    },
    {
     "name": "stdin",
     "output_type": "stream",
     "text": [
      "Enter the capacity variable:  target\n"
     ]
    },
    {
     "name": "stdout",
     "output_type": "stream",
     "text": [
      "If you have no category variable, write \"skip\" (no quotations)\n"
     ]
    },
    {
     "name": "stdin",
     "output_type": "stream",
     "text": [
      "Enter the category variable:  category\n"
     ]
    }
   ],
   "source": [
    "tsfca = TSFCA(network_type='walk',\n",
    "              transit_matrix_filename='data/output_data/matrices/simple_demo_matrix.csv',\n",
    "              sources_filename='data/input_data/sources/hyde_park_tracts.csv',\n",
    "              destinations_filename='data/input_data/destinations/hyde_park_dests.csv',\n",
    "              source_column_names={'idx' : 'geoid10', 'population': 'Pop2014', 'lat': 'lat', 'lon': 'lon'},\n",
    "              dest_column_names={'idx': 'name', 'capacity': 'target', 'category': 'category', 'lat': 'lat', 'lon': 'lon'}\n",
    "             )"
   ]
  },
  {
   "cell_type": "code",
   "execution_count": 49,
   "metadata": {},
   "outputs": [
    {
     "data": {
      "text/html": [
       "<div>\n",
       "<style scoped>\n",
       "    .dataframe tbody tr th:only-of-type {\n",
       "        vertical-align: middle;\n",
       "    }\n",
       "\n",
       "    .dataframe tbody tr th {\n",
       "        vertical-align: top;\n",
       "    }\n",
       "\n",
       "    .dataframe thead th {\n",
       "        text-align: right;\n",
       "    }\n",
       "</style>\n",
       "<table border=\"1\" class=\"dataframe\">\n",
       "  <thead>\n",
       "    <tr style=\"text-align: right;\">\n",
       "      <th></th>\n",
       "      <th>percap_spend_Museum</th>\n",
       "      <th>percap_spend_Supermarket</th>\n",
       "      <th>percap_spend_Restaurant</th>\n",
       "      <th>percap_spend_all_categories</th>\n",
       "    </tr>\n",
       "  </thead>\n",
       "  <tbody>\n",
       "    <tr>\n",
       "      <th>17031836300</th>\n",
       "      <td>0.004323</td>\n",
       "      <td>0.006899</td>\n",
       "      <td>0.002554</td>\n",
       "      <td>0.013775</td>\n",
       "    </tr>\n",
       "    <tr>\n",
       "      <th>17031836200</th>\n",
       "      <td>0.020412</td>\n",
       "      <td>0.006899</td>\n",
       "      <td>0.002554</td>\n",
       "      <td>0.029864</td>\n",
       "    </tr>\n",
       "    <tr>\n",
       "      <th>17031410100</th>\n",
       "      <td>0.016089</td>\n",
       "      <td>0.002713</td>\n",
       "      <td>0.002554</td>\n",
       "      <td>0.021357</td>\n",
       "    </tr>\n",
       "    <tr>\n",
       "      <th>17031410200</th>\n",
       "      <td>0.020412</td>\n",
       "      <td>0.002713</td>\n",
       "      <td>0.002554</td>\n",
       "      <td>0.025679</td>\n",
       "    </tr>\n",
       "    <tr>\n",
       "      <th>17031410500</th>\n",
       "      <td>0.020412</td>\n",
       "      <td>0.006899</td>\n",
       "      <td>0.002554</td>\n",
       "      <td>0.029864</td>\n",
       "    </tr>\n",
       "    <tr>\n",
       "      <th>17031410600</th>\n",
       "      <td>0.020412</td>\n",
       "      <td>0.006899</td>\n",
       "      <td>0.002554</td>\n",
       "      <td>0.029864</td>\n",
       "    </tr>\n",
       "    <tr>\n",
       "      <th>17031411100</th>\n",
       "      <td>0.020412</td>\n",
       "      <td>0.006899</td>\n",
       "      <td>0.002554</td>\n",
       "      <td>0.029864</td>\n",
       "    </tr>\n",
       "    <tr>\n",
       "      <th>17031410700</th>\n",
       "      <td>0.020412</td>\n",
       "      <td>0.002713</td>\n",
       "      <td>0.002554</td>\n",
       "      <td>0.025679</td>\n",
       "    </tr>\n",
       "    <tr>\n",
       "      <th>17031410800</th>\n",
       "      <td>0.020412</td>\n",
       "      <td>0.002713</td>\n",
       "      <td>0.002554</td>\n",
       "      <td>0.025679</td>\n",
       "    </tr>\n",
       "    <tr>\n",
       "      <th>17031410900</th>\n",
       "      <td>0.016089</td>\n",
       "      <td>0.002713</td>\n",
       "      <td>0.002554</td>\n",
       "      <td>0.021357</td>\n",
       "    </tr>\n",
       "    <tr>\n",
       "      <th>17031411000</th>\n",
       "      <td>0.016089</td>\n",
       "      <td>0.002713</td>\n",
       "      <td>0.002554</td>\n",
       "      <td>0.021357</td>\n",
       "    </tr>\n",
       "    <tr>\n",
       "      <th>17031411200</th>\n",
       "      <td>0.020412</td>\n",
       "      <td>0.006899</td>\n",
       "      <td>0.002554</td>\n",
       "      <td>0.029864</td>\n",
       "    </tr>\n",
       "  </tbody>\n",
       "</table>\n",
       "</div>"
      ],
      "text/plain": [
       "             percap_spend_Museum  percap_spend_Supermarket  \\\n",
       "17031836300             0.004323                  0.006899   \n",
       "17031836200             0.020412                  0.006899   \n",
       "17031410100             0.016089                  0.002713   \n",
       "17031410200             0.020412                  0.002713   \n",
       "17031410500             0.020412                  0.006899   \n",
       "17031410600             0.020412                  0.006899   \n",
       "17031411100             0.020412                  0.006899   \n",
       "17031410700             0.020412                  0.002713   \n",
       "17031410800             0.020412                  0.002713   \n",
       "17031410900             0.016089                  0.002713   \n",
       "17031411000             0.016089                  0.002713   \n",
       "17031411200             0.020412                  0.006899   \n",
       "\n",
       "             percap_spend_Restaurant  percap_spend_all_categories  \n",
       "17031836300                 0.002554                     0.013775  \n",
       "17031836200                 0.002554                     0.029864  \n",
       "17031410100                 0.002554                     0.021357  \n",
       "17031410200                 0.002554                     0.025679  \n",
       "17031410500                 0.002554                     0.029864  \n",
       "17031410600                 0.002554                     0.029864  \n",
       "17031411100                 0.002554                     0.029864  \n",
       "17031410700                 0.002554                     0.025679  \n",
       "17031410800                 0.002554                     0.025679  \n",
       "17031410900                 0.002554                     0.021357  \n",
       "17031411000                 0.002554                     0.021357  \n",
       "17031411200                 0.002554                     0.029864  "
      ]
     },
     "execution_count": 49,
     "metadata": {},
     "output_type": "execute_result"
    }
   ],
   "source": [
    "tsfca.calculate(upper_threshold=1800)"
   ]
  },
  {
   "cell_type": "code",
   "execution_count": 11,
   "metadata": {},
   "outputs": [],
   "source": [
    "tsfca.model_results.to_csv('data/output_data/simple_demo_tsfca.csv')"
   ]
  }
 ],
 "metadata": {
  "kernelspec": {
   "display_name": "Python 3",
   "language": "python",
   "name": "python3"
  },
  "language_info": {
   "codemirror_mode": {
    "name": "ipython",
    "version": 3
   },
   "file_extension": ".py",
   "mimetype": "text/x-python",
   "name": "python",
   "nbconvert_exporter": "python",
   "pygments_lexer": "ipython3",
   "version": "3.6.5"
  }
 },
 "nbformat": 4,
 "nbformat_minor": 2
}
