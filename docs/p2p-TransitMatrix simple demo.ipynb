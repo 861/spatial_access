{
 "cells": [
  {
   "cell_type": "code",
   "execution_count": 1,
   "metadata": {},
   "outputs": [],
   "source": [
    "from spatial_access.p2p import TransitMatrix"
   ]
  },
  {
   "cell_type": "code",
   "execution_count": 2,
   "metadata": {},
   "outputs": [],
   "source": [
    "import pandas as pd\n",
    "sources_df = pd.read_csv('data/input_data/sources.csv')\n",
    "dests_df = pd.read_csv('data/input_data/dests.csv')"
   ]
  },
  {
   "cell_type": "code",
   "execution_count": 3,
   "metadata": {},
   "outputs": [
    {
     "data": {
      "text/html": [
       "<div>\n",
       "<style scoped>\n",
       "    .dataframe tbody tr th:only-of-type {\n",
       "        vertical-align: middle;\n",
       "    }\n",
       "\n",
       "    .dataframe tbody tr th {\n",
       "        vertical-align: top;\n",
       "    }\n",
       "\n",
       "    .dataframe thead th {\n",
       "        text-align: right;\n",
       "    }\n",
       "</style>\n",
       "<table border=\"1\" class=\"dataframe\">\n",
       "  <thead>\n",
       "    <tr style=\"text-align: right;\">\n",
       "      <th></th>\n",
       "      <th>name</th>\n",
       "      <th>x</th>\n",
       "      <th>y</th>\n",
       "    </tr>\n",
       "  </thead>\n",
       "  <tbody>\n",
       "    <tr>\n",
       "      <th>0</th>\n",
       "      <td>chicago_theater</td>\n",
       "      <td>41.885343</td>\n",
       "      <td>-87.627911</td>\n",
       "    </tr>\n",
       "    <tr>\n",
       "      <th>1</th>\n",
       "      <td>lincoln_park_zoo</td>\n",
       "      <td>41.921860</td>\n",
       "      <td>-87.635709</td>\n",
       "    </tr>\n",
       "    <tr>\n",
       "      <th>2</th>\n",
       "      <td>second_city</td>\n",
       "      <td>41.911518</td>\n",
       "      <td>-87.634719</td>\n",
       "    </tr>\n",
       "  </tbody>\n",
       "</table>\n",
       "</div>"
      ],
      "text/plain": [
       "               name          x          y\n",
       "0   chicago_theater  41.885343 -87.627911\n",
       "1  lincoln_park_zoo  41.921860 -87.635709\n",
       "2       second_city  41.911518 -87.634719"
      ]
     },
     "execution_count": 3,
     "metadata": {},
     "output_type": "execute_result"
    }
   ],
   "source": [
    "sources_df.head()"
   ]
  },
  {
   "cell_type": "code",
   "execution_count": 4,
   "metadata": {},
   "outputs": [
    {
     "data": {
      "text/html": [
       "<div>\n",
       "<style scoped>\n",
       "    .dataframe tbody tr th:only-of-type {\n",
       "        vertical-align: middle;\n",
       "    }\n",
       "\n",
       "    .dataframe tbody tr th {\n",
       "        vertical-align: top;\n",
       "    }\n",
       "\n",
       "    .dataframe thead th {\n",
       "        text-align: right;\n",
       "    }\n",
       "</style>\n",
       "<table border=\"1\" class=\"dataframe\">\n",
       "  <thead>\n",
       "    <tr style=\"text-align: right;\">\n",
       "      <th></th>\n",
       "      <th>name</th>\n",
       "      <th>x</th>\n",
       "      <th>y</th>\n",
       "    </tr>\n",
       "  </thead>\n",
       "  <tbody>\n",
       "    <tr>\n",
       "      <th>0</th>\n",
       "      <td>medici</td>\n",
       "      <td>41.791455</td>\n",
       "      <td>-87.593781</td>\n",
       "    </tr>\n",
       "    <tr>\n",
       "      <th>1</th>\n",
       "      <td>msi</td>\n",
       "      <td>41.791655</td>\n",
       "      <td>-87.582974</td>\n",
       "    </tr>\n",
       "    <tr>\n",
       "      <th>2</th>\n",
       "      <td>whole_foods</td>\n",
       "      <td>41.802080</td>\n",
       "      <td>-87.587849</td>\n",
       "    </tr>\n",
       "  </tbody>\n",
       "</table>\n",
       "</div>"
      ],
      "text/plain": [
       "          name          x          y\n",
       "0       medici  41.791455 -87.593781\n",
       "1          msi  41.791655 -87.582974\n",
       "2  whole_foods  41.802080 -87.587849"
      ]
     },
     "execution_count": 4,
     "metadata": {},
     "output_type": "execute_result"
    }
   ],
   "source": [
    "dests_df.head()"
   ]
  },
  {
   "cell_type": "code",
   "execution_count": 5,
   "metadata": {},
   "outputs": [],
   "source": [
    "#assymetrix matrix, different source and dest files\n",
    "matrix = TransitMatrix('drive', primary_input='data/input_data/sources.csv', secondary_input='data/input_data/dests.csv')"
   ]
  },
  {
   "cell_type": "code",
   "execution_count": 6,
   "metadata": {},
   "outputs": [
    {
     "name": "stderr",
     "output_type": "stream",
     "text": [
      "INFO:spatial_access.p2p:Processing network (drive) with epsilon: 0.050000\n"
     ]
    },
    {
     "name": "stdout",
     "output_type": "stream",
     "text": [
      "The variables in your data set are:\n",
      ">  name\n",
      ">  x\n",
      ">  y\n",
      "Enter the longitude coordinate: y\n",
      "Enter the latitude coordinate: x\n",
      "Enter the index name: name\n"
     ]
    },
    {
     "name": "stderr",
     "output_type": "stream",
     "text": [
      "INFO:spatial_access.p2p:Total number of rows in the dataset: 3\n"
     ]
    },
    {
     "name": "stdout",
     "output_type": "stream",
     "text": [
      "The variables in your data set are:\n",
      ">  name\n",
      ">  x\n",
      ">  y\n",
      "Enter the longitude coordinate: y\n",
      "Enter the latitude coordinate: x\n",
      "Enter the index name: name\n"
     ]
    },
    {
     "name": "stderr",
     "output_type": "stream",
     "text": [
      "INFO:spatial_access.p2p:Total number of rows in the dataset: 3\n",
      "INFO:osmnet:Requesting network data within bounding box from Overpass API in 1 request(s)\n",
      "INFO:osmnet:Posting to http://www.overpass-api.de/api/interpreter with timeout=180, \"{'data': '[out:json][timeout:180];(way[\"highway\"][\"highway\"!~\"cycleway|footway|path|pedestrian|steps|track|proposed|construction|bridleway|abandoned|platform|raceway|service\"][\"motor_vehicle\"!~\"no\"][\"motorcar\"!~\"no\"][\"service\"!~\"parking|parking_aisle|driveway|emergency_access\"](41.74145500,-87.68570900,41.97186000,-87.53297400);>;);out;'}\"\n"
     ]
    },
    {
     "name": "stdout",
     "output_type": "stream",
     "text": [
      "Requesting network data within bounding box from Overpass API in 1 request(s)\n",
      "Posting to http://www.overpass-api.de/api/interpreter with timeout=180, \"{'data': '[out:json][timeout:180];(way[\"highway\"][\"highway\"!~\"cycleway|footway|path|pedestrian|steps|track|proposed|construction|bridleway|abandoned|platform|raceway|service\"][\"motor_vehicle\"!~\"no\"][\"motorcar\"!~\"no\"][\"service\"!~\"parking|parking_aisle|driveway|emergency_access\"](41.74145500,-87.68570900,41.97186000,-87.53297400);>;);out;'}\"\n"
     ]
    },
    {
     "name": "stderr",
     "output_type": "stream",
     "text": [
      "INFO:osmnet:Downloaded 8,790.2KB from www.overpass-api.de in 4.06 seconds\n",
      "INFO:osmnet:Downloaded OSM network data within bounding box from Overpass API in 1 request(s) and 4.31 seconds\n"
     ]
    },
    {
     "name": "stdout",
     "output_type": "stream",
     "text": [
      "Downloaded 8,790.2KB from www.overpass-api.de in 4.06 seconds\n",
      "Downloaded OSM network data within bounding box from Overpass API in 1 request(s) and 4.31 seconds\n"
     ]
    },
    {
     "name": "stderr",
     "output_type": "stream",
     "text": [
      "INFO:osmnet:Returning OSM data with 43,234 nodes and 10,744 ways...\n"
     ]
    },
    {
     "name": "stdout",
     "output_type": "stream",
     "text": [
      "Returning OSM data with 43,234 nodes and 10,744 ways...\n"
     ]
    },
    {
     "name": "stderr",
     "output_type": "stream",
     "text": [
      "INFO:osmnet:Edge node pairs completed. Took 23.19 seconds\n",
      "INFO:osmnet:Returning processed graph with 13,591 nodes and 20,467 edges...\n",
      "INFO:osmnet:Completed OSM data download and Pandana node and edge table creation in 30.13 seconds\n"
     ]
    },
    {
     "name": "stdout",
     "output_type": "stream",
     "text": [
      "Edge node pairs completed. Took 23.19 seconds\n",
      "Returning processed graph with 13,591 nodes and 20,467 edges...\n",
      "Completed OSM data download and Pandana node and edge table creation in 30.13 seconds\n"
     ]
    },
    {
     "name": "stderr",
     "output_type": "stream",
     "text": [
      "INFO:spatial_access.p2p:Queried OSM...\n",
      "INFO:spatial_access.p2p:Prepared raw network in 0.09 seconds\n",
      "/Users/logannoel/git/spatial_access/spatial_access/p2p.py:323: FutureWarning: Method .as_matrix will be removed in a future version. Use .values instead.\n",
      "  node_array = pd.DataFrame.as_matrix(nodes)\n",
      "WARNING:spatial_access.p2p:\n",
      "        Using string ids is very slow. \n",
      "        You should map noninteger ids to integers instead\n",
      "        \n",
      "INFO:spatial_access.p2p:Nearest Neighbor matching completed in 0.01 seconds\n",
      "INFO:spatial_access.p2p:Nearest Neighbor matching completed in 0.01 seconds\n",
      "INFO:spatial_access.p2p:Shortest path matrix computed in 0.00 seconds\n",
      "INFO:spatial_access.p2p:All operations completed in 41.35 seconds\n"
     ]
    }
   ],
   "source": [
    "matrix.process()"
   ]
  },
  {
   "cell_type": "code",
   "execution_count": 7,
   "metadata": {},
   "outputs": [
    {
     "name": "stderr",
     "output_type": "stream",
     "text": [
      "INFO:spatial_access.p2p:Wrote file to data/output_1_drive.csv\n"
     ]
    }
   ],
   "source": [
    "matrix.write_to_file('data/output_1_drive.csv')"
   ]
  },
  {
   "cell_type": "code",
   "execution_count": 10,
   "metadata": {},
   "outputs": [
    {
     "name": "stdout",
     "output_type": "stream",
     "text": [
      ",3,4,5,\r\n",
      "0,716,592,575,\r\n",
      "1,925,801,784,\r\n",
      "2,850,726,709,\r\n",
      "\r\n"
     ]
    }
   ],
   "source": [
    "#the row and column labels are mapped to number labels\n",
    "cat 'data/output_1_drive.csv'"
   ]
  },
  {
   "cell_type": "code",
   "execution_count": 14,
   "metadata": {},
   "outputs": [],
   "source": [
    "matrix_2 = TransitMatrix('walk', primary_input='data/input_data/dests.csv', use_meters=True)"
   ]
  },
  {
   "cell_type": "code",
   "execution_count": 15,
   "metadata": {},
   "outputs": [
    {
     "name": "stderr",
     "output_type": "stream",
     "text": [
      "INFO:spatial_access.p2p:Processing network (walk) with epsilon: 0.050000\n"
     ]
    },
    {
     "name": "stdout",
     "output_type": "stream",
     "text": [
      "The variables in your data set are:\n",
      ">  name\n",
      ">  x\n",
      ">  y\n",
      "Enter the longitude coordinate: y\n",
      "Enter the latitude coordinate: x\n",
      "Enter the index name: name\n"
     ]
    },
    {
     "name": "stderr",
     "output_type": "stream",
     "text": [
      "INFO:spatial_access.p2p:Total number of rows in the dataset: 3\n",
      "INFO:osmnet:Requesting network data within bounding box from Overpass API in 1 request(s)\n",
      "INFO:osmnet:Posting to http://www.overpass-api.de/api/interpreter with timeout=180, \"{'data': '[out:json][timeout:180];(way[\"highway\"][\"highway\"!~\"motor|proposed|construction|abandoned|platform|raceway\"][\"foot\"!~\"no\"][\"pedestrians\"!~\"no\"](41.74145500,-87.64378100,41.85208000,-87.53297400);>;);out;'}\"\n"
     ]
    },
    {
     "name": "stdout",
     "output_type": "stream",
     "text": [
      "Requesting network data within bounding box from Overpass API in 1 request(s)\n",
      "Posting to http://www.overpass-api.de/api/interpreter with timeout=180, \"{'data': '[out:json][timeout:180];(way[\"highway\"][\"highway\"!~\"motor|proposed|construction|abandoned|platform|raceway\"][\"foot\"!~\"no\"][\"pedestrians\"!~\"no\"](41.74145500,-87.64378100,41.85208000,-87.53297400);>;);out;'}\"\n"
     ]
    },
    {
     "name": "stderr",
     "output_type": "stream",
     "text": [
      "INFO:osmnet:Downloaded 5,479.7KB from www.overpass-api.de in 11.22 seconds\n",
      "INFO:osmnet:Downloaded OSM network data within bounding box from Overpass API in 1 request(s) and 11.37 seconds\n"
     ]
    },
    {
     "name": "stdout",
     "output_type": "stream",
     "text": [
      "Downloaded 5,479.7KB from www.overpass-api.de in 11.22 seconds\n",
      "Downloaded OSM network data within bounding box from Overpass API in 1 request(s) and 11.37 seconds\n"
     ]
    },
    {
     "name": "stderr",
     "output_type": "stream",
     "text": [
      "INFO:osmnet:Returning OSM data with 31,257 nodes and 8,397 ways...\n"
     ]
    },
    {
     "name": "stdout",
     "output_type": "stream",
     "text": [
      "Returning OSM data with 31,257 nodes and 8,397 ways...\n"
     ]
    },
    {
     "name": "stderr",
     "output_type": "stream",
     "text": [
      "INFO:osmnet:Edge node pairs completed. Took 21.50 seconds\n",
      "INFO:osmnet:Returning processed graph with 13,858 nodes and 21,040 edges...\n",
      "INFO:osmnet:Completed OSM data download and Pandana node and edge table creation in 34.51 seconds\n"
     ]
    },
    {
     "name": "stdout",
     "output_type": "stream",
     "text": [
      "Edge node pairs completed. Took 21.50 seconds\n",
      "Returning processed graph with 13,858 nodes and 21,040 edges...\n",
      "Completed OSM data download and Pandana node and edge table creation in 34.51 seconds\n"
     ]
    },
    {
     "name": "stderr",
     "output_type": "stream",
     "text": [
      "INFO:spatial_access.p2p:Queried OSM...\n",
      "INFO:spatial_access.p2p:Prepared raw network in 0.06 seconds\n",
      "/Users/logannoel/git/spatial_access/spatial_access/p2p.py:323: FutureWarning: Method .as_matrix will be removed in a future version. Use .values instead.\n",
      "  node_array = pd.DataFrame.as_matrix(nodes)\n",
      "WARNING:spatial_access.p2p:\n",
      "        Using string ids is very slow. \n",
      "        You should map noninteger ids to integers instead\n",
      "        \n",
      "INFO:spatial_access.p2p:Nearest Neighbor matching completed in 0.01 seconds\n",
      "INFO:spatial_access.p2p:Shortest path matrix computed in 0.00 seconds\n",
      "INFO:spatial_access.p2p:All operations completed in 38.60 seconds\n"
     ]
    }
   ],
   "source": [
    "matrix_2.process()"
   ]
  },
  {
   "cell_type": "code",
   "execution_count": 16,
   "metadata": {},
   "outputs": [
    {
     "name": "stderr",
     "output_type": "stream",
     "text": [
      "INFO:spatial_access.p2p:Wrote file to data/output_2_walk.csv\n"
     ]
    }
   ],
   "source": [
    "matrix_2.write_to_file('data/output_2_walk.csv')"
   ]
  },
  {
   "cell_type": "code",
   "execution_count": 21,
   "metadata": {},
   "outputs": [
    {
     "name": "stdout",
     "output_type": "stream",
     "text": [
      "name,x,y\r\n",
      "medici,41.791455,-87.593781\r\n",
      "msi,41.791655,-87.582974\r\n",
      "whole_foods,41.802080,-87.587849\r\n"
     ]
    }
   ],
   "source": [
    "cat 'data/input_data/dests.csv'"
   ]
  },
  {
   "cell_type": "code",
   "execution_count": 20,
   "metadata": {},
   "outputs": [
    {
     "name": "stdout",
     "output_type": "stream",
     "text": [
      ",0,1,2,\r\n",
      "0,0,936,1714,\r\n",
      "1,936,0,1501,\r\n",
      "2,1714,1501,0,\r\n",
      "\r\n"
     ]
    }
   ],
   "source": [
    "cat 'data/output_2_walk.csv'"
   ]
  },
  {
   "cell_type": "raw",
   "metadata": {},
   "source": []
  },
  {
   "cell_type": "markdown",
   "metadata": {},
   "source": []
  }
 ],
 "metadata": {
  "kernelspec": {
   "display_name": "Python 3",
   "language": "python",
   "name": "python3"
  },
  "language_info": {
   "codemirror_mode": {
    "name": "ipython",
    "version": 3
   },
   "file_extension": ".py",
   "mimetype": "text/x-python",
   "name": "python",
   "nbconvert_exporter": "python",
   "pygments_lexer": "ipython3",
   "version": "3.5.2"
  }
 },
 "nbformat": 4,
 "nbformat_minor": 2
}
