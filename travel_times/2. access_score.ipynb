{
 "cells": [
  {
   "cell_type": "markdown",
   "metadata": {},
   "source": [
    "# Access Scores"
   ]
  },
  {
   "cell_type": "markdown",
   "metadata": {},
   "source": [
    "## Calculating the Access Score\n",
    "---\n",
    "\n",
    "<span style=\"color:LimeGreen\"> **Specifications for the HSSA Model:**  \n",
    "\n",
    "HSSAModel( ):  \n",
    "- Network_type ('drive' or 'walk')\n",
    "- source_filename\n",
    "- dest_filename\n",
    "- sp_matrix_filename (None implies that the user hasn't previously generated a distance matrix; thus, calculating it on the fly.)  \n",
    "- decay_function ('linear', 'root', 'logit')\n",
    "- limit_categories (None is defined as default, but user can delimit on particular categories of interest.)  \n",
    "- upper=30 (can change default) is the time (in minutes) in which the origin and destinations are considered to be out of range of each other. Thus, if the travel time distance exceeds 30 minutes, the score will be zero.\n",
    "- custom_threshold=40 (change binning threshold specifying it in calculate() function. Example: model_name.calculate(custom_threshold=40)\n",
    "\n",
    "Spatial areal units with no population are denominated as NA (>>> WRONG - CHANGE after Logan fixes) while spatial areal units beyond the 30 minute buffer are denominated as zeros.\n",
    "\n",
    "In **model_name.calculate( )** specify the following parameters:  \n",
    "* normalize=True (if want standarized and unstandarizes score outputs)\n",
    "* use_target=False (neglect target as a weight) >>> will be deprecated soon\n",
    "* custom_weight_dict=None (set dictionary of weights if user has specific loadings of interest)  \n",
    "* largest_weights_first=True (set dictionary or default weights as the largest ones first)\n",
    "\n",
    "Dictionary weights should be set as the following example:  \n",
    "my_dict = {'Hospitals' : [200, 300,299, 250],  \n",
    "                'Federally Qualified Health Centers ' : [60,70,70,80,90,100],  \n",
    "                'School-Based Health Centers': [40,20,10],  \n",
    "                'All Free Health Clinics': [100,20,1,5]}"
   ]
  },
  {
   "cell_type": "code",
   "execution_count": null,
   "metadata": {},
   "outputs": [],
   "source": [
    "from CommunityAnalytics import *"
   ]
  },
  {
   "cell_type": "code",
   "execution_count": null,
   "metadata": {},
   "outputs": [],
   "source": []
  },
  {
   "cell_type": "code",
   "execution_count": null,
   "metadata": {},
   "outputs": [],
   "source": []
  },
  {
   "cell_type": "code",
   "execution_count": null,
   "metadata": {},
   "outputs": [],
   "source": [
    "#the last already generated a shortest path matrix, so we can reuse that instead of regenerating it\n",
    "\n",
    "access = AccessModel(network_type='walk',\n",
    "                     sp_matrix_filename='data/walk_nets_tracts2010.csv',\n",
    "                     source_filename='data/tracts2010.csv',\n",
    "                     dest_filename='data/nets_chicago2.csv',\n",
    "                     decay_function='logit')"
   ]
  },
  {
   "cell_type": "code",
   "execution_count": null,
   "metadata": {},
   "outputs": [],
   "source": [
    "#Example of density and variety weights:\n",
    "dict = {\n",
    "\"Hospitals\": [10,10,10,10,10],\n",
    "\"Federally Qualified Health Centers\": [8, 7, 6, 5, 4],\n",
    "\"School-Based Health Centers\": [7, 7, 6, 6, 5],\n",
    "\"All Free Health Clinics\": [5, 5, 5, 4, 4],\n",
    "\"Other Health Providers\": [4,3,2,1,1]\n",
    "}"
   ]
  },
  {
   "cell_type": "code",
   "execution_count": null,
   "metadata": {},
   "outputs": [],
   "source": [
    "access.calculate(custom_threshold=40,\n",
    "                 normalize=True,\n",
    "                 custom_weight_dict=dict,\n",
    "                 largest_weights_first=True)"
   ]
  },
  {
   "cell_type": "markdown",
   "metadata": {},
   "source": [
    "By constructing the access model, we can do several things:\n",
    "- Write to csv\n",
    "- Aggregate\n",
    "- Get count of nearby destinations metric\n",
    "- Get time to closest destination metric"
   ]
  },
  {
   "cell_type": "code",
   "execution_count": null,
   "metadata": {},
   "outputs": [],
   "source": [
    "access.results"
   ]
  },
  {
   "cell_type": "markdown",
   "metadata": {},
   "source": [
    "### Aggregation"
   ]
  },
  {
   "cell_type": "code",
   "execution_count": null,
   "metadata": {},
   "outputs": [],
   "source": [
    "#For community areas\n",
    "access.write_aggregate('access')"
   ]
  },
  {
   "cell_type": "markdown",
   "metadata": {},
   "source": [
    "## Count of Nearby Destinations"
   ]
  },
  {
   "cell_type": "code",
   "execution_count": null,
   "metadata": {},
   "outputs": [],
   "source": [
    "#Use .n_dests_in_range to estimate the number of facilities by category within a buffer (time defined in upper)\n",
    "access.n_dests_in_range.to_csv('data/nd_health_tracts.csv')"
   ]
  },
  {
   "cell_type": "code",
   "execution_count": null,
   "metadata": {},
   "outputs": [],
   "source": [
    "access.n_dests_in_range"
   ]
  },
  {
   "cell_type": "code",
   "execution_count": null,
   "metadata": {},
   "outputs": [],
   "source": []
  },
  {
   "cell_type": "markdown",
   "metadata": {},
   "source": [
    "## Time to Closest Destination"
   ]
  },
  {
   "cell_type": "code",
   "execution_count": null,
   "metadata": {},
   "outputs": [],
   "source": [
    "#Use .near_nbr to create the time to the nearest neighbor within a buffer (time defined in upper)\n",
    "access.near_nbr.to_csv('data/nn_health_tracts.csv')"
   ]
  },
  {
   "cell_type": "code",
   "execution_count": null,
   "metadata": {},
   "outputs": [],
   "source": [
    "access.near_nbr"
   ]
  },
  {
   "cell_type": "code",
   "execution_count": null,
   "metadata": {},
   "outputs": [],
   "source": []
  },
  {
   "cell_type": "markdown",
   "metadata": {},
   "source": [
    "# Coverage Score"
   ]
  },
  {
   "cell_type": "markdown",
   "metadata": {},
   "source": [
    "## Calculating the Per Capita Access Score\n",
    "---\n",
    "\n",
    "\n",
    "**Specifications for PCSpend Model:**  \n",
    "PCSpendModel( ):  \n",
    "- Network_type ('drive' or 'walk')\n",
    "- source_filename  \n",
    "- dest_filename\n",
    "- sp_matrix_filename (None implies that the user hasn't previously generated a distance matrix; thus, calculating it on the fly.)  \n",
    "- limit_categories (None is defined as default, but user can focus only on particular categories of interest.)  \n",
    "\n",
    "\n",
    "Specifications:\n",
    "- Target or amenity value (>>>where specify this? Should we still have the option to carry it out in the HSSA? Should we specify that there?): The establishment will be weighted depending of the size of the establishment. Size can be measured differently (in this case, it's the size of the health facility, but it could also be the number of patients it accomodates, etc.)   \n",
    "- Category of interest\n",
    "\n",
    "Functions within the PCSpend Model class (use as name_of_model.function()):  \n",
    "- calculate () \n",
    "- calculate_single  (subset)\n",
    "- get_aggregate (aggregate_type) Aggregation can be by ('population') or ('pcspend') score for the community level. If the user wants to modify the level of aggregation, change 'community' with other spatial unit of analysis in code.  \n",
    "- write_aggregate (aggregate_type, filename='name')\n",
    "- plot_aggregate  (plot_type='pcspend', include_vendors=True, focus_column='all_categories')\n",
    "- plot_cdf  (title='Per Capita Spending')\n",
    "- write_csv (filename='name') "
   ]
  },
  {
   "cell_type": "code",
   "execution_count": null,
   "metadata": {},
   "outputs": [],
   "source": [
    "coverage = CoverageModel(network_type='walk',\n",
    "                         sp_matrix_filename='data/walk_asym_health_tracts.csv',\n",
    "                         source_filename='data/tracts2010.csv',\n",
    "                         dest_filename='data/marynia_health.csv')"
   ]
  },
  {
   "cell_type": "code",
   "execution_count": null,
   "metadata": {},
   "outputs": [],
   "source": [
    "coverage.calculate()"
   ]
  },
  {
   "cell_type": "code",
   "execution_count": null,
   "metadata": {},
   "outputs": [],
   "source": []
  },
  {
   "cell_type": "code",
   "execution_count": null,
   "metadata": {},
   "outputs": [],
   "source": []
  },
  {
   "cell_type": "code",
   "execution_count": null,
   "metadata": {},
   "outputs": [],
   "source": []
  },
  {
   "cell_type": "code",
   "execution_count": null,
   "metadata": {},
   "outputs": [],
   "source": []
  },
  {
   "cell_type": "markdown",
   "metadata": {},
   "source": [
    "### Aggregation"
   ]
  },
  {
   "cell_type": "code",
   "execution_count": null,
   "metadata": {},
   "outputs": [],
   "source": [
    "coverage._get_aggregate('coverage')"
   ]
  },
  {
   "cell_type": "code",
   "execution_count": null,
   "metadata": {},
   "outputs": [],
   "source": [
    "coverage.write_aggregate('coverage')"
   ]
  },
  {
   "cell_type": "code",
   "execution_count": null,
   "metadata": {},
   "outputs": [],
   "source": [
    "coverage.agg_area_cat()"
   ]
  },
  {
   "cell_type": "code",
   "execution_count": null,
   "metadata": {},
   "outputs": [],
   "source": []
  },
  {
   "cell_type": "markdown",
   "metadata": {},
   "source": [
    "### Subset of categories"
   ]
  },
  {
   "cell_type": "code",
   "execution_count": null,
   "metadata": {},
   "outputs": [],
   "source": [
    "# Estimate Per Capita Access Score for walking\n",
    "coverage_hosp = PCSpendModel(network_type='walk',\n",
    "                        sp_matrix_filename='data/walk_asym_health.csv',\n",
    "                        source_filename='resources/LEHD_blocks.csv',\n",
    "                        dest_filename='resources/marynia_health.csv',\n",
    "                        upper=30,\n",
    "                        limit_categories=set(['Federally Qualified Health Centers', 'Hospitals', 'School-Based Health Centers']))"
   ]
  },
  {
   "cell_type": "code",
   "execution_count": null,
   "metadata": {},
   "outputs": [],
   "source": []
  },
  {
   "cell_type": "code",
   "execution_count": null,
   "metadata": {},
   "outputs": [],
   "source": []
  }
 ],
 "metadata": {
  "kernelspec": {
   "display_name": "Python 3",
   "language": "python",
   "name": "python3"
  },
  "language_info": {
   "codemirror_mode": {
    "name": "ipython",
    "version": 3
   },
   "file_extension": ".py",
   "mimetype": "text/x-python",
   "name": "python",
   "nbconvert_exporter": "python",
   "pygments_lexer": "ipython3",
   "version": "3.6.4"
  }
 },
 "nbformat": 4,
 "nbformat_minor": 2
}
