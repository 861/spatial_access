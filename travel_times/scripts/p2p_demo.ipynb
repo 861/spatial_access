{
 "cells": [
  {
   "cell_type": "code",
   "execution_count": 1,
   "metadata": {
    "collapsed": true
   },
   "outputs": [],
   "source": [
    "from p2p import *"
   ]
  },
  {
   "cell_type": "code",
   "execution_count": 2,
   "metadata": {},
   "outputs": [
    {
     "data": {
      "text/html": [
       "<div>\n",
       "<style>\n",
       "    .dataframe thead tr:only-child th {\n",
       "        text-align: right;\n",
       "    }\n",
       "\n",
       "    .dataframe thead th {\n",
       "        text-align: left;\n",
       "    }\n",
       "\n",
       "    .dataframe tbody tr th {\n",
       "        vertical-align: top;\n",
       "    }\n",
       "</style>\n",
       "<table border=\"1\" class=\"dataframe\">\n",
       "  <thead>\n",
       "    <tr style=\"text-align: right;\">\n",
       "      <th></th>\n",
       "      <th>name</th>\n",
       "      <th>x</th>\n",
       "      <th>y</th>\n",
       "    </tr>\n",
       "  </thead>\n",
       "  <tbody>\n",
       "    <tr>\n",
       "      <th>0</th>\n",
       "      <td>msi</td>\n",
       "      <td>41.791654</td>\n",
       "      <td>-87.582967</td>\n",
       "    </tr>\n",
       "    <tr>\n",
       "      <th>1</th>\n",
       "      <td>reg</td>\n",
       "      <td>41.791942</td>\n",
       "      <td>-87.599736</td>\n",
       "    </tr>\n",
       "    <tr>\n",
       "      <th>2</th>\n",
       "      <td>ti</td>\n",
       "      <td>41.795269</td>\n",
       "      <td>-87.588600</td>\n",
       "    </tr>\n",
       "    <tr>\n",
       "      <th>3</th>\n",
       "      <td>lgn_ctr</td>\n",
       "      <td>41.785882</td>\n",
       "      <td>-87.603242</td>\n",
       "    </tr>\n",
       "    <tr>\n",
       "      <th>4</th>\n",
       "      <td>p_point</td>\n",
       "      <td>41.795701</td>\n",
       "      <td>-87.578614</td>\n",
       "    </tr>\n",
       "  </tbody>\n",
       "</table>\n",
       "</div>"
      ],
      "text/plain": [
       "      name          x          y\n",
       "0      msi  41.791654 -87.582967\n",
       "1      reg  41.791942 -87.599736\n",
       "2       ti  41.795269 -87.588600\n",
       "3  lgn_ctr  41.785882 -87.603242\n",
       "4  p_point  41.795701 -87.578614"
      ]
     },
     "execution_count": 2,
     "metadata": {},
     "output_type": "execute_result"
    }
   ],
   "source": [
    "#first let's look at the input table\n",
    "df = pd.read_csv('resources/chi_data.csv')\n",
    "df.head()"
   ]
  },
  {
   "cell_type": "code",
   "execution_count": 3,
   "metadata": {
    "collapsed": true
   },
   "outputs": [],
   "source": [
    "#construct a symmetric driving matrix (source to source)\n",
    "tm1 = TransitMatrix(network_type='drive',primary_input='resources/chi_data.csv')"
   ]
  },
  {
   "cell_type": "code",
   "execution_count": 4,
   "metadata": {},
   "outputs": [
    {
     "name": "stderr",
     "output_type": "stream",
     "text": [
      "INFO:p2p:Processing network (drive) in format: csv with epsilon: 0.05\n",
      "INFO:p2p:filename: resources/chi_data.csv\n"
     ]
    },
    {
     "name": "stdout",
     "output_type": "stream",
     "text": [
      "The variables in your data set are:\n",
      ">  name\n",
      ">  x\n",
      ">  y\n",
      "Enter the x coordinate (Latitude): x\n",
      "Enter the y coordinate (Longitude): y\n",
      "Enter the index name: name\n"
     ]
    },
    {
     "name": "stderr",
     "output_type": "stream",
     "text": [
      "INFO:p2p:speed limit filename: resources/condensed_street_data.csv\n"
     ]
    },
    {
     "name": "stdout",
     "output_type": "stream",
     "text": [
      "The variable names in your speed limit data set are:\n",
      ">  Unnamed: 0\n",
      ">  FULLSTNA\n",
      ">  SPDLIMIT\n",
      "Enter the street name variable name: FULLSTNA\n",
      "Enter the speed limit variable name: SPDLIMIT\n"
     ]
    },
    {
     "name": "stderr",
     "output_type": "stream",
     "text": [
      "INFO:osmnet:Requesting network data within bounding box from Overpass API in 1 request(s)\n",
      "INFO:osmnet:Posting to http://www.overpass-api.de/api/interpreter with timeout=180, \"{'data': '[out:json][timeout:180];(way[\"highway\"][\"highway\"!~\"cycleway|footway|path|pedestrian|steps|track|proposed|construction|bridleway|abandoned|platform|raceway|service\"][\"motor_vehicle\"!~\"no\"][\"motorcar\"!~\"no\"][\"service\"!~\"parking|parking_aisle|driveway|emergency_access\"](41.73588200,-87.62861400,41.84570100,-87.55324200);>;);out;'}\"\n"
     ]
    },
    {
     "name": "stdout",
     "output_type": "stream",
     "text": [
      "Requesting network data within bounding box from Overpass API in 1 request(s)\n",
      "Posting to http://www.overpass-api.de/api/interpreter with timeout=180, \"{'data': '[out:json][timeout:180];(way[\"highway\"][\"highway\"!~\"cycleway|footway|path|pedestrian|steps|track|proposed|construction|bridleway|abandoned|platform|raceway|service\"][\"motor_vehicle\"!~\"no\"][\"motorcar\"!~\"no\"][\"service\"!~\"parking|parking_aisle|driveway|emergency_access\"](41.73588200,-87.62861400,41.84570100,-87.55324200);>;);out;'}\"\n"
     ]
    },
    {
     "name": "stderr",
     "output_type": "stream",
     "text": [
      "INFO:osmnet:Downloaded 1,974.2KB from www.overpass-api.de in 1.26 seconds\n",
      "INFO:osmnet:Downloaded OSM network data within bounding box from Overpass API in 1 request(s) and 1.36 seconds\n"
     ]
    },
    {
     "name": "stdout",
     "output_type": "stream",
     "text": [
      "Downloaded 1,974.2KB from www.overpass-api.de in 1.26 seconds\n",
      "Downloaded OSM network data within bounding box from Overpass API in 1 request(s) and 1.36 seconds\n"
     ]
    },
    {
     "name": "stderr",
     "output_type": "stream",
     "text": [
      "INFO:osmnet:Returning OSM data with 10,082 nodes and 2,140 ways...\n"
     ]
    },
    {
     "name": "stdout",
     "output_type": "stream",
     "text": [
      "Returning OSM data with 10,082 nodes and 2,140 ways...\n"
     ]
    },
    {
     "name": "stderr",
     "output_type": "stream",
     "text": [
      "INFO:osmnet:Edge node pairs completed. Took 4.65 seconds\n",
      "INFO:osmnet:Returning processed graph with 3,247 nodes and 5,128 edges...\n",
      "INFO:osmnet:Completed OSM data download and Pandana node and edge table creation in 6.38 seconds\n",
      "INFO:p2p:Prepared raw network in 0.04 seconds and wrote to: data/raw_network_0.csv\n",
      "INFO:p2p:Nearest Neighbor matching completed in 0.01 seconds\n",
      "INFO:p2p:Shortest path matrix computed in 0.04 seconds\n",
      "INFO:p2p:All operations completed in 6.47 seconds\n"
     ]
    },
    {
     "name": "stdout",
     "output_type": "stream",
     "text": [
      "Edge node pairs completed. Took 4.65 seconds\n",
      "Returning processed graph with 3,247 nodes and 5,128 edges...\n",
      "Completed OSM data download and Pandana node and edge table creation in 6.38 seconds\n",
      "Cleaned up caculation artifacts\n"
     ]
    }
   ],
   "source": [
    "#process the transit matrix (we need to provide a table with speed limit data)\n",
    "\n",
    "#p2p will query OSM to fetch the street network and then ouput the shortest path transit matrix\n",
    "tm1.process(speed_limit_filename='resources/condensed_street_data.csv')"
   ]
  },
  {
   "cell_type": "code",
   "execution_count": 5,
   "metadata": {},
   "outputs": [
    {
     "data": {
      "text/plain": [
       "370"
      ]
     },
     "execution_count": 5,
     "metadata": {},
     "output_type": "execute_result"
    }
   ],
   "source": [
    "#we can query the matrix to get the driving time in seconds\n",
    "tm1.tmatrix.get('reg', 'ti')"
   ]
  },
  {
   "cell_type": "code",
   "execution_count": 6,
   "metadata": {},
   "outputs": [
    {
     "name": "stderr",
     "output_type": "stream",
     "text": [
      "INFO:p2p:Processing network (walk) in format: csv with epsilon: 0.05\n",
      "INFO:p2p:filename: resources/chi_data.csv\n"
     ]
    },
    {
     "name": "stdout",
     "output_type": "stream",
     "text": [
      "The variables in your data set are:\n",
      ">  name\n",
      ">  x\n",
      ">  y\n",
      "Enter the x coordinate (Latitude): x\n",
      "Enter the y coordinate (Longitude): y\n",
      "Enter the index name: name\n"
     ]
    },
    {
     "name": "stderr",
     "output_type": "stream",
     "text": [
      "INFO:p2p:filename: resources/chi_data2.csv\n"
     ]
    },
    {
     "name": "stdout",
     "output_type": "stream",
     "text": [
      "The variables in your data set are:\n",
      ">  name\n",
      ">  x\n",
      ">  y\n",
      "Enter the x coordinate (Latitude): x\n",
      "Enter the y coordinate (Longitude): y\n",
      "Enter the index name: name\n"
     ]
    },
    {
     "name": "stderr",
     "output_type": "stream",
     "text": [
      "INFO:osmnet:Requesting network data within bounding box from Overpass API in 1 request(s)\n",
      "INFO:osmnet:Posting to http://www.overpass-api.de/api/interpreter with timeout=180, \"{'data': '[out:json][timeout:180];(way[\"highway\"][\"highway\"!~\"motor|proposed|construction|abandoned|platform|raceway\"][\"foot\"!~\"no\"][\"pedestrians\"!~\"no\"](41.73588200,-87.62861400,41.93456600,-87.57819400);>;);out;'}\"\n"
     ]
    },
    {
     "name": "stdout",
     "output_type": "stream",
     "text": [
      "Requesting network data within bounding box from Overpass API in 1 request(s)\n",
      "Posting to http://www.overpass-api.de/api/interpreter with timeout=180, \"{'data': '[out:json][timeout:180];(way[\"highway\"][\"highway\"!~\"motor|proposed|construction|abandoned|platform|raceway\"][\"foot\"!~\"no\"][\"pedestrians\"!~\"no\"](41.73588200,-87.62861400,41.93456600,-87.57819400);>;);out;'}\"\n"
     ]
    },
    {
     "name": "stderr",
     "output_type": "stream",
     "text": [
      "INFO:osmnet:Downloaded 5,596.8KB from www.overpass-api.de in 3.09 seconds\n",
      "INFO:osmnet:Downloaded OSM network data within bounding box from Overpass API in 1 request(s) and 3.20 seconds\n"
     ]
    },
    {
     "name": "stdout",
     "output_type": "stream",
     "text": [
      "Downloaded 5,596.8KB from www.overpass-api.de in 3.09 seconds\n",
      "Downloaded OSM network data within bounding box from Overpass API in 1 request(s) and 3.20 seconds\n"
     ]
    },
    {
     "name": "stderr",
     "output_type": "stream",
     "text": [
      "INFO:osmnet:Returning OSM data with 34,648 nodes and 8,892 ways...\n"
     ]
    },
    {
     "name": "stdout",
     "output_type": "stream",
     "text": [
      "Returning OSM data with 34,648 nodes and 8,892 ways...\n"
     ]
    },
    {
     "name": "stderr",
     "output_type": "stream",
     "text": [
      "INFO:osmnet:Edge node pairs completed. Took 19.50 seconds\n",
      "INFO:osmnet:Returning processed graph with 13,692 nodes and 20,609 edges...\n",
      "INFO:osmnet:Completed OSM data download and Pandana node and edge table creation in 23.76 seconds\n"
     ]
    },
    {
     "name": "stdout",
     "output_type": "stream",
     "text": [
      "Edge node pairs completed. Took 19.50 seconds\n",
      "Returning processed graph with 13,692 nodes and 20,609 edges...\n",
      "Completed OSM data download and Pandana node and edge table creation in 23.76 seconds\n"
     ]
    },
    {
     "name": "stderr",
     "output_type": "stream",
     "text": [
      "INFO:p2p:Prepared raw network in 0.15 seconds and wrote to: data/raw_network_0.csv\n",
      "INFO:p2p:Nearest Neighbor matching completed in 0.01 seconds\n",
      "INFO:p2p:Nearest Neighbor matching completed in 0.01 seconds\n",
      "INFO:p2p:Shortest path matrix computed in 0.20 seconds\n",
      "INFO:p2p:Wrote to file: data/walk_full_results_2.csv\n",
      "INFO:p2p:All operations completed in 24.14 seconds\n"
     ]
    },
    {
     "name": "stdout",
     "output_type": "stream",
     "text": [
      "Cleaned up caculation artifacts\n"
     ]
    }
   ],
   "source": [
    "#If you want to write the transit matrix to .csv, you need to specify\n",
    "#in the __init__ by setting write_to_file=True\n",
    "\n",
    "#Now let's construct an assymetric (source to dest) walking transit matrix, this time writing to csv as well\n",
    "tm2 = TransitMatrix(network_type='walk', primary_input='resources/chi_data.csv', \n",
    "                    secondary_input='resources/chi_data2.csv', write_to_file=True)\n",
    "\n",
    "#no need to provide a speed limit table because this is a walking network\n",
    "tm2.process()"
   ]
  },
  {
   "cell_type": "code",
   "execution_count": 7,
   "metadata": {
    "collapsed": true
   },
   "outputs": [],
   "source": [
    "#let's check out the ouput file, and we get the walking times between these points (in seconds)\n",
    "df = pd.read_csv('data/walk_full_results_2.csv')\n"
   ]
  },
  {
   "cell_type": "code",
   "execution_count": 8,
   "metadata": {},
   "outputs": [
    {
     "data": {
      "text/html": [
       "<div>\n",
       "<style>\n",
       "    .dataframe thead tr:only-child th {\n",
       "        text-align: right;\n",
       "    }\n",
       "\n",
       "    .dataframe thead th {\n",
       "        text-align: left;\n",
       "    }\n",
       "\n",
       "    .dataframe tbody tr th {\n",
       "        vertical-align: top;\n",
       "    }\n",
       "</style>\n",
       "<table border=\"1\" class=\"dataframe\">\n",
       "  <thead>\n",
       "    <tr style=\"text-align: right;\">\n",
       "      <th></th>\n",
       "      <th>Unnamed: 0</th>\n",
       "      <th>mil_park</th>\n",
       "      <th>aquarium</th>\n",
       "      <th>wash_lib</th>\n",
       "    </tr>\n",
       "  </thead>\n",
       "  <tbody>\n",
       "    <tr>\n",
       "      <th>0</th>\n",
       "      <td>lgn_ctr</td>\n",
       "      <td>8618</td>\n",
       "      <td>7110</td>\n",
       "      <td>8134</td>\n",
       "    </tr>\n",
       "    <tr>\n",
       "      <th>1</th>\n",
       "      <td>msi</td>\n",
       "      <td>8159</td>\n",
       "      <td>6651</td>\n",
       "      <td>7761</td>\n",
       "    </tr>\n",
       "    <tr>\n",
       "      <th>2</th>\n",
       "      <td>p_point</td>\n",
       "      <td>7786</td>\n",
       "      <td>6278</td>\n",
       "      <td>7388</td>\n",
       "    </tr>\n",
       "    <tr>\n",
       "      <th>3</th>\n",
       "      <td>reg</td>\n",
       "      <td>8079</td>\n",
       "      <td>6571</td>\n",
       "      <td>7681</td>\n",
       "    </tr>\n",
       "    <tr>\n",
       "      <th>4</th>\n",
       "      <td>ti</td>\n",
       "      <td>7870</td>\n",
       "      <td>6362</td>\n",
       "      <td>7472</td>\n",
       "    </tr>\n",
       "  </tbody>\n",
       "</table>\n",
       "</div>"
      ],
      "text/plain": [
       "  Unnamed: 0  mil_park  aquarium  wash_lib\n",
       "0    lgn_ctr      8618      7110      8134\n",
       "1        msi      8159      6651      7761\n",
       "2    p_point      7786      6278      7388\n",
       "3        reg      8079      6571      7681\n",
       "4         ti      7870      6362      7472"
      ]
     },
     "execution_count": 8,
     "metadata": {},
     "output_type": "execute_result"
    }
   ],
   "source": [
    "df"
   ]
  },
  {
   "cell_type": "code",
   "execution_count": null,
   "metadata": {
    "collapsed": true
   },
   "outputs": [],
   "source": []
  }
 ],
 "metadata": {
  "kernelspec": {
   "display_name": "Python 3",
   "language": "python",
   "name": "python3"
  },
  "language_info": {
   "codemirror_mode": {
    "name": "ipython",
    "version": 3
   },
   "file_extension": ".py",
   "mimetype": "text/x-python",
   "name": "python",
   "nbconvert_exporter": "python",
   "pygments_lexer": "ipython3",
   "version": "3.6.5"
  }
 },
 "nbformat": 4,
 "nbformat_minor": 2
}
