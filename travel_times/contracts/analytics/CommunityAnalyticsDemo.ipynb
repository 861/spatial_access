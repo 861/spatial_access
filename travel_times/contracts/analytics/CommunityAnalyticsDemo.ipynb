{
 "cells": [
  {
   "cell_type": "code",
   "execution_count": 1,
   "metadata": {
    "collapsed": true
   },
   "outputs": [],
   "source": [
    "from CommunityAnalytics import *"
   ]
  },
  {
   "cell_type": "code",
   "execution_count": 2,
   "metadata": {},
   "outputs": [
    {
     "data": {
      "text/html": [
       "<div>\n",
       "<style>\n",
       "    .dataframe thead tr:only-child th {\n",
       "        text-align: right;\n",
       "    }\n",
       "\n",
       "    .dataframe thead th {\n",
       "        text-align: left;\n",
       "    }\n",
       "\n",
       "    .dataframe tbody tr th {\n",
       "        vertical-align: top;\n",
       "    }\n",
       "</style>\n",
       "<table border=\"1\" class=\"dataframe\">\n",
       "  <thead>\n",
       "    <tr style=\"text-align: right;\">\n",
       "      <th></th>\n",
       "      <th>Unnamed: 0</th>\n",
       "      <th>BLOCKID10</th>\n",
       "      <th>CE01_2014</th>\n",
       "      <th>POP10</th>\n",
       "      <th>lat</th>\n",
       "      <th>long</th>\n",
       "      <th>community</th>\n",
       "    </tr>\n",
       "  </thead>\n",
       "  <tbody>\n",
       "    <tr>\n",
       "      <th>0</th>\n",
       "      <td>4</td>\n",
       "      <td>170313902002004</td>\n",
       "      <td>6</td>\n",
       "      <td>68</td>\n",
       "      <td>41.815784</td>\n",
       "      <td>-87.601505</td>\n",
       "      <td>KENWOOD</td>\n",
       "    </tr>\n",
       "    <tr>\n",
       "      <th>1</th>\n",
       "      <td>4</td>\n",
       "      <td>170313902002005</td>\n",
       "      <td>4</td>\n",
       "      <td>50</td>\n",
       "      <td>41.815809</td>\n",
       "      <td>-87.600925</td>\n",
       "      <td>KENWOOD</td>\n",
       "    </tr>\n",
       "    <tr>\n",
       "      <th>2</th>\n",
       "      <td>4</td>\n",
       "      <td>170313903002006</td>\n",
       "      <td>6</td>\n",
       "      <td>43</td>\n",
       "      <td>41.815902</td>\n",
       "      <td>-87.606303</td>\n",
       "      <td>KENWOOD</td>\n",
       "    </tr>\n",
       "    <tr>\n",
       "      <th>3</th>\n",
       "      <td>4</td>\n",
       "      <td>170313903002004</td>\n",
       "      <td>89</td>\n",
       "      <td>161</td>\n",
       "      <td>41.815923</td>\n",
       "      <td>-87.605056</td>\n",
       "      <td>KENWOOD</td>\n",
       "    </tr>\n",
       "    <tr>\n",
       "      <th>4</th>\n",
       "      <td>4</td>\n",
       "      <td>170313903002002</td>\n",
       "      <td>0</td>\n",
       "      <td>1</td>\n",
       "      <td>41.815943</td>\n",
       "      <td>-87.603627</td>\n",
       "      <td>KENWOOD</td>\n",
       "    </tr>\n",
       "  </tbody>\n",
       "</table>\n",
       "</div>"
      ],
      "text/plain": [
       "   Unnamed: 0        BLOCKID10  CE01_2014  POP10        lat       long  \\\n",
       "0           4  170313902002004          6     68  41.815784 -87.601505   \n",
       "1           4  170313902002005          4     50  41.815809 -87.600925   \n",
       "2           4  170313903002006          6     43  41.815902 -87.606303   \n",
       "3           4  170313903002004         89    161  41.815923 -87.605056   \n",
       "4           4  170313903002002          0      1  41.815943 -87.603627   \n",
       "\n",
       "  community  \n",
       "0   KENWOOD  \n",
       "1   KENWOOD  \n",
       "2   KENWOOD  \n",
       "3   KENWOOD  \n",
       "4   KENWOOD  "
      ]
     },
     "execution_count": 2,
     "metadata": {},
     "output_type": "execute_result"
    }
   ],
   "source": [
    "network_type='walk'\n",
    "source_data='resources/LEHD_subset.csv'\n",
    "dest_data='resources/contracts_sample.csv'\n",
    "\n",
    "#input data\n",
    "source_df = pd.read_csv(source_data)\n",
    "dest_df = pd.read_csv(dest_data)\n",
    "\n",
    "source_df.head()"
   ]
  },
  {
   "cell_type": "code",
   "execution_count": 3,
   "metadata": {},
   "outputs": [
    {
     "data": {
      "text/html": [
       "<div>\n",
       "<style>\n",
       "    .dataframe thead tr:only-child th {\n",
       "        text-align: right;\n",
       "    }\n",
       "\n",
       "    .dataframe thead th {\n",
       "        text-align: left;\n",
       "    }\n",
       "\n",
       "    .dataframe tbody tr th {\n",
       "        vertical-align: top;\n",
       "    }\n",
       "</style>\n",
       "<table border=\"1\" class=\"dataframe\">\n",
       "  <thead>\n",
       "    <tr style=\"text-align: right;\">\n",
       "      <th></th>\n",
       "      <th>agency_id</th>\n",
       "      <th>lat</th>\n",
       "      <th>lon</th>\n",
       "      <th>cat</th>\n",
       "      <th>target</th>\n",
       "    </tr>\n",
       "  </thead>\n",
       "  <tbody>\n",
       "    <tr>\n",
       "      <th>0</th>\n",
       "      <td>agency_001</td>\n",
       "      <td>41.805152</td>\n",
       "      <td>-87.591231</td>\n",
       "      <td>CAT_A</td>\n",
       "      <td>10000</td>\n",
       "    </tr>\n",
       "    <tr>\n",
       "      <th>1</th>\n",
       "      <td>agency_002</td>\n",
       "      <td>41.796697</td>\n",
       "      <td>-87.578077</td>\n",
       "      <td>CAT_A</td>\n",
       "      <td>40000</td>\n",
       "    </tr>\n",
       "    <tr>\n",
       "      <th>2</th>\n",
       "      <td>agency_003</td>\n",
       "      <td>41.787221</td>\n",
       "      <td>-87.577547</td>\n",
       "      <td>CAT_B</td>\n",
       "      <td>5000</td>\n",
       "    </tr>\n",
       "    <tr>\n",
       "      <th>3</th>\n",
       "      <td>agency_004</td>\n",
       "      <td>41.777692</td>\n",
       "      <td>-87.578483</td>\n",
       "      <td>CAT_C</td>\n",
       "      <td>15000</td>\n",
       "    </tr>\n",
       "    <tr>\n",
       "      <th>4</th>\n",
       "      <td>agency_005</td>\n",
       "      <td>41.788784</td>\n",
       "      <td>-87.603418</td>\n",
       "      <td>CAT_B</td>\n",
       "      <td>20000</td>\n",
       "    </tr>\n",
       "  </tbody>\n",
       "</table>\n",
       "</div>"
      ],
      "text/plain": [
       "    agency_id        lat        lon    cat  target\n",
       "0  agency_001  41.805152 -87.591231  CAT_A   10000\n",
       "1  agency_002  41.796697 -87.578077  CAT_A   40000\n",
       "2  agency_003  41.787221 -87.577547  CAT_B    5000\n",
       "3  agency_004  41.777692 -87.578483  CAT_C   15000\n",
       "4  agency_005  41.788784 -87.603418  CAT_B   20000"
      ]
     },
     "execution_count": 3,
     "metadata": {},
     "output_type": "execute_result"
    }
   ],
   "source": [
    "dest_df.head()"
   ]
  },
  {
   "cell_type": "code",
   "execution_count": 4,
   "metadata": {},
   "outputs": [
    {
     "name": "stderr",
     "output_type": "stream",
     "text": [
      "INFO:p2p:Processing network (walk) in format: csv with epsilon: 0.05\n",
      "INFO:p2p:filename: resources/LEHD_subset.csv\n"
     ]
    },
    {
     "name": "stdout",
     "output_type": "stream",
     "text": [
      "The variables in your data set are:\n",
      ">  Unnamed: 0\n",
      ">  BLOCKID10\n",
      ">  CE01_2014\n",
      ">  POP10\n",
      ">  lat\n",
      ">  long\n",
      ">  community\n",
      "Enter the x coordinate (Latitude): lat\n",
      "Enter the y coordinate (Longitude): long\n",
      "Enter the index name: BLOCKID10\n"
     ]
    },
    {
     "name": "stderr",
     "output_type": "stream",
     "text": [
      "INFO:p2p:filename: resources/contracts_sample.csv\n"
     ]
    },
    {
     "name": "stdout",
     "output_type": "stream",
     "text": [
      "The variables in your data set are:\n",
      ">  agency_id\n",
      ">  lat\n",
      ">  lon\n",
      ">  cat\n",
      ">  target\n",
      "Enter the x coordinate (Latitude): lat\n",
      "Enter the y coordinate (Longitude): long\n",
      "Enter the y coordinate (Longitude): lon\n",
      "Enter the index name: agency_id\n"
     ]
    },
    {
     "name": "stderr",
     "output_type": "stream",
     "text": [
      "INFO:osmnet:Requesting network data within bounding box from Overpass API in 1 request(s)\n",
      "INFO:osmnet:Posting to http://www.overpass-api.de/api/interpreter with timeout=180, \"{'data': '[out:json][timeout:180];(way[\"highway\"][\"highway\"!~\"motor|proposed|construction|abandoned|platform|raceway\"][\"foot\"!~\"no\"][\"pedestrians\"!~\"no\"](41.71725230,-87.61995200,41.86671280,-87.56538850);>;);out;'}\"\n"
     ]
    },
    {
     "name": "stdout",
     "output_type": "stream",
     "text": [
      "Requesting network data within bounding box from Overpass API in 1 request(s)\n",
      "Posting to http://www.overpass-api.de/api/interpreter with timeout=180, \"{'data': '[out:json][timeout:180];(way[\"highway\"][\"highway\"!~\"motor|proposed|construction|abandoned|platform|raceway\"][\"foot\"!~\"no\"][\"pedestrians\"!~\"no\"](41.71725230,-87.61995200,41.86671280,-87.56538850);>;);out;'}\"\n"
     ]
    },
    {
     "name": "stderr",
     "output_type": "stream",
     "text": [
      "INFO:osmnet:Downloaded 4,204.9KB from www.overpass-api.de in 1.35 seconds\n",
      "INFO:osmnet:Downloaded OSM network data within bounding box from Overpass API in 1 request(s) and 1.43 seconds\n"
     ]
    },
    {
     "name": "stdout",
     "output_type": "stream",
     "text": [
      "Downloaded 4,204.9KB from www.overpass-api.de in 1.35 seconds\n",
      "Downloaded OSM network data within bounding box from Overpass API in 1 request(s) and 1.43 seconds\n"
     ]
    },
    {
     "name": "stderr",
     "output_type": "stream",
     "text": [
      "INFO:osmnet:Returning OSM data with 25,906 nodes and 6,213 ways...\n"
     ]
    },
    {
     "name": "stdout",
     "output_type": "stream",
     "text": [
      "Returning OSM data with 25,906 nodes and 6,213 ways...\n"
     ]
    },
    {
     "name": "stderr",
     "output_type": "stream",
     "text": [
      "INFO:osmnet:Edge node pairs completed. Took 15.09 seconds\n",
      "INFO:osmnet:Returning processed graph with 10,853 nodes and 16,754 edges...\n",
      "INFO:osmnet:Completed OSM data download and Pandana node and edge table creation in 17.34 seconds\n"
     ]
    },
    {
     "name": "stdout",
     "output_type": "stream",
     "text": [
      "Edge node pairs completed. Took 15.09 seconds\n",
      "Returning processed graph with 10,853 nodes and 16,754 edges...\n",
      "Completed OSM data download and Pandana node and edge table creation in 17.34 seconds\n"
     ]
    },
    {
     "name": "stderr",
     "output_type": "stream",
     "text": [
      "INFO:p2p:Prepared raw network in 0.12 seconds and wrote to: data/raw_network_0.csv\n",
      "INFO:p2p:Nearest Neighbor matching completed in 0.38 seconds\n",
      "INFO:p2p:Nearest Neighbor matching completed in 0.01 seconds\n",
      "INFO:p2p:Shortest path matrix computed in 0.21 seconds\n",
      "INFO:p2p:All operations completed in 18.08 seconds\n",
      "INFO:ScoreModel:Generated sp matrix to file: data/walk_full_results_0.csv\n",
      "INFO:ScoreModel:Processing... This could take from a few seconds to a half hour\n",
      "INFO:ScoreModel:Finished processing ModelData in 0.03487706184387207 seconds\n",
      "INFO:ScoreModel:Finished calculating pcspend in 0.023988962173461914 seconds\n"
     ]
    },
    {
     "name": "stdout",
     "output_type": "stream",
     "text": [
      "Cleaned up caculation artifacts\n"
     ]
    }
   ],
   "source": [
    "#initialize the first model & calculate\n",
    "#for now, limiting to just targets of type CAT_A and CAT_B\n",
    "model_1 = PCSpendModel(network_type=network_type, sp_matrix_filename=None, \n",
    "        source_filename=source_data, dest_filename=dest_data, limit_categories=set(['CAT_A', 'CAT_B']))\n",
    "model_1.calculate()\n",
    "\n"
   ]
  },
  {
   "cell_type": "code",
   "execution_count": 5,
   "metadata": {},
   "outputs": [
    {
     "data": {
      "text/html": [
       "<div>\n",
       "<style>\n",
       "    .dataframe thead tr:only-child th {\n",
       "        text-align: right;\n",
       "    }\n",
       "\n",
       "    .dataframe thead th {\n",
       "        text-align: left;\n",
       "    }\n",
       "\n",
       "    .dataframe tbody tr th {\n",
       "        vertical-align: top;\n",
       "    }\n",
       "</style>\n",
       "<table border=\"1\" class=\"dataframe\">\n",
       "  <thead>\n",
       "    <tr style=\"text-align: right;\">\n",
       "      <th></th>\n",
       "      <th>community</th>\n",
       "      <th>population</th>\n",
       "      <th>lat</th>\n",
       "      <th>lon</th>\n",
       "      <th>geometry</th>\n",
       "      <th>CAT_B</th>\n",
       "      <th>CAT_A</th>\n",
       "    </tr>\n",
       "    <tr>\n",
       "      <th>index_right</th>\n",
       "      <th></th>\n",
       "      <th></th>\n",
       "      <th></th>\n",
       "      <th></th>\n",
       "      <th></th>\n",
       "      <th></th>\n",
       "      <th></th>\n",
       "    </tr>\n",
       "  </thead>\n",
       "  <tbody>\n",
       "    <tr>\n",
       "      <th>170313907003009</th>\n",
       "      <td>KENWOOD</td>\n",
       "      <td>-1</td>\n",
       "      <td>41.802679</td>\n",
       "      <td>-87.582131</td>\n",
       "      <td>POLYGON ((-87.59215283879394 41.81692934626684...</td>\n",
       "      <td>0.000000</td>\n",
       "      <td>0.000000</td>\n",
       "    </tr>\n",
       "    <tr>\n",
       "      <th>170313907003005</th>\n",
       "      <td>KENWOOD</td>\n",
       "      <td>-1</td>\n",
       "      <td>41.802725</td>\n",
       "      <td>-87.582430</td>\n",
       "      <td>POLYGON ((-87.59215283879394 41.81692934626684...</td>\n",
       "      <td>0.000000</td>\n",
       "      <td>0.000000</td>\n",
       "    </tr>\n",
       "    <tr>\n",
       "      <th>170313907003012</th>\n",
       "      <td>KENWOOD</td>\n",
       "      <td>28</td>\n",
       "      <td>41.802933</td>\n",
       "      <td>-87.585918</td>\n",
       "      <td>POLYGON ((-87.59215283879394 41.81692934626684...</td>\n",
       "      <td>1.922338</td>\n",
       "      <td>14.840673</td>\n",
       "    </tr>\n",
       "    <tr>\n",
       "      <th>170313907003006</th>\n",
       "      <td>KENWOOD</td>\n",
       "      <td>94</td>\n",
       "      <td>41.803176</td>\n",
       "      <td>-87.584548</td>\n",
       "      <td>POLYGON ((-87.59215283879394 41.81692934626684...</td>\n",
       "      <td>1.922338</td>\n",
       "      <td>14.840673</td>\n",
       "    </tr>\n",
       "    <tr>\n",
       "      <th>170313907003003</th>\n",
       "      <td>KENWOOD</td>\n",
       "      <td>-1</td>\n",
       "      <td>41.803215</td>\n",
       "      <td>-87.581667</td>\n",
       "      <td>POLYGON ((-87.59215283879394 41.81692934626684...</td>\n",
       "      <td>0.000000</td>\n",
       "      <td>0.000000</td>\n",
       "    </tr>\n",
       "  </tbody>\n",
       "</table>\n",
       "</div>"
      ],
      "text/plain": [
       "                community  population        lat        lon  \\\n",
       "index_right                                                   \n",
       "170313907003009   KENWOOD          -1  41.802679 -87.582131   \n",
       "170313907003005   KENWOOD          -1  41.802725 -87.582430   \n",
       "170313907003012   KENWOOD          28  41.802933 -87.585918   \n",
       "170313907003006   KENWOOD          94  41.803176 -87.584548   \n",
       "170313907003003   KENWOOD          -1  41.803215 -87.581667   \n",
       "\n",
       "                                                          geometry     CAT_B  \\\n",
       "index_right                                                                    \n",
       "170313907003009  POLYGON ((-87.59215283879394 41.81692934626684...  0.000000   \n",
       "170313907003005  POLYGON ((-87.59215283879394 41.81692934626684...  0.000000   \n",
       "170313907003012  POLYGON ((-87.59215283879394 41.81692934626684...  1.922338   \n",
       "170313907003006  POLYGON ((-87.59215283879394 41.81692934626684...  1.922338   \n",
       "170313907003003  POLYGON ((-87.59215283879394 41.81692934626684...  0.000000   \n",
       "\n",
       "                     CAT_A  \n",
       "index_right                 \n",
       "170313907003009   0.000000  \n",
       "170313907003005   0.000000  \n",
       "170313907003012  14.840673  \n",
       "170313907003006  14.840673  \n",
       "170313907003003   0.000000  "
      ]
     },
     "execution_count": 5,
     "metadata": {},
     "output_type": "execute_result"
    }
   ],
   "source": [
    "#output\n",
    "model_1.results.head()"
   ]
  },
  {
   "cell_type": "code",
   "execution_count": 6,
   "metadata": {},
   "outputs": [
    {
     "data": {
      "text/html": [
       "<div>\n",
       "<style>\n",
       "    .dataframe thead tr:only-child th {\n",
       "        text-align: right;\n",
       "    }\n",
       "\n",
       "    .dataframe thead th {\n",
       "        text-align: left;\n",
       "    }\n",
       "\n",
       "    .dataframe tbody tr th {\n",
       "        vertical-align: top;\n",
       "    }\n",
       "</style>\n",
       "<table border=\"1\" class=\"dataframe\">\n",
       "  <thead>\n",
       "    <tr style=\"text-align: right;\">\n",
       "      <th></th>\n",
       "      <th>population</th>\n",
       "      <th>geometry</th>\n",
       "    </tr>\n",
       "    <tr>\n",
       "      <th>community</th>\n",
       "      <th></th>\n",
       "      <th></th>\n",
       "    </tr>\n",
       "  </thead>\n",
       "  <tbody>\n",
       "    <tr>\n",
       "      <th>HYDE PARK</th>\n",
       "      <td>2518</td>\n",
       "      <td>POLYGON ((-87.58037662085418 41.80252502205126...</td>\n",
       "    </tr>\n",
       "    <tr>\n",
       "      <th>KENWOOD</th>\n",
       "      <td>1737</td>\n",
       "      <td>POLYGON ((-87.59215283879394 41.81692934626684...</td>\n",
       "    </tr>\n",
       "    <tr>\n",
       "      <th>WOODLAWN</th>\n",
       "      <td>2546</td>\n",
       "      <td>POLYGON ((-87.57714456891335 41.78614641013439...</td>\n",
       "    </tr>\n",
       "  </tbody>\n",
       "</table>\n",
       "</div>"
      ],
      "text/plain": [
       "           population                                           geometry\n",
       "community                                                               \n",
       "HYDE PARK        2518  POLYGON ((-87.58037662085418 41.80252502205126...\n",
       "KENWOOD          1737  POLYGON ((-87.59215283879394 41.81692934626684...\n",
       "WOODLAWN         2546  POLYGON ((-87.57714456891335 41.78614641013439..."
      ]
     },
     "execution_count": 6,
     "metadata": {},
     "output_type": "execute_result"
    }
   ],
   "source": [
    "#we can aggregate to the community level by both population and per capita spending\n",
    "pop_aggregate = model_1.get_aggregate('population')\n",
    "pcspend_aggregate = model_1.get_aggregate('pcspend')\n",
    "\n",
    "pop_aggregate.head()"
   ]
  },
  {
   "cell_type": "code",
   "execution_count": 7,
   "metadata": {},
   "outputs": [
    {
     "data": {
      "text/html": [
       "<div>\n",
       "<style>\n",
       "    .dataframe thead tr:only-child th {\n",
       "        text-align: right;\n",
       "    }\n",
       "\n",
       "    .dataframe thead th {\n",
       "        text-align: left;\n",
       "    }\n",
       "\n",
       "    .dataframe tbody tr th {\n",
       "        vertical-align: top;\n",
       "    }\n",
       "</style>\n",
       "<table border=\"1\" class=\"dataframe\">\n",
       "  <thead>\n",
       "    <tr style=\"text-align: right;\">\n",
       "      <th></th>\n",
       "      <th>population</th>\n",
       "      <th>lat</th>\n",
       "      <th>lon</th>\n",
       "      <th>CAT_B</th>\n",
       "      <th>CAT_A</th>\n",
       "      <th>geometry</th>\n",
       "    </tr>\n",
       "    <tr>\n",
       "      <th>community</th>\n",
       "      <th></th>\n",
       "      <th></th>\n",
       "      <th></th>\n",
       "      <th></th>\n",
       "      <th></th>\n",
       "      <th></th>\n",
       "    </tr>\n",
       "  </thead>\n",
       "  <tbody>\n",
       "    <tr>\n",
       "      <th>HYDE PARK</th>\n",
       "      <td>10.319672</td>\n",
       "      <td>41.795222</td>\n",
       "      <td>-87.592688</td>\n",
       "      <td>3.135296</td>\n",
       "      <td>8.417182</td>\n",
       "      <td>POLYGON ((-87.58037662085418 41.80252502205126...</td>\n",
       "    </tr>\n",
       "    <tr>\n",
       "      <th>KENWOOD</th>\n",
       "      <td>11.134615</td>\n",
       "      <td>41.809145</td>\n",
       "      <td>-87.596692</td>\n",
       "      <td>0.667603</td>\n",
       "      <td>3.739664</td>\n",
       "      <td>POLYGON ((-87.59215283879394 41.81692934626684...</td>\n",
       "    </tr>\n",
       "    <tr>\n",
       "      <th>WOODLAWN</th>\n",
       "      <td>7.013774</td>\n",
       "      <td>41.778494</td>\n",
       "      <td>-87.602215</td>\n",
       "      <td>2.448000</td>\n",
       "      <td>0.309337</td>\n",
       "      <td>POLYGON ((-87.57714456891335 41.78614641013439...</td>\n",
       "    </tr>\n",
       "  </tbody>\n",
       "</table>\n",
       "</div>"
      ],
      "text/plain": [
       "           population        lat        lon     CAT_B     CAT_A  \\\n",
       "community                                                         \n",
       "HYDE PARK   10.319672  41.795222 -87.592688  3.135296  8.417182   \n",
       "KENWOOD     11.134615  41.809145 -87.596692  0.667603  3.739664   \n",
       "WOODLAWN     7.013774  41.778494 -87.602215  2.448000  0.309337   \n",
       "\n",
       "                                                    geometry  \n",
       "community                                                     \n",
       "HYDE PARK  POLYGON ((-87.58037662085418 41.80252502205126...  \n",
       "KENWOOD    POLYGON ((-87.59215283879394 41.81692934626684...  \n",
       "WOODLAWN   POLYGON ((-87.57714456891335 41.78614641013439...  "
      ]
     },
     "execution_count": 7,
     "metadata": {},
     "output_type": "execute_result"
    }
   ],
   "source": [
    "pcspend_aggregate.head()"
   ]
  },
  {
   "cell_type": "code",
   "execution_count": 8,
   "metadata": {},
   "outputs": [
    {
     "name": "stderr",
     "output_type": "stream",
     "text": [
      "INFO:ScoreModel:Plot was saved to: figures/fig_0.png\n"
     ]
    }
   ],
   "source": [
    "#we can generate a choropleth for one of the categories\n",
    "#figures can be seen in accompanying figures subdirectory\n",
    "model_1.plot_aggregate(plot_type='pcspend', focus_column='CAT_A')"
   ]
  },
  {
   "cell_type": "code",
   "execution_count": 9,
   "metadata": {},
   "outputs": [
    {
     "name": "stderr",
     "output_type": "stream",
     "text": [
      "INFO:ScoreModel:Plot was saved to: figures/fig_1.png\n"
     ]
    }
   ],
   "source": [
    "#we can also generate a choropleth for the low income population\n",
    "model_1.plot_aggregate(plot_type='population')"
   ]
  },
  {
   "cell_type": "code",
   "execution_count": 10,
   "metadata": {},
   "outputs": [
    {
     "name": "stderr",
     "output_type": "stream",
     "text": [
      "INFO:ScoreModel:Plot was saved to: figures/fig_2.png\n"
     ]
    }
   ],
   "source": [
    "#next, let's look at a cdf of blocks by per capita spending\n",
    "model_1.plot_cdf()"
   ]
  },
  {
   "cell_type": "code",
   "execution_count": 11,
   "metadata": {},
   "outputs": [
    {
     "name": "stderr",
     "output_type": "stream",
     "text": [
      "INFO:p2p:Loading data from file: data/walk_full_results_0.csv\n",
      "INFO:p2p:Shortest path matrix loaded from disk in 0.00 seconds\n",
      "INFO:ScoreModel:Loaded sp matrix from file: data/walk_full_results_0.csv\n",
      "INFO:ScoreModel:Processing... This could take from a few seconds to a half hour\n",
      "INFO:ScoreModel:Finished processing ModelData in 0.03478884696960449 seconds\n",
      "INFO:ScoreModel:Finished calculating hssa in 0.10080695152282715 seconds\n"
     ]
    }
   ],
   "source": [
    "#now for the next model, HSSA\n",
    "#the last already generated a shortest path matrix, so we can reuse that instead of\n",
    "#regenerating it\n",
    "model_2 = HSSAModel(network_type=network_type, sp_matrix_filename='data/walk_full_results_0.csv', \n",
    "        source_filename=source_data, dest_filename=dest_data)\n",
    "model_2.calculate()"
   ]
  },
  {
   "cell_type": "code",
   "execution_count": 12,
   "metadata": {},
   "outputs": [
    {
     "data": {
      "text/html": [
       "<div>\n",
       "<style>\n",
       "    .dataframe thead tr:only-child th {\n",
       "        text-align: right;\n",
       "    }\n",
       "\n",
       "    .dataframe thead th {\n",
       "        text-align: left;\n",
       "    }\n",
       "\n",
       "    .dataframe tbody tr th {\n",
       "        vertical-align: top;\n",
       "    }\n",
       "</style>\n",
       "<table border=\"1\" class=\"dataframe\">\n",
       "  <thead>\n",
       "    <tr style=\"text-align: right;\">\n",
       "      <th></th>\n",
       "      <th>population</th>\n",
       "      <th>lat</th>\n",
       "      <th>lon</th>\n",
       "      <th>score</th>\n",
       "      <th>geometry</th>\n",
       "    </tr>\n",
       "    <tr>\n",
       "      <th>community</th>\n",
       "      <th></th>\n",
       "      <th></th>\n",
       "      <th></th>\n",
       "      <th></th>\n",
       "      <th></th>\n",
       "    </tr>\n",
       "  </thead>\n",
       "  <tbody>\n",
       "    <tr>\n",
       "      <th>HYDE PARK</th>\n",
       "      <td>10.319672</td>\n",
       "      <td>41.795222</td>\n",
       "      <td>-87.592688</td>\n",
       "      <td>57.907286</td>\n",
       "      <td>POLYGON ((-87.58037662085418 41.80252502205126...</td>\n",
       "    </tr>\n",
       "    <tr>\n",
       "      <th>KENWOOD</th>\n",
       "      <td>11.134615</td>\n",
       "      <td>41.809145</td>\n",
       "      <td>-87.596692</td>\n",
       "      <td>15.330407</td>\n",
       "      <td>POLYGON ((-87.59215283879394 41.81692934626684...</td>\n",
       "    </tr>\n",
       "    <tr>\n",
       "      <th>WOODLAWN</th>\n",
       "      <td>7.013774</td>\n",
       "      <td>41.778494</td>\n",
       "      <td>-87.602215</td>\n",
       "      <td>16.242920</td>\n",
       "      <td>POLYGON ((-87.57714456891335 41.78614641013439...</td>\n",
       "    </tr>\n",
       "  </tbody>\n",
       "</table>\n",
       "</div>"
      ],
      "text/plain": [
       "           population        lat        lon      score  \\\n",
       "community                                                \n",
       "HYDE PARK   10.319672  41.795222 -87.592688  57.907286   \n",
       "KENWOOD     11.134615  41.809145 -87.596692  15.330407   \n",
       "WOODLAWN     7.013774  41.778494 -87.602215  16.242920   \n",
       "\n",
       "                                                    geometry  \n",
       "community                                                     \n",
       "HYDE PARK  POLYGON ((-87.58037662085418 41.80252502205126...  \n",
       "KENWOOD    POLYGON ((-87.59215283879394 41.81692934626684...  \n",
       "WOODLAWN   POLYGON ((-87.57714456891335 41.78614641013439...  "
      ]
     },
     "execution_count": 12,
     "metadata": {},
     "output_type": "execute_result"
    }
   ],
   "source": [
    "#we can do a similar aggregation on this model\n",
    "score_aggregate = model_2.get_aggregate(aggregate_type='score')\n",
    "score_aggregate.head()"
   ]
  },
  {
   "cell_type": "code",
   "execution_count": 13,
   "metadata": {},
   "outputs": [
    {
     "name": "stderr",
     "output_type": "stream",
     "text": [
      "INFO:ScoreModel:Plot was saved to: figures/fig_3.png\n",
      "INFO:ScoreModel:Plot was saved to: figures/fig_4.png\n"
     ]
    }
   ],
   "source": [
    "#and generate choropleths and cdfs\n",
    "model_2.plot_aggregate()\n",
    "model_2.plot_cdf()"
   ]
  }
 ],
 "metadata": {
  "kernelspec": {
   "display_name": "Python 3",
   "language": "python",
   "name": "python3"
  },
  "language_info": {
   "codemirror_mode": {
    "name": "ipython",
    "version": 3
   },
   "file_extension": ".py",
   "mimetype": "text/x-python",
   "name": "python",
   "nbconvert_exporter": "python",
   "pygments_lexer": "ipython3",
   "version": "3.6.2"
  }
 },
 "nbformat": 4,
 "nbformat_minor": 2
}
