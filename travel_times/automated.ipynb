{
 "cells": [
  {
   "cell_type": "code",
   "execution_count": null,
   "metadata": {},
   "outputs": [],
   "source": []
  },
  {
   "cell_type": "markdown",
   "metadata": {},
   "source": [
    "# Matrices Automated"
   ]
  },
  {
   "cell_type": "code",
   "execution_count": 2,
   "metadata": {},
   "outputs": [],
   "source": [
    "import sys, os\n",
    "os.chdir('scripts')\n",
    "from p2p_auto import *"
   ]
  },
  {
   "cell_type": "code",
   "execution_count": 4,
   "metadata": {},
   "outputs": [
    {
     "name": "stderr",
     "output_type": "stream",
     "text": [
      "INFO:p2p_auto:Processing network (walk) in format: csv with epsilon: 0.05\n",
      "INFO:p2p_auto:Total number of rows in the dataset: 30293\n",
      "INFO:p2p_auto:Complete number of rows for computing the matrix: 30293\n",
      "INFO:p2p_auto:Total number of rows dropped due to missing latitude or longitude values: 0\n",
      "INFO:p2p_auto:Total number of rows in the dataset: 31737\n",
      "INFO:p2p_auto:Complete number of rows for computing the matrix: 31737\n",
      "INFO:p2p_auto:Total number of rows dropped due to missing latitude or longitude values: 0\n",
      "INFO:osmnet:Requesting network data within bounding box from Overpass API in 6 request(s)\n",
      "INFO:osmnet:Posting to http://www.overpass-api.de/api/interpreter with timeout=180, \"{'data': '[out:json][timeout:180];(way[\"highway\"][\"highway\"!~\"motor|proposed|construction|abandoned|platform|raceway\"][\"foot\"!~\"no\"][\"pedestrians\"!~\"no\"](41.37810000,-87.91898940,41.68211622,-87.47458686);>;);out;'}\"\n"
     ]
    },
    {
     "name": "stdout",
     "output_type": "stream",
     "text": [
      "The variables in your data set are:\n",
      ">  ID\n",
      ">  shape_stle\n",
      ">  pinb\n",
      ">  pinac\n",
      ">  taxcode\n",
      ">  pinu\n",
      ">  shape_star\n",
      ">  survey_cal\n",
      ">  pina\n",
      ">  upper_elev\n",
      ">  pinp\n",
      ">  parceltype\n",
      ">  lower_elev\n",
      ">  pin14\n",
      ">  pin10\n",
      ">  job_no\n",
      ">  pinsa\n",
      ">  COORD_X\n",
      ">  COORD_Y\n",
      ">  INSIDE_X\n",
      ">  INSIDE_Y\n",
      "The variables in your data set are:\n",
      ">  dunsnumber\n",
      ">  year\n",
      ">  year_dat\n",
      ">  address\n",
      ">  company\n",
      ">  sic8\n",
      ">  emp\n",
      ">  sales\n",
      ">  lat\n",
      ">  lon\n",
      ">  cat\n",
      ">  ID\n",
      "Requesting network data within bounding box from Overpass API in 6 request(s)\n",
      "Posting to http://www.overpass-api.de/api/interpreter with timeout=180, \"{'data': '[out:json][timeout:180];(way[\"highway\"][\"highway\"!~\"motor|proposed|construction|abandoned|platform|raceway\"][\"foot\"!~\"no\"][\"pedestrians\"!~\"no\"](41.37810000,-87.91898940,41.68211622,-87.47458686);>;);out;'}\"\n"
     ]
    },
    {
     "name": "stderr",
     "output_type": "stream",
     "text": [
      "INFO:osmnet:Downloaded 29,131.0KB from www.overpass-api.de in 4.60 seconds\n",
      "INFO:osmnet:Posting to http://www.overpass-api.de/api/interpreter with timeout=180, \"{'data': '[out:json][timeout:180];(way[\"highway\"][\"highway\"!~\"motor|proposed|construction|abandoned|platform|raceway\"][\"foot\"!~\"no\"][\"pedestrians\"!~\"no\"](41.37810000,-88.36150000,41.67942185,-87.91474675);>;);out;'}\"\n"
     ]
    },
    {
     "name": "stdout",
     "output_type": "stream",
     "text": [
      "Downloaded 29,131.0KB from www.overpass-api.de in 4.60 seconds\n",
      "Posting to http://www.overpass-api.de/api/interpreter with timeout=180, \"{'data': '[out:json][timeout:180];(way[\"highway\"][\"highway\"!~\"motor|proposed|construction|abandoned|platform|raceway\"][\"foot\"!~\"no\"][\"pedestrians\"!~\"no\"](41.37810000,-88.36150000,41.67942185,-87.91474675);>;);out;'}\"\n"
     ]
    },
    {
     "name": "stderr",
     "output_type": "stream",
     "text": [
      "INFO:osmnet:Downloaded 18,487.6KB from www.overpass-api.de in 2.07 seconds\n",
      "INFO:osmnet:Posting to http://www.overpass-api.de/api/interpreter with timeout=180, \"{'data': '[out:json][timeout:180];(way[\"highway\"][\"highway\"!~\"motor|proposed|construction|abandoned|platform|raceway\"][\"foot\"!~\"no\"][\"pedestrians\"!~\"no\"](41.67503162,-88.36146277,41.98338393,-87.91898940);>;);out;'}\"\n"
     ]
    },
    {
     "name": "stdout",
     "output_type": "stream",
     "text": [
      "Downloaded 18,487.6KB from www.overpass-api.de in 2.07 seconds\n",
      "Posting to http://www.overpass-api.de/api/interpreter with timeout=180, \"{'data': '[out:json][timeout:180];(way[\"highway\"][\"highway\"!~\"motor|proposed|construction|abandoned|platform|raceway\"][\"foot\"!~\"no\"][\"pedestrians\"!~\"no\"](41.67503162,-88.36146277,41.98338393,-87.91898940);>;);out;'}\"\n"
     ]
    },
    {
     "name": "stderr",
     "output_type": "stream",
     "text": [
      "INFO:osmnet:Downloaded 66,919.7KB from www.overpass-api.de in 11.66 seconds\n",
      "INFO:osmnet:Posting to http://www.overpass-api.de/api/interpreter with timeout=180, \"{'data': '[out:json][timeout:180];(way[\"highway\"][\"highway\"!~\"motor|proposed|construction|abandoned|platform|raceway\"][\"foot\"!~\"no\"][\"pedestrians\"!~\"no\"](41.97902366,-88.36150000,42.28385706,-87.92334772);>;);out;'}\"\n"
     ]
    },
    {
     "name": "stdout",
     "output_type": "stream",
     "text": [
      "Downloaded 66,919.7KB from www.overpass-api.de in 11.66 seconds\n",
      "Posting to http://www.overpass-api.de/api/interpreter with timeout=180, \"{'data': '[out:json][timeout:180];(way[\"highway\"][\"highway\"!~\"motor|proposed|construction|abandoned|platform|raceway\"][\"foot\"!~\"no\"][\"pedestrians\"!~\"no\"](41.97902366,-88.36150000,42.28385706,-87.92334772);>;);out;'}\"\n"
     ]
    },
    {
     "name": "stderr",
     "output_type": "stream",
     "text": [
      "INFO:osmnet:Downloaded 50,418.4KB from www.overpass-api.de in 9.10 seconds\n",
      "INFO:osmnet:Posting to http://www.overpass-api.de/api/interpreter with timeout=180, \"{'data': '[out:json][timeout:180];(way[\"highway\"][\"highway\"!~\"motor|proposed|construction|abandoned|platform|raceway\"][\"foot\"!~\"no\"][\"pedestrians\"!~\"no\"](41.98338394,-87.92772276,42.28385706,-87.47458698);>;);out;'}\"\n"
     ]
    },
    {
     "name": "stdout",
     "output_type": "stream",
     "text": [
      "Downloaded 50,418.4KB from www.overpass-api.de in 9.10 seconds\n",
      "Posting to http://www.overpass-api.de/api/interpreter with timeout=180, \"{'data': '[out:json][timeout:180];(way[\"highway\"][\"highway\"!~\"motor|proposed|construction|abandoned|platform|raceway\"][\"foot\"!~\"no\"][\"pedestrians\"!~\"no\"](41.98338394,-87.92772276,42.28385706,-87.47458698);>;);out;'}\"\n"
     ]
    },
    {
     "name": "stderr",
     "output_type": "stream",
     "text": [
      "INFO:osmnet:Downloaded 29,198.8KB from www.overpass-api.de in 4.74 seconds\n",
      "INFO:osmnet:Posting to http://www.overpass-api.de/api/interpreter with timeout=180, \"{'data': '[out:json][timeout:180];(way[\"highway\"][\"highway\"!~\"motor|proposed|construction|abandoned|platform|raceway\"][\"foot\"!~\"no\"][\"pedestrians\"!~\"no\"](41.67942185,-87.92334772,41.98611635,-87.47458686);>;);out;'}\"\n"
     ]
    },
    {
     "name": "stdout",
     "output_type": "stream",
     "text": [
      "Downloaded 29,198.8KB from www.overpass-api.de in 4.74 seconds\n",
      "Posting to http://www.overpass-api.de/api/interpreter with timeout=180, \"{'data': '[out:json][timeout:180];(way[\"highway\"][\"highway\"!~\"motor|proposed|construction|abandoned|platform|raceway\"][\"foot\"!~\"no\"][\"pedestrians\"!~\"no\"](41.67942185,-87.92334772,41.98611635,-87.47458686);>;);out;'}\"\n"
     ]
    },
    {
     "name": "stderr",
     "output_type": "stream",
     "text": [
      "INFO:osmnet:Downloaded 59,052.0KB from www.overpass-api.de in 10.44 seconds\n",
      "INFO:osmnet:Downloaded OSM network data within bounding box from Overpass API in 6 request(s) and 47.02 seconds\n"
     ]
    },
    {
     "name": "stdout",
     "output_type": "stream",
     "text": [
      "Downloaded 59,052.0KB from www.overpass-api.de in 10.44 seconds\n",
      "Downloaded OSM network data within bounding box from Overpass API in 6 request(s) and 47.02 seconds\n"
     ]
    },
    {
     "name": "stderr",
     "output_type": "stream",
     "text": [
      "INFO:osmnet:50646 duplicate records removed. Took 36.39 seconds\n"
     ]
    },
    {
     "name": "stdout",
     "output_type": "stream",
     "text": [
      "50646 duplicate records removed. Took 36.39 seconds\n"
     ]
    },
    {
     "name": "stderr",
     "output_type": "stream",
     "text": [
      "INFO:osmnet:Returning OSM data with 1,669,974 nodes and 328,568 ways...\n"
     ]
    },
    {
     "name": "stdout",
     "output_type": "stream",
     "text": [
      "Returning OSM data with 1,669,974 nodes and 328,568 ways...\n"
     ]
    },
    {
     "name": "stderr",
     "output_type": "stream",
     "text": [
      "INFO:osmnet:Edge node pairs completed. Took 387.92 seconds\n"
     ]
    },
    {
     "name": "stdout",
     "output_type": "stream",
     "text": [
      "Edge node pairs completed. Took 387.92 seconds\n"
     ]
    },
    {
     "name": "stderr",
     "output_type": "stream",
     "text": [
      "INFO:osmnet:Returning processed graph with 508,508 nodes and 754,717 edges...\n",
      "INFO:osmnet:Completed OSM data download and Pandana node and edge table creation in 481.07 seconds\n"
     ]
    },
    {
     "name": "stdout",
     "output_type": "stream",
     "text": [
      "Returning processed graph with 508,508 nodes and 754,717 edges...\n",
      "Completed OSM data download and Pandana node and edge table creation in 481.07 seconds\n",
      "Number of disconnected nodes removed: 2300\n"
     ]
    },
    {
     "name": "stderr",
     "output_type": "stream",
     "text": [
      "INFO:p2p_auto:Prepared raw network in 138.28 seconds and wrote to: data/matrices/raw_network_1.csv\n",
      "/Users/irene/Documents/GitHub/access/travel_times/scripts/p2p_auto.py:728: FutureWarning: Method .as_matrix will be removed in a future version. Use .values instead.\n",
      "  node_array = pd.DataFrame.as_matrix(nodes)\n",
      "INFO:p2p_auto:Nearest Neighbor matching completed in 8.36 seconds\n",
      "INFO:p2p_auto:Nearest Neighbor matching completed in 8.71 seconds\n",
      "INFO:p2p_auto:Writing to file: data/matrices/walk_full_results_21.csv\n",
      "INFO:p2p_auto:Shortest path matrix computed in 659.18 seconds\n",
      "INFO:p2p_auto:All operations completed in 1,296.00 seconds\n",
      "INFO:p2p_auto:Processing network (walk) in format: csv with epsilon: 0.05\n"
     ]
    },
    {
     "name": "stdout",
     "output_type": "stream",
     "text": [
      "Cleaned up calculation artifacts\n",
      "done\n"
     ]
    },
    {
     "name": "stderr",
     "output_type": "stream",
     "text": [
      "INFO:p2p_auto:Total number of rows in the dataset: 30293\n",
      "INFO:p2p_auto:Complete number of rows for computing the matrix: 30293\n",
      "INFO:p2p_auto:Total number of rows dropped due to missing latitude or longitude values: 0\n",
      "INFO:p2p_auto:Total number of rows in the dataset: 31737\n",
      "INFO:p2p_auto:Complete number of rows for computing the matrix: 31737\n",
      "INFO:p2p_auto:Total number of rows dropped due to missing latitude or longitude values: 0\n",
      "INFO:osmnet:Requesting network data within bounding box from Overpass API in 6 request(s)\n",
      "INFO:osmnet:Posting to http://www.overpass-api.de/api/interpreter with timeout=180, \"{'data': '[out:json][timeout:180];(way[\"highway\"][\"highway\"!~\"motor|proposed|construction|abandoned|platform|raceway\"][\"foot\"!~\"no\"][\"pedestrians\"!~\"no\"](41.37810000,-87.91898940,41.68211622,-87.47458686);>;);out;'}\"\n"
     ]
    },
    {
     "name": "stdout",
     "output_type": "stream",
     "text": [
      "The variables in your data set are:\n",
      ">  ID\n",
      ">  shape_stle\n",
      ">  pinb\n",
      ">  pinac\n",
      ">  taxcode\n",
      ">  pinu\n",
      ">  shape_star\n",
      ">  survey_cal\n",
      ">  pina\n",
      ">  upper_elev\n",
      ">  pinp\n",
      ">  parceltype\n",
      ">  lower_elev\n",
      ">  pin14\n",
      ">  pin10\n",
      ">  job_no\n",
      ">  pinsa\n",
      ">  COORD_X\n",
      ">  COORD_Y\n",
      ">  INSIDE_X\n",
      ">  INSIDE_Y\n",
      "The variables in your data set are:\n",
      ">  dunsnumber\n",
      ">  year\n",
      ">  year_dat\n",
      ">  address\n",
      ">  company\n",
      ">  sic8\n",
      ">  emp\n",
      ">  sales\n",
      ">  lat\n",
      ">  lon\n",
      ">  cat\n",
      ">  ID\n",
      "Requesting network data within bounding box from Overpass API in 6 request(s)\n",
      "Posting to http://www.overpass-api.de/api/interpreter with timeout=180, \"{'data': '[out:json][timeout:180];(way[\"highway\"][\"highway\"!~\"motor|proposed|construction|abandoned|platform|raceway\"][\"foot\"!~\"no\"][\"pedestrians\"!~\"no\"](41.37810000,-87.91898940,41.68211622,-87.47458686);>;);out;'}\"\n"
     ]
    },
    {
     "name": "stderr",
     "output_type": "stream",
     "text": [
      "INFO:osmnet:Downloaded 29,131.0KB from www.overpass-api.de in 5.88 seconds\n",
      "INFO:osmnet:Posting to http://www.overpass-api.de/api/interpreter with timeout=180, \"{'data': '[out:json][timeout:180];(way[\"highway\"][\"highway\"!~\"motor|proposed|construction|abandoned|platform|raceway\"][\"foot\"!~\"no\"][\"pedestrians\"!~\"no\"](41.37810000,-88.36150000,41.67942185,-87.91474675);>;);out;'}\"\n"
     ]
    },
    {
     "name": "stdout",
     "output_type": "stream",
     "text": [
      "Downloaded 29,131.0KB from www.overpass-api.de in 5.88 seconds\n",
      "Posting to http://www.overpass-api.de/api/interpreter with timeout=180, \"{'data': '[out:json][timeout:180];(way[\"highway\"][\"highway\"!~\"motor|proposed|construction|abandoned|platform|raceway\"][\"foot\"!~\"no\"][\"pedestrians\"!~\"no\"](41.37810000,-88.36150000,41.67942185,-87.91474675);>;);out;'}\"\n"
     ]
    },
    {
     "name": "stderr",
     "output_type": "stream",
     "text": [
      "INFO:osmnet:Downloaded 18,487.6KB from www.overpass-api.de in 2.56 seconds\n",
      "INFO:osmnet:Posting to http://www.overpass-api.de/api/interpreter with timeout=180, \"{'data': '[out:json][timeout:180];(way[\"highway\"][\"highway\"!~\"motor|proposed|construction|abandoned|platform|raceway\"][\"foot\"!~\"no\"][\"pedestrians\"!~\"no\"](41.67503162,-88.36146277,41.98338393,-87.91898940);>;);out;'}\"\n"
     ]
    },
    {
     "name": "stdout",
     "output_type": "stream",
     "text": [
      "Downloaded 18,487.6KB from www.overpass-api.de in 2.56 seconds\n",
      "Posting to http://www.overpass-api.de/api/interpreter with timeout=180, \"{'data': '[out:json][timeout:180];(way[\"highway\"][\"highway\"!~\"motor|proposed|construction|abandoned|platform|raceway\"][\"foot\"!~\"no\"][\"pedestrians\"!~\"no\"](41.67503162,-88.36146277,41.98338393,-87.91898940);>;);out;'}\"\n"
     ]
    },
    {
     "name": "stderr",
     "output_type": "stream",
     "text": [
      "INFO:osmnet:Downloaded 66,919.7KB from www.overpass-api.de in 8.18 seconds\n",
      "INFO:osmnet:Posting to http://www.overpass-api.de/api/interpreter with timeout=180, \"{'data': '[out:json][timeout:180];(way[\"highway\"][\"highway\"!~\"motor|proposed|construction|abandoned|platform|raceway\"][\"foot\"!~\"no\"][\"pedestrians\"!~\"no\"](41.97902366,-88.36150000,42.28385706,-87.92334772);>;);out;'}\"\n"
     ]
    },
    {
     "name": "stdout",
     "output_type": "stream",
     "text": [
      "Downloaded 66,919.7KB from www.overpass-api.de in 8.18 seconds\n",
      "Posting to http://www.overpass-api.de/api/interpreter with timeout=180, \"{'data': '[out:json][timeout:180];(way[\"highway\"][\"highway\"!~\"motor|proposed|construction|abandoned|platform|raceway\"][\"foot\"!~\"no\"][\"pedestrians\"!~\"no\"](41.97902366,-88.36150000,42.28385706,-87.92334772);>;);out;'}\"\n"
     ]
    },
    {
     "name": "stderr",
     "output_type": "stream",
     "text": [
      "INFO:osmnet:Downloaded 50,418.4KB from www.overpass-api.de in 17.54 seconds\n",
      "INFO:osmnet:Posting to http://www.overpass-api.de/api/interpreter with timeout=180, \"{'data': '[out:json][timeout:180];(way[\"highway\"][\"highway\"!~\"motor|proposed|construction|abandoned|platform|raceway\"][\"foot\"!~\"no\"][\"pedestrians\"!~\"no\"](41.98338394,-87.92772276,42.28385706,-87.47458698);>;);out;'}\"\n"
     ]
    },
    {
     "name": "stdout",
     "output_type": "stream",
     "text": [
      "Downloaded 50,418.4KB from www.overpass-api.de in 17.54 seconds\n",
      "Posting to http://www.overpass-api.de/api/interpreter with timeout=180, \"{'data': '[out:json][timeout:180];(way[\"highway\"][\"highway\"!~\"motor|proposed|construction|abandoned|platform|raceway\"][\"foot\"!~\"no\"][\"pedestrians\"!~\"no\"](41.98338394,-87.92772276,42.28385706,-87.47458698);>;);out;'}\"\n"
     ]
    },
    {
     "name": "stderr",
     "output_type": "stream",
     "text": [
      "INFO:osmnet:Downloaded 29,198.8KB from www.overpass-api.de in 11.78 seconds\n",
      "INFO:osmnet:Posting to http://www.overpass-api.de/api/interpreter with timeout=180, \"{'data': '[out:json][timeout:180];(way[\"highway\"][\"highway\"!~\"motor|proposed|construction|abandoned|platform|raceway\"][\"foot\"!~\"no\"][\"pedestrians\"!~\"no\"](41.67942185,-87.92334772,41.98611635,-87.47458686);>;);out;'}\"\n"
     ]
    },
    {
     "name": "stdout",
     "output_type": "stream",
     "text": [
      "Downloaded 29,198.8KB from www.overpass-api.de in 11.78 seconds\n",
      "Posting to http://www.overpass-api.de/api/interpreter with timeout=180, \"{'data': '[out:json][timeout:180];(way[\"highway\"][\"highway\"!~\"motor|proposed|construction|abandoned|platform|raceway\"][\"foot\"!~\"no\"][\"pedestrians\"!~\"no\"](41.67942185,-87.92334772,41.98611635,-87.47458686);>;);out;'}\"\n"
     ]
    },
    {
     "name": "stderr",
     "output_type": "stream",
     "text": [
      "INFO:osmnet:Downloaded 59,053.8KB from www.overpass-api.de in 28.02 seconds\n",
      "INFO:osmnet:Downloaded OSM network data within bounding box from Overpass API in 6 request(s) and 78.48 seconds\n"
     ]
    },
    {
     "name": "stdout",
     "output_type": "stream",
     "text": [
      "Downloaded 59,053.8KB from www.overpass-api.de in 28.02 seconds\n",
      "Downloaded OSM network data within bounding box from Overpass API in 6 request(s) and 78.48 seconds\n"
     ]
    },
    {
     "name": "stderr",
     "output_type": "stream",
     "text": [
      "ERROR:p2p_auto:Error trying to download OSM network. \n",
      "            Did you reverse lat/long? \n",
      "            Is your network connection functional?\n",
      "            \n"
     ]
    },
    {
     "ename": "SystemExit",
     "evalue": "",
     "output_type": "error",
     "traceback": [
      "An exception has occurred, use %tb to see the full traceback.\n",
      "\u001b[0;31mSystemExit\u001b[0m\n"
     ]
    },
    {
     "name": "stderr",
     "output_type": "stream",
     "text": [
      "/usr/local/lib/python3.6/site-packages/IPython/core/interactiveshell.py:2971: UserWarning: To exit: use 'exit', 'quit', or Ctrl-D.\n",
      "  warn(\"To exit: use 'exit', 'quit', or Ctrl-D.\", stacklevel=1)\n"
     ]
    }
   ],
   "source": [
    "for i in range(0,20):\n",
    "    mat = TransitMatrix(network_type='walk',\n",
    "                        primary_input='data/ORIG/parcels_'+str(i)+'.csv',\n",
    "                        secondary_input='data/DEST/nets10.csv', write_to_file=True)\n",
    "    mat.process()\n",
    "    print('done')"
   ]
  },
  {
   "cell_type": "markdown",
   "metadata": {},
   "source": [
    "# Access Score Automated"
   ]
  },
  {
   "cell_type": "code",
   "execution_count": 1,
   "metadata": {},
   "outputs": [],
   "source": [
    "import sys, os\n",
    "os.chdir('scripts')\n",
    "from CA_auto import *"
   ]
  },
  {
   "cell_type": "code",
   "execution_count": 2,
   "metadata": {},
   "outputs": [],
   "source": [
    "dict = {\n",
    "\"groceries\": [3,3,3,3,3,3,3,3,3,3],\n",
    "\"restaurant\": [1,1,1,1,1, 1, .75, .75, .75, .75],\n",
    "\"shopping\": [1,1,1, 1, 1,1, 1, 1, .5, .5],\n",
    "\"coffee\": [1,1,1, 1,1,1,.75,.75,.75, .75],\n",
    "\"banks\": [1,1,1,1,1,1,1,1,1,1],\n",
    "\"park\": [1,1,1,1,1,1,1,1,1,1],\n",
    "\"school\": [1,1,1,1,1,1,1,1,1,1],\n",
    "\"books\": [1,1,1,1,1,1,1,1,1,1],\n",
    "\"entertainment\": [1,1,1,1,1,1,1,1,1,1],\n",
    "}"
   ]
  },
  {
   "cell_type": "code",
   "execution_count": 3,
   "metadata": {},
   "outputs": [
    {
     "name": "stderr",
     "output_type": "stream",
     "text": [
      "INFO:ScoreModel_auto:Loaded sp matrix from file: data/matrices/walk_full_results_0.csv\n",
      "INFO:ScoreModel_auto:Finished loading sp_matrix in 934.90 seconds\n",
      "INFO:ScoreModel_auto:Processing... This could take a while\n",
      "INFO:ScoreModel_auto:Finished processing ModelData in 700.17 seconds\n",
      "INFO:ScoreModel_auto:Finished calculating Access Model in 323.25 seconds\n",
      "INFO:ScoreModel_auto:Loaded sp matrix from file: data/matrices/walk_full_results_1.csv\n",
      "INFO:ScoreModel_auto:Finished loading sp_matrix in 1,243.25 seconds\n",
      "INFO:ScoreModel_auto:Processing... This could take a while\n"
     ]
    },
    {
     "ename": "KeyboardInterrupt",
     "evalue": "",
     "output_type": "error",
     "traceback": [
      "\u001b[0;31m---------------------------------------------------------------------------\u001b[0m",
      "\u001b[0;31mKeyboardInterrupt\u001b[0m                         Traceback (most recent call last)",
      "\u001b[0;32m<ipython-input-3-68179fc1e24e>\u001b[0m in \u001b[0;36m<module>\u001b[0;34m()\u001b[0m\n\u001b[1;32m      4\u001b[0m                      \u001b[0msource_filename\u001b[0m\u001b[0;34m=\u001b[0m\u001b[0;34m'data/ORIG/parcels_'\u001b[0m\u001b[0;34m+\u001b[0m\u001b[0mstr\u001b[0m\u001b[0;34m(\u001b[0m\u001b[0mi\u001b[0m\u001b[0;34m)\u001b[0m\u001b[0;34m+\u001b[0m\u001b[0;34m'.csv'\u001b[0m\u001b[0;34m,\u001b[0m\u001b[0;34m\u001b[0m\u001b[0m\n\u001b[1;32m      5\u001b[0m                      \u001b[0mdest_filename\u001b[0m\u001b[0;34m=\u001b[0m\u001b[0;34m'data/DEST/nets10.csv'\u001b[0m\u001b[0;34m,\u001b[0m\u001b[0;34m\u001b[0m\u001b[0m\n\u001b[0;32m----> 6\u001b[0;31m                      decay_function='logit')\n\u001b[0m\u001b[1;32m      7\u001b[0m     access.calculate(custom_threshold=40,\n\u001b[1;32m      8\u001b[0m                  \u001b[0mnormalize\u001b[0m\u001b[0;34m=\u001b[0m\u001b[0;32mTrue\u001b[0m\u001b[0;34m,\u001b[0m\u001b[0;34m\u001b[0m\u001b[0m\n",
      "\u001b[0;32m~/Documents/GitHub/access/travel_times/scripts/CA_auto.py\u001b[0m in \u001b[0;36m__init__\u001b[0;34m(self, network_type, source_filename, source_field_mapping, dest_filename, dest_field_mapping, sp_matrix_filename, decay_function, limit_categories, upper)\u001b[0m\n\u001b[1;32m    322\u001b[0m         \u001b[0mself\u001b[0m\u001b[0;34m.\u001b[0m\u001b[0mload_sp_matrix\u001b[0m\u001b[0;34m(\u001b[0m\u001b[0msp_matrix_filename\u001b[0m\u001b[0;34m)\u001b[0m\u001b[0;34m\u001b[0m\u001b[0m\n\u001b[1;32m    323\u001b[0m \u001b[0;34m\u001b[0m\u001b[0m\n\u001b[0;32m--> 324\u001b[0;31m         \u001b[0mself\u001b[0m\u001b[0;34m.\u001b[0m\u001b[0mprocess\u001b[0m\u001b[0;34m(\u001b[0m\u001b[0;34m)\u001b[0m\u001b[0;34m\u001b[0m\u001b[0m\n\u001b[0m\u001b[1;32m    325\u001b[0m         \u001b[0mself\u001b[0m\u001b[0;34m.\u001b[0m\u001b[0mlimit_categories\u001b[0m \u001b[0;34m=\u001b[0m \u001b[0mlimit_categories\u001b[0m\u001b[0;34m\u001b[0m\u001b[0m\n\u001b[1;32m    326\u001b[0m         \u001b[0;32massert\u001b[0m \u001b[0mtype\u001b[0m\u001b[0;34m(\u001b[0m\u001b[0mlimit_categories\u001b[0m\u001b[0;34m)\u001b[0m \u001b[0;34m==\u001b[0m \u001b[0mtype\u001b[0m\u001b[0;34m(\u001b[0m\u001b[0mset\u001b[0m\u001b[0;34m(\u001b[0m\u001b[0;34m)\u001b[0m\u001b[0;34m)\u001b[0m \u001b[0;32mor\u001b[0m \u001b[0mlimit_categories\u001b[0m \u001b[0;34m==\u001b[0m \u001b[0;32mNone\u001b[0m\u001b[0;34m,\u001b[0m \u001b[0;34m'limit_categories must be of type set or None'\u001b[0m\u001b[0;34m\u001b[0m\u001b[0m\n",
      "\u001b[0;32m~/Documents/GitHub/access/travel_times/scripts/ScoreModel_auto.py\u001b[0m in \u001b[0;36mprocess\u001b[0;34m(self)\u001b[0m\n\u001b[1;32m    155\u001b[0m         \u001b[0mself\u001b[0m\u001b[0;34m.\u001b[0m\u001b[0mno_dest_in_range\u001b[0m \u001b[0;34m=\u001b[0m \u001b[0;34m{\u001b[0m\u001b[0;34m}\u001b[0m \u001b[0;31m#stores no of destinations within self.upper\u001b[0m\u001b[0;34m\u001b[0m\u001b[0m\n\u001b[1;32m    156\u001b[0m         \u001b[0;32mfor\u001b[0m \u001b[0msource\u001b[0m \u001b[0;32min\u001b[0m \u001b[0mself\u001b[0m\u001b[0;34m.\u001b[0m\u001b[0msource_2\u001b[0m\u001b[0;34m:\u001b[0m\u001b[0;34m\u001b[0m\u001b[0m\n\u001b[0;32m--> 157\u001b[0;31m             \u001b[0mpairs\u001b[0m \u001b[0;34m=\u001b[0m \u001b[0;34m[\u001b[0m\u001b[0;34m(\u001b[0m\u001b[0mk\u001b[0m\u001b[0;34m,\u001b[0m\u001b[0mv\u001b[0m\u001b[0;34m)\u001b[0m \u001b[0;32mfor\u001b[0m \u001b[0mk\u001b[0m\u001b[0;34m,\u001b[0m\u001b[0mv\u001b[0m \u001b[0;32min\u001b[0m \u001b[0mself\u001b[0m\u001b[0;34m.\u001b[0m\u001b[0mdicto\u001b[0m\u001b[0;34m[\u001b[0m\u001b[0msource\u001b[0m\u001b[0;34m]\u001b[0m\u001b[0;34m.\u001b[0m\u001b[0mitems\u001b[0m\u001b[0;34m(\u001b[0m\u001b[0;34m)\u001b[0m\u001b[0;34m]\u001b[0m\u001b[0;34m\u001b[0m\u001b[0m\n\u001b[0m\u001b[1;32m    158\u001b[0m             \u001b[0mpairs\u001b[0m\u001b[0;34m.\u001b[0m\u001b[0msort\u001b[0m\u001b[0;34m(\u001b[0m\u001b[0mkey\u001b[0m\u001b[0;34m=\u001b[0m\u001b[0mitemgetter\u001b[0m\u001b[0;34m(\u001b[0m\u001b[0;36m1\u001b[0m\u001b[0;34m)\u001b[0m\u001b[0;34m)\u001b[0m\u001b[0;34m\u001b[0m\u001b[0m\n\u001b[1;32m    159\u001b[0m             \u001b[0mlo\u001b[0m\u001b[0;34m,\u001b[0m \u001b[0mhi\u001b[0m \u001b[0;34m=\u001b[0m \u001b[0;36m0\u001b[0m\u001b[0;34m,\u001b[0m \u001b[0mlen\u001b[0m\u001b[0;34m(\u001b[0m\u001b[0mpairs\u001b[0m\u001b[0;34m)\u001b[0m \u001b[0;34m-\u001b[0m \u001b[0;36m1\u001b[0m\u001b[0;34m\u001b[0m\u001b[0m\n",
      "\u001b[0;32m~/Documents/GitHub/access/travel_times/scripts/ScoreModel_auto.py\u001b[0m in \u001b[0;36m<listcomp>\u001b[0;34m(.0)\u001b[0m\n\u001b[1;32m    155\u001b[0m         \u001b[0mself\u001b[0m\u001b[0;34m.\u001b[0m\u001b[0mno_dest_in_range\u001b[0m \u001b[0;34m=\u001b[0m \u001b[0;34m{\u001b[0m\u001b[0;34m}\u001b[0m \u001b[0;31m#stores no of destinations within self.upper\u001b[0m\u001b[0;34m\u001b[0m\u001b[0m\n\u001b[1;32m    156\u001b[0m         \u001b[0;32mfor\u001b[0m \u001b[0msource\u001b[0m \u001b[0;32min\u001b[0m \u001b[0mself\u001b[0m\u001b[0;34m.\u001b[0m\u001b[0msource_2\u001b[0m\u001b[0;34m:\u001b[0m\u001b[0;34m\u001b[0m\u001b[0m\n\u001b[0;32m--> 157\u001b[0;31m             \u001b[0mpairs\u001b[0m \u001b[0;34m=\u001b[0m \u001b[0;34m[\u001b[0m\u001b[0;34m(\u001b[0m\u001b[0mk\u001b[0m\u001b[0;34m,\u001b[0m\u001b[0mv\u001b[0m\u001b[0;34m)\u001b[0m \u001b[0;32mfor\u001b[0m \u001b[0mk\u001b[0m\u001b[0;34m,\u001b[0m\u001b[0mv\u001b[0m \u001b[0;32min\u001b[0m \u001b[0mself\u001b[0m\u001b[0;34m.\u001b[0m\u001b[0mdicto\u001b[0m\u001b[0;34m[\u001b[0m\u001b[0msource\u001b[0m\u001b[0;34m]\u001b[0m\u001b[0;34m.\u001b[0m\u001b[0mitems\u001b[0m\u001b[0;34m(\u001b[0m\u001b[0;34m)\u001b[0m\u001b[0;34m]\u001b[0m\u001b[0;34m\u001b[0m\u001b[0m\n\u001b[0m\u001b[1;32m    158\u001b[0m             \u001b[0mpairs\u001b[0m\u001b[0;34m.\u001b[0m\u001b[0msort\u001b[0m\u001b[0;34m(\u001b[0m\u001b[0mkey\u001b[0m\u001b[0;34m=\u001b[0m\u001b[0mitemgetter\u001b[0m\u001b[0;34m(\u001b[0m\u001b[0;36m1\u001b[0m\u001b[0;34m)\u001b[0m\u001b[0;34m)\u001b[0m\u001b[0;34m\u001b[0m\u001b[0m\n\u001b[1;32m    159\u001b[0m             \u001b[0mlo\u001b[0m\u001b[0;34m,\u001b[0m \u001b[0mhi\u001b[0m \u001b[0;34m=\u001b[0m \u001b[0;36m0\u001b[0m\u001b[0;34m,\u001b[0m \u001b[0mlen\u001b[0m\u001b[0;34m(\u001b[0m\u001b[0mpairs\u001b[0m\u001b[0;34m)\u001b[0m \u001b[0;34m-\u001b[0m \u001b[0;36m1\u001b[0m\u001b[0;34m\u001b[0m\u001b[0m\n",
      "\u001b[0;31mKeyboardInterrupt\u001b[0m: "
     ]
    }
   ],
   "source": [
    "for i in range(0,20):\n",
    "    access = AccessModel(network_type='walk',\n",
    "                     sp_matrix_filename='data/matrices/walk_full_results_'+str(i)+'.csv',\n",
    "                     source_filename='data/ORIG/parcels_'+str(i)+'.csv',\n",
    "                     dest_filename='data/DEST/nets10.csv',\n",
    "                     decay_function='logit')\n",
    "    access.calculate(custom_threshold=40,\n",
    "                 normalize=True,\n",
    "                 custom_weight_dict=dict,\n",
    "                 largest_weights_first=True)\n",
    "    access.write_csv()"
   ]
  },
  {
   "cell_type": "code",
   "execution_count": 5,
   "metadata": {},
   "outputs": [
    {
     "data": {
      "text/plain": [
       "'/Users/irene/Documents/GitHub/access/travel_times/scripts'"
      ]
     },
     "execution_count": 5,
     "metadata": {},
     "output_type": "execute_result"
    }
   ],
   "source": [
    "#Takes 30 minutes to calculate the access model of each one\n"
   ]
  },
  {
   "cell_type": "code",
   "execution_count": null,
   "metadata": {},
   "outputs": [],
   "source": []
  },
  {
   "cell_type": "code",
   "execution_count": null,
   "metadata": {},
   "outputs": [],
   "source": []
  },
  {
   "cell_type": "code",
   "execution_count": null,
   "metadata": {},
   "outputs": [],
   "source": []
  }
 ],
 "metadata": {
  "kernelspec": {
   "display_name": "Python 3",
   "language": "python",
   "name": "python3"
  },
  "language_info": {
   "codemirror_mode": {
    "name": "ipython",
    "version": 3
   },
   "file_extension": ".py",
   "mimetype": "text/x-python",
   "name": "python",
   "nbconvert_exporter": "python",
   "pygments_lexer": "ipython3",
   "version": "3.6.4"
  }
 },
 "nbformat": 4,
 "nbformat_minor": 2
}
