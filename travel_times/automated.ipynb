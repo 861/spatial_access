{
 "cells": [
  {
   "cell_type": "code",
   "execution_count": null,
   "metadata": {},
   "outputs": [],
   "source": [
    "import sys, os\n",
    "os.chdir('scripts')\n",
    "from CA_auto import *"
   ]
  },
  {
   "cell_type": "code",
   "execution_count": null,
   "metadata": {},
   "outputs": [],
   "source": [
    "dict = {\n",
    "\"groceries\": [3,3,3,3,3,3,3,3,3,3],\n",
    "\"restaurant\": [1,1,1,1,1, 1, .75, .75, .75, .75],\n",
    "\"shopping\": [1,1,1, 1, 1,1, 1, 1, .5, .5],\n",
    "\"coffee\": [1,1,1, 1,1,1,.75,.75,.75, .75],\n",
    "\"banks\": [1,1,1,1,1,1,1,1,1,1],\n",
    "\"park\": [1,1,1,1,1,1,1,1,1,1],\n",
    "\"school\": [1,1,1,1,1,1,1,1,1,1],\n",
    "\"books\": [1,1,1,1,1,1,1,1,1,1],\n",
    "\"entertainment\": [1,1,1,1,1,1,1,1,1,1],\n",
    "}"
   ]
  },
  {
   "cell_type": "code",
   "execution_count": null,
   "metadata": {},
   "outputs": [],
   "source": [
    "for i in range(0,20):\n",
    "    access = AccessModel(network_type='walk',\n",
    "                     sp_matrix_filename='data/matrices/walk_full_results_'+str(i)+'.csv',\n",
    "                     source_filename='data/ORIG/parcels_'+str(i)+'.csv',\n",
    "                     dest_filename='data/DEST/nets10.csv',\n",
    "                     decay_function='logit')\n",
    "    access.calculate(custom_threshold=40,\n",
    "                 normalize=True,\n",
    "                 custom_weight_dict=dict,\n",
    "                 largest_weights_first=True)\n",
    "    access.write_csv()"
   ]
  },
  {
   "cell_type": "code",
   "execution_count": null,
   "metadata": {},
   "outputs": [],
   "source": []
  },
  {
   "cell_type": "code",
   "execution_count": null,
   "metadata": {},
   "outputs": [],
   "source": []
  },
  {
   "cell_type": "code",
   "execution_count": null,
   "metadata": {},
   "outputs": [],
   "source": []
  },
  {
   "cell_type": "code",
   "execution_count": null,
   "metadata": {},
   "outputs": [],
   "source": []
  }
 ],
 "metadata": {
  "kernelspec": {
   "display_name": "Python 3",
   "language": "python",
   "name": "python3"
  },
  "language_info": {
   "codemirror_mode": {
    "name": "ipython",
    "version": 3
   },
   "file_extension": ".py",
   "mimetype": "text/x-python",
   "name": "python",
   "nbconvert_exporter": "python",
   "pygments_lexer": "ipython3",
   "version": "3.6.4"
  }
 },
 "nbformat": 4,
 "nbformat_minor": 2
}
