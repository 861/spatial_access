{
 "cells": [
  {
   "cell_type": "markdown",
   "metadata": {},
   "source": [
    "# Transit Matrix"
   ]
  },
  {
   "cell_type": "code",
   "execution_count": 1,
   "metadata": {},
   "outputs": [],
   "source": [
    "import sys, os\n",
    "os.chdir('scripts')\n",
    "from p2p import *"
   ]
  },
  {
   "cell_type": "code",
   "execution_count": 2,
   "metadata": {},
   "outputs": [],
   "source": [
    "%matplotlib inline"
   ]
  },
  {
   "cell_type": "markdown",
   "metadata": {},
   "source": [
    "--- \n",
    "<h1><center>DEMO</center></h1>  \n"
   ]
  },
  {
   "cell_type": "markdown",
   "metadata": {},
   "source": [
    "**View structure of data example: Health Facilities in Chicago.**  \n",
    "Health Facilities Data: http://makosak.github.io/chihealthaccess/index.html"
   ]
  },
  {
   "cell_type": "code",
   "execution_count": 2,
   "metadata": {},
   "outputs": [
    {
     "data": {
      "text/html": [
       "<div>\n",
       "<style scoped>\n",
       "    .dataframe tbody tr th:only-of-type {\n",
       "        vertical-align: middle;\n",
       "    }\n",
       "\n",
       "    .dataframe tbody tr th {\n",
       "        vertical-align: top;\n",
       "    }\n",
       "\n",
       "    .dataframe thead th {\n",
       "        text-align: right;\n",
       "    }\n",
       "</style>\n",
       "<table border=\"1\" class=\"dataframe\">\n",
       "  <thead>\n",
       "    <tr style=\"text-align: right;\">\n",
       "      <th></th>\n",
       "      <th>ID</th>\n",
       "      <th>Facility</th>\n",
       "      <th>lat</th>\n",
       "      <th>lon</th>\n",
       "      <th>Type</th>\n",
       "      <th>target</th>\n",
       "      <th>category</th>\n",
       "      <th>community</th>\n",
       "    </tr>\n",
       "  </thead>\n",
       "  <tbody>\n",
       "    <tr>\n",
       "      <th>0</th>\n",
       "      <td>1</td>\n",
       "      <td>American Indian Health Service of Chicago, Inc.</td>\n",
       "      <td>41.956676</td>\n",
       "      <td>-87.651879</td>\n",
       "      <td>5</td>\n",
       "      <td>127000</td>\n",
       "      <td>Other Health Providers</td>\n",
       "      <td>3</td>\n",
       "    </tr>\n",
       "    <tr>\n",
       "      <th>1</th>\n",
       "      <td>2</td>\n",
       "      <td>Hamdard Center for Health and Human Services</td>\n",
       "      <td>41.997852</td>\n",
       "      <td>-87.669535</td>\n",
       "      <td>5</td>\n",
       "      <td>190000</td>\n",
       "      <td>Other Health Providers</td>\n",
       "      <td>77</td>\n",
       "    </tr>\n",
       "    <tr>\n",
       "      <th>2</th>\n",
       "      <td>3</td>\n",
       "      <td>Infant Welfare Society of Chicago</td>\n",
       "      <td>41.924904</td>\n",
       "      <td>-87.717270</td>\n",
       "      <td>5</td>\n",
       "      <td>137000</td>\n",
       "      <td>Other Health Providers</td>\n",
       "      <td>22</td>\n",
       "    </tr>\n",
       "    <tr>\n",
       "      <th>3</th>\n",
       "      <td>4</td>\n",
       "      <td>Mercy Family - Henry Booth House Family Health...</td>\n",
       "      <td>41.841694</td>\n",
       "      <td>-87.624790</td>\n",
       "      <td>5</td>\n",
       "      <td>159000</td>\n",
       "      <td>Other Health Providers</td>\n",
       "      <td>35</td>\n",
       "    </tr>\n",
       "    <tr>\n",
       "      <th>4</th>\n",
       "      <td>6</td>\n",
       "      <td>Cook County - Dr. Jorge Prieto Health Center</td>\n",
       "      <td>41.847143</td>\n",
       "      <td>-87.724975</td>\n",
       "      <td>5</td>\n",
       "      <td>166000</td>\n",
       "      <td>Other Health Providers</td>\n",
       "      <td>30</td>\n",
       "    </tr>\n",
       "  </tbody>\n",
       "</table>\n",
       "</div>"
      ],
      "text/plain": [
       "   ID                                           Facility        lat  \\\n",
       "0   1    American Indian Health Service of Chicago, Inc.  41.956676   \n",
       "1   2       Hamdard Center for Health and Human Services  41.997852   \n",
       "2   3                  Infant Welfare Society of Chicago  41.924904   \n",
       "3   4  Mercy Family - Henry Booth House Family Health...  41.841694   \n",
       "4   6       Cook County - Dr. Jorge Prieto Health Center  41.847143   \n",
       "\n",
       "         lon  Type  target                category  community  \n",
       "0 -87.651879     5  127000  Other Health Providers          3  \n",
       "1 -87.669535     5  190000  Other Health Providers         77  \n",
       "2 -87.717270     5  137000  Other Health Providers         22  \n",
       "3 -87.624790     5  159000  Other Health Providers         35  \n",
       "4 -87.724975     5  166000  Other Health Providers         30  "
      ]
     },
     "execution_count": 2,
     "metadata": {},
     "output_type": "execute_result"
    }
   ],
   "source": [
    "df = pd.read_csv('data/DEST/health_chicago.csv')\n",
    "df.head()"
   ]
  },
  {
   "cell_type": "markdown",
   "metadata": {},
   "source": [
    "### Distance Matrices  \n",
    "\n",
    "<span style=\"color:LimeGreen\"> **Specifications for the asymmetric and symmetric distance matrices:**  \n",
    "\n",
    "- network_type (drive or walk)\n",
    "- epsilon=0.05 (can change default)  \n",
    "- primary_input  \n",
    "- secondary_input  \n",
    "- output_type='csv'  \n",
    "- n_best_matches=4 (for simulations)\n",
    "- read_from_file=None  \n",
    "- write_to_file (set as True if user wants to save results)   \n",
    "- load_to_mem=True (True is default but can set it to False if the user is running a computational intensive process >>>.)\n",
    "\n",
    "**Please make sure latitude and longitude are correct if using X and Y.**\n"
   ]
  },
  {
   "cell_type": "markdown",
   "metadata": {},
   "source": [
    "## Model 1: Asymmetric Matrix  \n",
    "---\n",
    "The first model directly creates an asymmetric matrix from destination points to the centroids of the area of analysis (also takes ~ 20 min). This approach is most effective when you are only calculating the distance matrix or a particular distance score once."
   ]
  },
  {
   "cell_type": "code",
   "execution_count": 4,
   "metadata": {
    "code_folding": [],
    "collapsed": true
   },
   "outputs": [
    {
     "name": "stderr",
     "output_type": "stream",
     "text": [
      "INFO:p2p:Processing network (walk) in format: csv with epsilon: 0.05\n"
     ]
    },
    {
     "name": "stdout",
     "output_type": "stream",
     "text": [
      "The variables in your data set are:\n",
      ">  geoid10\n",
      ">  lon\n",
      ">  lat\n",
      ">  Pop2014\n",
      ">  Pov14\n",
      ">  community\n"
     ]
    },
    {
     "name": "stderr",
     "output_type": "stream",
     "text": [
      "INFO:p2p:Total number of rows in the dataset: 801\n",
      "INFO:p2p:Complete number of rows for computing the matrix: 801\n",
      "INFO:p2p:Total number of rows dropped due to missing latitude or longitude values: 0\n"
     ]
    },
    {
     "name": "stdout",
     "output_type": "stream",
     "text": [
      "The variables in your data set are:\n",
      ">  agency_id\n",
      ">  facility\n",
      ">  lat\n",
      ">  lon\n",
      ">  cat_num\n",
      ">  target\n",
      ">  category\n"
     ]
    },
    {
     "name": "stderr",
     "output_type": "stream",
     "text": [
      "INFO:p2p:Total number of rows in the dataset: 199\n",
      "INFO:p2p:Complete number of rows for computing the matrix: 199\n",
      "INFO:p2p:Total number of rows dropped due to missing latitude or longitude values: 0\n",
      "INFO:osmnet:Requesting network data within bounding box from Overpass API in 1 request(s)\n",
      "INFO:osmnet:Posting to http://www.overpass-api.de/api/interpreter with timeout=180, \"{'data': '[out:json][timeout:180];(way[\"highway\"][\"highway\"!~\"motor|proposed|construction|abandoned|platform|raceway\"][\"foot\"!~\"no\"][\"pedestrians\"!~\"no\"](41.55758000,-87.85448850,42.11430300,-87.58049640);>;);out;'}\"\n"
     ]
    },
    {
     "name": "stdout",
     "output_type": "stream",
     "text": [
      "Requesting network data within bounding box from Overpass API in 1 request(s)\n",
      "Posting to http://www.overpass-api.de/api/interpreter with timeout=180, \"{'data': '[out:json][timeout:180];(way[\"highway\"][\"highway\"!~\"motor|proposed|construction|abandoned|platform|raceway\"][\"foot\"!~\"no\"][\"pedestrians\"!~\"no\"](41.55758000,-87.85448850,42.11430300,-87.58049640);>;);out;'}\"\n"
     ]
    },
    {
     "name": "stderr",
     "output_type": "stream",
     "text": [
      "INFO:osmnet:Downloaded 74,131.9KB from www.overpass-api.de in 13.74 seconds\n",
      "INFO:osmnet:Downloaded OSM network data within bounding box from Overpass API in 1 request(s) and 15.03 seconds\n"
     ]
    },
    {
     "name": "stdout",
     "output_type": "stream",
     "text": [
      "Downloaded 74,131.9KB from www.overpass-api.de in 13.74 seconds\n",
      "Downloaded OSM network data within bounding box from Overpass API in 1 request(s) and 15.03 seconds\n"
     ]
    },
    {
     "name": "stderr",
     "output_type": "stream",
     "text": [
      "INFO:osmnet:Returning OSM data with 442,330 nodes and 117,327 ways...\n"
     ]
    },
    {
     "name": "stdout",
     "output_type": "stream",
     "text": [
      "Returning OSM data with 442,330 nodes and 117,327 ways...\n"
     ]
    },
    {
     "name": "stderr",
     "output_type": "stream",
     "text": [
      "INFO:osmnet:Edge node pairs completed. Took 144.87 seconds\n"
     ]
    },
    {
     "name": "stdout",
     "output_type": "stream",
     "text": [
      "Edge node pairs completed. Took 144.87 seconds\n"
     ]
    },
    {
     "name": "stderr",
     "output_type": "stream",
     "text": [
      "INFO:osmnet:Returning processed graph with 197,545 nodes and 302,432 edges...\n",
      "INFO:osmnet:Completed OSM data download and Pandana node and edge table creation in 172.84 seconds\n"
     ]
    },
    {
     "name": "stdout",
     "output_type": "stream",
     "text": [
      "Returning processed graph with 197,545 nodes and 302,432 edges...\n",
      "Completed OSM data download and Pandana node and edge table creation in 172.84 seconds\n"
     ]
    },
    {
     "name": "stderr",
     "output_type": "stream",
     "text": [
      "INFO:p2p:Prepared raw network in 1.23 seconds and wrote to: data/results/raw_network_0.csv\n",
      "/Users/irene/Downloads/access/travel_times/scripts/p2p.py:643: FutureWarning: Method .as_matrix will be removed in a future version. Use .values instead.\n",
      "  node_array = pd.DataFrame.as_matrix(nodes)\n",
      "INFO:p2p:Nearest Neighbor matching completed in 0.28 seconds\n",
      "INFO:p2p:Nearest Neighbor matching completed in 0.11 seconds\n",
      "INFO:p2p:Writing to file: data/results/walk_full_results_0.csv\n",
      "INFO:p2p:Shortest path matrix computed in 8.42 seconds\n",
      "INFO:p2p:All operations completed in 182.91 seconds\n"
     ]
    },
    {
     "name": "stdout",
     "output_type": "stream",
     "text": [
      "Cleaned up calculation artifacts\n"
     ]
    }
   ],
   "source": [
    "# Calculate asymmetric distance matrix for walking (takes ~3 minutes to run) \n",
    "\n",
    "w_asym_mat = TransitMatrix(network_type='walk',\n",
    "                           primary_input='data/ORIG/tracts2010.csv',\n",
    "                           secondary_input='data/DEST/health_chicago.csv', \n",
    "                           write_to_file=True)\n",
    "\n",
    "w_asym_mat.process()\n",
    "\n",
    "#The output is walk_asym_health_tracts.csv (used in the calculation of the metrics)"
   ]
  },
  {
   "cell_type": "code",
   "execution_count": 2,
   "metadata": {
    "code_folding": []
   },
   "outputs": [
    {
     "name": "stderr",
     "output_type": "stream",
     "text": [
      "INFO:p2p:Processing network (drive) in format: csv with epsilon: 0.05\n"
     ]
    },
    {
     "name": "stdout",
     "output_type": "stream",
     "text": [
      "The variables in your data set are:\n",
      ">  geoid10\n",
      ">  lon\n",
      ">  lat\n",
      ">  Pop2014\n",
      ">  Pov14\n",
      ">  community\n"
     ]
    },
    {
     "name": "stderr",
     "output_type": "stream",
     "text": [
      "INFO:p2p:Total number of rows in the dataset: 801\n",
      "INFO:p2p:Complete number of rows for computing the matrix: 801\n",
      "INFO:p2p:Total number of rows dropped due to missing latitude or longitude values: 0\n"
     ]
    },
    {
     "name": "stdout",
     "output_type": "stream",
     "text": [
      "The variables in your data set are:\n",
      ">  agency_id\n",
      ">  facility\n",
      ">  lat\n",
      ">  lon\n",
      ">  cat_num\n",
      ">  target\n",
      ">  category\n"
     ]
    },
    {
     "name": "stderr",
     "output_type": "stream",
     "text": [
      "INFO:p2p:Total number of rows in the dataset: 199\n",
      "INFO:p2p:Complete number of rows for computing the matrix: 199\n",
      "INFO:p2p:Total number of rows dropped due to missing latitude or longitude values: 0\n"
     ]
    },
    {
     "name": "stdout",
     "output_type": "stream",
     "text": [
      "The variable names in your speed limit data set are:\n",
      ">  Unnamed: 0\n",
      ">  FULLSTNA\n",
      ">  SPDLIMIT\n"
     ]
    },
    {
     "name": "stderr",
     "output_type": "stream",
     "text": [
      "INFO:osmnet:Requesting network data within bounding box from Overpass API in 1 request(s)\n",
      "INFO:osmnet:Posting to http://www.overpass-api.de/api/interpreter with timeout=180, \"{'data': '[out:json][timeout:180];(way[\"highway\"][\"highway\"!~\"cycleway|footway|path|pedestrian|steps|track|proposed|construction|bridleway|abandoned|platform|raceway|service\"][\"motor_vehicle\"!~\"no\"][\"motorcar\"!~\"no\"][\"service\"!~\"parking|parking_aisle|driveway|emergency_access\"](41.55758000,-87.85448850,42.11430300,-87.58049640);>;);out;'}\"\n"
     ]
    },
    {
     "name": "stdout",
     "output_type": "stream",
     "text": [
      "Requesting network data within bounding box from Overpass API in 1 request(s)\n",
      "Posting to http://www.overpass-api.de/api/interpreter with timeout=180, \"{'data': '[out:json][timeout:180];(way[\"highway\"][\"highway\"!~\"cycleway|footway|path|pedestrian|steps|track|proposed|construction|bridleway|abandoned|platform|raceway|service\"][\"motor_vehicle\"!~\"no\"][\"motorcar\"!~\"no\"][\"service\"!~\"parking|parking_aisle|driveway|emergency_access\"](41.55758000,-87.85448850,42.11430300,-87.58049640);>;);out;'}\"\n"
     ]
    },
    {
     "name": "stderr",
     "output_type": "stream",
     "text": [
      "INFO:osmnet:Downloaded 37,481.3KB from www.overpass-api.de in 7.18 seconds\n",
      "INFO:osmnet:Downloaded OSM network data within bounding box from Overpass API in 1 request(s) and 7.78 seconds\n"
     ]
    },
    {
     "name": "stdout",
     "output_type": "stream",
     "text": [
      "Downloaded 37,481.3KB from www.overpass-api.de in 7.18 seconds\n",
      "Downloaded OSM network data within bounding box from Overpass API in 1 request(s) and 7.78 seconds\n"
     ]
    },
    {
     "name": "stderr",
     "output_type": "stream",
     "text": [
      "INFO:osmnet:Returning OSM data with 194,268 nodes and 43,369 ways...\n"
     ]
    },
    {
     "name": "stdout",
     "output_type": "stream",
     "text": [
      "Returning OSM data with 194,268 nodes and 43,369 ways...\n"
     ]
    },
    {
     "name": "stderr",
     "output_type": "stream",
     "text": [
      "INFO:osmnet:Edge node pairs completed. Took 50.80 seconds\n",
      "INFO:osmnet:Returning processed graph with 63,841 nodes and 97,483 edges...\n",
      "INFO:osmnet:Completed OSM data download and Pandana node and edge table creation in 64.15 seconds\n"
     ]
    },
    {
     "name": "stdout",
     "output_type": "stream",
     "text": [
      "Edge node pairs completed. Took 50.80 seconds\n",
      "Returning processed graph with 63,841 nodes and 97,483 edges...\n",
      "Completed OSM data download and Pandana node and edge table creation in 64.15 seconds\n"
     ]
    },
    {
     "name": "stderr",
     "output_type": "stream",
     "text": [
      "INFO:p2p:Matching street network completed in \n",
      "            12.23 seconds: 5150 perfect matches, 136 near perfect matches,\n",
      "            748 good matches and 113 non matches\n",
      "INFO:p2p:Prepared raw network in 0.41 seconds and wrote to: data/matrices/raw_network_0.csv\n",
      "/Users/irene/Downloads/access/travel_times/scripts/p2p.py:643: FutureWarning: Method .as_matrix will be removed in a future version. Use .values instead.\n",
      "  node_array = pd.DataFrame.as_matrix(nodes)\n",
      "INFO:p2p:Nearest Neighbor matching completed in 0.24 seconds\n",
      "INFO:p2p:Nearest Neighbor matching completed in 0.07 seconds\n",
      "INFO:p2p:Writing to file: data/matrices/drive_full_results_0.csv\n",
      "INFO:p2p:Shortest path matrix computed in 1.47 seconds\n",
      "INFO:p2p:All operations completed in 78.58 seconds\n"
     ]
    },
    {
     "name": "stdout",
     "output_type": "stream",
     "text": [
      "Cleaned up calculation artifacts\n"
     ]
    }
   ],
   "source": [
    "# Calculate asymmetric distance matrix for driving (takes ~1.5 minutes to run) \n",
    "\n",
    "d_asym_mat = TransitMatrix(network_type='drive',\n",
    "                           primary_input='data/ORIG/tracts2010.csv',\n",
    "                           secondary_input='data/DEST/health_chicago.csv', \n",
    "                           write_to_file=True)\n",
    "\n",
    "d_asym_mat.process(speed_limit_filename='data/speed_limit.csv')\n",
    "\n",
    "#The output is drive_asym_health_tracts.csv (used in the calculation of the metrics)"
   ]
  },
  {
   "cell_type": "markdown",
   "metadata": {},
   "source": [
    "\n",
    "### Model 2: Symmetric Matrix \n",
    "---\n",
    "The second model creates a symmetric distance travel matrix from block to block (801 x 801 matrix). Then, we snap the destination points to the area of analysis (blocks), getting a matrix that calculates the distance between the destinations and every block in the dataset. \n"
   ]
  },
  {
   "cell_type": "code",
   "execution_count": 3,
   "metadata": {
    "code_folding": []
   },
   "outputs": [
    {
     "name": "stderr",
     "output_type": "stream",
     "text": [
      "INFO:p2p:Processing network (walk) in format: csv with epsilon: 0.05\n"
     ]
    },
    {
     "name": "stdout",
     "output_type": "stream",
     "text": [
      "The variables in your data set are:\n",
      ">  geoid10\n",
      ">  lon\n",
      ">  lat\n",
      ">  Pop2014\n",
      ">  Pov14\n",
      ">  community\n"
     ]
    },
    {
     "name": "stderr",
     "output_type": "stream",
     "text": [
      "INFO:p2p:Total number of rows in the dataset: 801\n",
      "INFO:p2p:Complete number of rows for computing the matrix: 801\n",
      "INFO:p2p:Total number of rows dropped due to missing latitude or longitude values: 0\n",
      "INFO:osmnet:Requesting network data within bounding box from Overpass API in 1 request(s)\n",
      "INFO:osmnet:Posting to http://www.overpass-api.de/api/interpreter with timeout=180, \"{'data': '[out:json][timeout:180];(way[\"highway\"][\"highway\"!~\"motor|proposed|construction|abandoned|platform|raceway\"][\"foot\"!~\"no\"][\"pedestrians\"!~\"no\"](41.60021990,-87.85448850,42.07126140,-87.58049640);>;);out;'}\"\n"
     ]
    },
    {
     "name": "stdout",
     "output_type": "stream",
     "text": [
      "Requesting network data within bounding box from Overpass API in 1 request(s)\n",
      "Posting to http://www.overpass-api.de/api/interpreter with timeout=180, \"{'data': '[out:json][timeout:180];(way[\"highway\"][\"highway\"!~\"motor|proposed|construction|abandoned|platform|raceway\"][\"foot\"!~\"no\"][\"pedestrians\"!~\"no\"](41.60021990,-87.85448850,42.07126140,-87.58049640);>;);out;'}\"\n"
     ]
    },
    {
     "name": "stderr",
     "output_type": "stream",
     "text": [
      "ERROR:p2p:Error trying to download OSM network. \n",
      "            Did you reverse lat/long? \n",
      "            Is your network connection functional?\n",
      "            \n"
     ]
    },
    {
     "ename": "SystemExit",
     "evalue": "",
     "output_type": "error",
     "traceback": [
      "An exception has occurred, use %tb to see the full traceback.\n",
      "\u001b[0;31mSystemExit\u001b[0m\n"
     ]
    },
    {
     "name": "stderr",
     "output_type": "stream",
     "text": [
      "/usr/local/lib/python3.6/site-packages/IPython/core/interactiveshell.py:2971: UserWarning: To exit: use 'exit', 'quit', or Ctrl-D.\n",
      "  warn(\"To exit: use 'exit', 'quit', or Ctrl-D.\", stacklevel=1)\n"
     ]
    }
   ],
   "source": [
    "# Specify walking distance matrix (takes ~3 min to run) \n",
    "w_sym_mat = TransitMatrix(network_type='walk',\n",
    "                          primary_input='data/ORIG/tracts2010.csv',\n",
    "                          write_to_file=True,\n",
    "                          load_to_mem=True)\n",
    "\n",
    "# Run process\n",
    "w_sym_mat.process()\n",
    "\n",
    "# Saved as walk_sym_health_tracts.csv"
   ]
  },
  {
   "cell_type": "code",
   "execution_count": 5,
   "metadata": {
    "code_folding": [
     0
    ],
    "collapsed": true
   },
   "outputs": [
    {
     "name": "stderr",
     "output_type": "stream",
     "text": [
      "INFO:p2p:Processing network (drive) in format: csv with epsilon: 0.05\n"
     ]
    },
    {
     "name": "stdout",
     "output_type": "stream",
     "text": [
      "The variables in your data set are:\n",
      ">  geoid10\n",
      ">  lon\n",
      ">  lat\n",
      ">  Pop2014\n",
      ">  Pov14\n",
      ">  community\n"
     ]
    },
    {
     "name": "stderr",
     "output_type": "stream",
     "text": [
      "INFO:p2p:Total number of rows in the dataset: 801\n",
      "INFO:p2p:Complete number of rows for computing the matrix: 801\n",
      "INFO:p2p:Total number of rows dropped due to missing latitude or longitude values: 0\n"
     ]
    },
    {
     "name": "stdout",
     "output_type": "stream",
     "text": [
      "The variable names in your speed limit data set are:\n",
      ">  Unnamed: 0\n",
      ">  FULLSTNA\n",
      ">  SPDLIMIT\n"
     ]
    },
    {
     "name": "stderr",
     "output_type": "stream",
     "text": [
      "INFO:osmnet:Requesting network data within bounding box from Overpass API in 1 request(s)\n",
      "INFO:osmnet:Posting to http://www.overpass-api.de/api/interpreter with timeout=180, \"{'data': '[out:json][timeout:180];(way[\"highway\"][\"highway\"!~\"cycleway|footway|path|pedestrian|steps|track|proposed|construction|bridleway|abandoned|platform|raceway|service\"][\"motor_vehicle\"!~\"no\"][\"motorcar\"!~\"no\"][\"service\"!~\"parking|parking_aisle|driveway|emergency_access\"](41.60021990,-87.85448850,42.07126140,-87.58049640);>;);out;'}\"\n"
     ]
    },
    {
     "name": "stdout",
     "output_type": "stream",
     "text": [
      "Requesting network data within bounding box from Overpass API in 1 request(s)\n",
      "Posting to http://www.overpass-api.de/api/interpreter with timeout=180, \"{'data': '[out:json][timeout:180];(way[\"highway\"][\"highway\"!~\"cycleway|footway|path|pedestrian|steps|track|proposed|construction|bridleway|abandoned|platform|raceway|service\"][\"motor_vehicle\"!~\"no\"][\"motorcar\"!~\"no\"][\"service\"!~\"parking|parking_aisle|driveway|emergency_access\"](41.60021990,-87.85448850,42.07126140,-87.58049640);>;);out;'}\"\n"
     ]
    },
    {
     "name": "stderr",
     "output_type": "stream",
     "text": [
      "INFO:osmnet:Downloaded 33,501.4KB from www.overpass-api.de in 7.87 seconds\n",
      "INFO:osmnet:Downloaded OSM network data within bounding box from Overpass API in 1 request(s) and 8.25 seconds\n"
     ]
    },
    {
     "name": "stdout",
     "output_type": "stream",
     "text": [
      "Downloaded 33,501.4KB from www.overpass-api.de in 7.87 seconds\n",
      "Downloaded OSM network data within bounding box from Overpass API in 1 request(s) and 8.25 seconds\n"
     ]
    },
    {
     "name": "stderr",
     "output_type": "stream",
     "text": [
      "INFO:osmnet:Returning OSM data with 170,563 nodes and 38,972 ways...\n"
     ]
    },
    {
     "name": "stdout",
     "output_type": "stream",
     "text": [
      "Returning OSM data with 170,563 nodes and 38,972 ways...\n"
     ]
    },
    {
     "name": "stderr",
     "output_type": "stream",
     "text": [
      "INFO:osmnet:Edge node pairs completed. Took 46.40 seconds\n",
      "INFO:osmnet:Returning processed graph with 57,572 nodes and 88,601 edges...\n",
      "INFO:osmnet:Completed OSM data download and Pandana node and edge table creation in 59.66 seconds\n"
     ]
    },
    {
     "name": "stdout",
     "output_type": "stream",
     "text": [
      "Edge node pairs completed. Took 46.40 seconds\n",
      "Returning processed graph with 57,572 nodes and 88,601 edges...\n",
      "Completed OSM data download and Pandana node and edge table creation in 59.66 seconds\n"
     ]
    },
    {
     "name": "stderr",
     "output_type": "stream",
     "text": [
      "INFO:p2p:Matching street network completed in \n",
      "            10.65 seconds: 4121 perfect matches, 118 near perfect matches,\n",
      "            649 good matches and 99 non matches\n",
      "INFO:p2p:Prepared raw network in 0.37 seconds and wrote to: data/raw_network_0.csv\n",
      "/Users/irene/Downloads/access/travel_times/scripts/p2p.py:643: FutureWarning: Method .as_matrix will be removed in a future version. Use .values instead.\n",
      "  node_array = pd.DataFrame.as_matrix(nodes)\n",
      "INFO:p2p:Nearest Neighbor matching completed in 0.24 seconds\n",
      "INFO:p2p:Writing to file: data/drive_full_results_0.csv\n",
      "INFO:p2p:Shortest path matrix computed in 1.27 seconds\n",
      "INFO:p2p:All operations completed in 72.20 seconds\n"
     ]
    },
    {
     "name": "stdout",
     "output_type": "stream",
     "text": [
      "Cleaned up calculation artifacts\n"
     ]
    }
   ],
   "source": [
    "# Specify driving distance matrix (takes ~1.5 minute to run) \n",
    "d_sym_mat = TransitMatrix(network_type='drive',\n",
    "                          primary_input='data/ORIG/tracts2010.csv',\n",
    "                          write_to_file=True,\n",
    "                          load_to_mem=True)\n",
    "\n",
    "# Run process. For driving, p2p queries OSM to fetch the street network and then output the shortest path transit matrix\n",
    "d_sym_mat.process(speed_limit_filename='data/speed_limit.csv')\n",
    "\n",
    "# Saved as drive_sym_health_tracts.csv"
   ]
  },
  {
   "cell_type": "markdown",
   "metadata": {},
   "source": [
    "Now, snap the points to the units of analysis. However, snapping the destination points is not always so straightforward. Deciding which points (laying on the network) are assigned to each area of analysis may be arbitrary; therefore, it is important to scrutinize the structure of the data before doing any further processing. If the destinations fall within the unit of analysis, the best option is to run a within function that incorporates the destinations to the unit of analysis and then doing a join with the area IDs.\n",
    "The following image shows that in this case, we can safely run a function that assigns each point to the area of analysis of interest. "
   ]
  },
  {
   "cell_type": "markdown",
   "metadata": {},
   "source": [
    "<img src=\"scripts/data/figures/snap.png\" width=\"500\" title=\"Optional title\">"
   ]
  },
  {
   "cell_type": "markdown",
   "metadata": {},
   "source": [
    "**Spatial join of health facilities and area of analysis**\n",
    "\n",
    "Finally, in order to get the matrix of origins to destinations, we need to join the health facilities by block with the distance matrix previously generated. This will generate an asymmetric matrix with all the distances from destinations to all the units of analysis in Chicago."
   ]
  },
  {
   "cell_type": "code",
   "execution_count": 25,
   "metadata": {
    "code_folding": [
     0
    ],
    "collapsed": true
   },
   "outputs": [],
   "source": [
    "# Read destination files to join with boundaries \n",
    "health_gdf = gpd.read_file('data/DEST/health_chicago.shp')\n",
    "health_gdf.head()\n",
    "#Use symmetric matrix calculated above or read your previously saved results:\n",
    "sym_walk=pd.read_csv('data/matrices/walk_sym_health_tracts.csv')\n",
    "\n",
    "# Read boundaries files \n",
    "boundaries_gdf = gpd.read_file('data/ORIG/tracts2010.shp')\n",
    "\n",
    "# Rename the ID name in order to match both data frames. \n",
    "sym_walk= sym_walk.rename(index=str, columns={\"Unnamed: 0\": \"geoid10\"})\n",
    "\n",
    "# Spatial join of amenities within each area of analysis \n",
    "#It drops values outside of the tracts shapefile. From 199 to 182 datapoints.\n",
    "s_join = gpd.sjoin(health_gdf, boundaries_gdf, how='inner', op='within')\n",
    "\n",
    "# Convert geopanda dataframe to non-spatial dataframe to join \n",
    "jb_df = pd.DataFrame(s_join)\n",
    "\n",
    "# Make sure the id is of the same data type in both data frames.\n",
    "# sym_walk.dtypes\n",
    "# jb_df.dtypes\n",
    "jb_df.geoid10=jb_df.geoid10.astype(int)\n",
    "jb_df=pd.DataFrame(jb_df['geoid10'])\n",
    "\n",
    "# Join the symmetric matrix with the spatially joined data (with geoid10 id)\n",
    "j_asym=pd.merge(sym_walk, jb_df, left_on='geoid10', right_on='geoid10', how='right')\n",
    "\n",
    "j_asym.to_csv('data/matrices/walk_asym_health_tracts_join.csv')"
   ]
  },
  {
   "cell_type": "code",
   "execution_count": 26,
   "metadata": {},
   "outputs": [
    {
     "data": {
      "text/html": [
       "<div>\n",
       "<style scoped>\n",
       "    .dataframe tbody tr th:only-of-type {\n",
       "        vertical-align: middle;\n",
       "    }\n",
       "\n",
       "    .dataframe tbody tr th {\n",
       "        vertical-align: top;\n",
       "    }\n",
       "\n",
       "    .dataframe thead th {\n",
       "        text-align: right;\n",
       "    }\n",
       "</style>\n",
       "<table border=\"1\" class=\"dataframe\">\n",
       "  <thead>\n",
       "    <tr style=\"text-align: right;\">\n",
       "      <th></th>\n",
       "      <th>geoid10</th>\n",
       "      <th>17031842400</th>\n",
       "      <th>17031840300</th>\n",
       "      <th>17031841100</th>\n",
       "      <th>17031841200</th>\n",
       "      <th>17031838200</th>\n",
       "      <th>17031650301</th>\n",
       "      <th>17031530503</th>\n",
       "      <th>17031760803</th>\n",
       "      <th>17031540102</th>\n",
       "      <th>...</th>\n",
       "      <th>17031620100</th>\n",
       "      <th>17031620200</th>\n",
       "      <th>17031070200</th>\n",
       "      <th>17031070400</th>\n",
       "      <th>17031070500</th>\n",
       "      <th>17031071000</th>\n",
       "      <th>17031071200</th>\n",
       "      <th>17031130300</th>\n",
       "      <th>17031292200</th>\n",
       "      <th>17031630900</th>\n",
       "    </tr>\n",
       "  </thead>\n",
       "  <tbody>\n",
       "    <tr>\n",
       "      <th>0</th>\n",
       "      <td>17031031501</td>\n",
       "      <td>18586</td>\n",
       "      <td>12034</td>\n",
       "      <td>9778</td>\n",
       "      <td>10187</td>\n",
       "      <td>8879</td>\n",
       "      <td>17799</td>\n",
       "      <td>24351</td>\n",
       "      <td>11661</td>\n",
       "      <td>25486</td>\n",
       "      <td>...</td>\n",
       "      <td>15606</td>\n",
       "      <td>16228</td>\n",
       "      <td>3343</td>\n",
       "      <td>3331</td>\n",
       "      <td>3596</td>\n",
       "      <td>3934</td>\n",
       "      <td>3862</td>\n",
       "      <td>4856</td>\n",
       "      <td>11392</td>\n",
       "      <td>16023</td>\n",
       "    </tr>\n",
       "    <tr>\n",
       "      <th>1</th>\n",
       "      <td>17031031502</td>\n",
       "      <td>18246</td>\n",
       "      <td>11694</td>\n",
       "      <td>9438</td>\n",
       "      <td>9847</td>\n",
       "      <td>8539</td>\n",
       "      <td>17459</td>\n",
       "      <td>24011</td>\n",
       "      <td>11793</td>\n",
       "      <td>25272</td>\n",
       "      <td>...</td>\n",
       "      <td>15266</td>\n",
       "      <td>15888</td>\n",
       "      <td>3003</td>\n",
       "      <td>2996</td>\n",
       "      <td>3261</td>\n",
       "      <td>3599</td>\n",
       "      <td>3522</td>\n",
       "      <td>4988</td>\n",
       "      <td>11052</td>\n",
       "      <td>15683</td>\n",
       "    </tr>\n",
       "    <tr>\n",
       "      <th>2</th>\n",
       "      <td>17031031800</td>\n",
       "      <td>18898</td>\n",
       "      <td>11352</td>\n",
       "      <td>10090</td>\n",
       "      <td>9505</td>\n",
       "      <td>8197</td>\n",
       "      <td>17117</td>\n",
       "      <td>24601</td>\n",
       "      <td>10601</td>\n",
       "      <td>25953</td>\n",
       "      <td>...</td>\n",
       "      <td>14924</td>\n",
       "      <td>15546</td>\n",
       "      <td>3655</td>\n",
       "      <td>3415</td>\n",
       "      <td>3331</td>\n",
       "      <td>4052</td>\n",
       "      <td>4174</td>\n",
       "      <td>3796</td>\n",
       "      <td>10710</td>\n",
       "      <td>15341</td>\n",
       "    </tr>\n",
       "    <tr>\n",
       "      <th>3</th>\n",
       "      <td>17031063400</td>\n",
       "      <td>15827</td>\n",
       "      <td>9560</td>\n",
       "      <td>7019</td>\n",
       "      <td>7713</td>\n",
       "      <td>6405</td>\n",
       "      <td>15325</td>\n",
       "      <td>21877</td>\n",
       "      <td>13006</td>\n",
       "      <td>22882</td>\n",
       "      <td>...</td>\n",
       "      <td>13132</td>\n",
       "      <td>13754</td>\n",
       "      <td>689</td>\n",
       "      <td>1095</td>\n",
       "      <td>1402</td>\n",
       "      <td>1679</td>\n",
       "      <td>1335</td>\n",
       "      <td>6713</td>\n",
       "      <td>8918</td>\n",
       "      <td>13549</td>\n",
       "    </tr>\n",
       "    <tr>\n",
       "      <th>4</th>\n",
       "      <td>17031031300</td>\n",
       "      <td>19002</td>\n",
       "      <td>12564</td>\n",
       "      <td>10194</td>\n",
       "      <td>10717</td>\n",
       "      <td>9409</td>\n",
       "      <td>18329</td>\n",
       "      <td>24881</td>\n",
       "      <td>11930</td>\n",
       "      <td>25861</td>\n",
       "      <td>...</td>\n",
       "      <td>16136</td>\n",
       "      <td>16758</td>\n",
       "      <td>3873</td>\n",
       "      <td>4042</td>\n",
       "      <td>4307</td>\n",
       "      <td>4645</td>\n",
       "      <td>4392</td>\n",
       "      <td>4797</td>\n",
       "      <td>11922</td>\n",
       "      <td>16553</td>\n",
       "    </tr>\n",
       "  </tbody>\n",
       "</table>\n",
       "<p>5 rows × 802 columns</p>\n",
       "</div>"
      ],
      "text/plain": [
       "       geoid10  17031842400  17031840300  17031841100  17031841200  \\\n",
       "0  17031031501        18586        12034         9778        10187   \n",
       "1  17031031502        18246        11694         9438         9847   \n",
       "2  17031031800        18898        11352        10090         9505   \n",
       "3  17031063400        15827         9560         7019         7713   \n",
       "4  17031031300        19002        12564        10194        10717   \n",
       "\n",
       "   17031838200  17031650301  17031530503  17031760803  17031540102  \\\n",
       "0         8879        17799        24351        11661        25486   \n",
       "1         8539        17459        24011        11793        25272   \n",
       "2         8197        17117        24601        10601        25953   \n",
       "3         6405        15325        21877        13006        22882   \n",
       "4         9409        18329        24881        11930        25861   \n",
       "\n",
       "      ...       17031620100  17031620200  17031070200  17031070400  \\\n",
       "0     ...             15606        16228         3343         3331   \n",
       "1     ...             15266        15888         3003         2996   \n",
       "2     ...             14924        15546         3655         3415   \n",
       "3     ...             13132        13754          689         1095   \n",
       "4     ...             16136        16758         3873         4042   \n",
       "\n",
       "   17031070500  17031071000  17031071200  17031130300  17031292200  \\\n",
       "0         3596         3934         3862         4856        11392   \n",
       "1         3261         3599         3522         4988        11052   \n",
       "2         3331         4052         4174         3796        10710   \n",
       "3         1402         1679         1335         6713         8918   \n",
       "4         4307         4645         4392         4797        11922   \n",
       "\n",
       "   17031630900  \n",
       "0        16023  \n",
       "1        15683  \n",
       "2        15341  \n",
       "3        13549  \n",
       "4        16553  \n",
       "\n",
       "[5 rows x 802 columns]"
      ]
     },
     "execution_count": 26,
     "metadata": {},
     "output_type": "execute_result"
    }
   ],
   "source": [
    "#Check the output is correct\n",
    "j_asym.head()"
   ]
  },
  {
   "cell_type": "code",
   "execution_count": 31,
   "metadata": {},
   "outputs": [
    {
     "data": {
      "text/plain": [
       "(182, 802)"
      ]
     },
     "execution_count": 31,
     "metadata": {},
     "output_type": "execute_result"
    }
   ],
   "source": [
    "j_asym.shape"
   ]
  },
  {
   "cell_type": "markdown",
   "metadata": {},
   "source": [
    "Now that the user has the origin destination matrices, we can proceed to estimate metrics. For this demo's purpose, we will use only drive_asym_health_tracts.csv and walk_asym_health_tracts.csv to run the metrics."
   ]
  },
  {
   "cell_type": "code",
   "execution_count": null,
   "metadata": {},
   "outputs": [],
   "source": []
  }
 ],
 "metadata": {
  "kernelspec": {
   "display_name": "Python 3",
   "language": "python",
   "name": "python3"
  },
  "language_info": {
   "codemirror_mode": {
    "name": "ipython",
    "version": 3
   },
   "file_extension": ".py",
   "mimetype": "text/x-python",
   "name": "python",
   "nbconvert_exporter": "python",
   "pygments_lexer": "ipython3",
   "version": "3.6.4"
  }
 },
 "nbformat": 4,
 "nbformat_minor": 2
}
