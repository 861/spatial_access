{
 "cells": [
  {
   "cell_type": "markdown",
   "metadata": {},
   "source": [
    "# Access Scores"
   ]
  },
  {
   "cell_type": "markdown",
   "metadata": {},
   "source": [
    "## Calculating the Access Score\n",
    "---\n",
    "In the following lines, first the _total access score_ will be estimated followed by an example of the _aggregation_ of the data. Finally, the score will be calculated for a _subset_ of the data (where one or several categories is selected).\n",
    "\n",
    "**Specifications for the Access Model:**  \n",
    "\n",
    "**name.AccessModel( ):**  \n",
    "- network_type ('drive' or 'walk')\n",
    "- source_filename (primary input data) \n",
    "- dest_filename (secondary input data)  \n",
    "- sp_matrix_filename (origin-destination travel time matrix)    \n",
    "- decay_function ('linear', 'root', 'logit')  \n",
    "- limit_categories (only estimate model for specific categories)\n",
    "\n",
    "**name.calculate():**\n",
    "- custom_weight_dict (Specifies the weights of each facility/establishment defined as a previously generated dictionary. If custom_weight_dict=None, the dictionary will contain [1,1,1,1,1,1,1,1,1,1] weights.)\n",
    "- largest_weights_first=True sorts the weight array such that the largest values will be used first. If False, it will do the opposite.\n",
    "- limit_categories (None is defined as default, but user can delimit on particular categories of interest to calculate the access score.)  \n",
    "- upper (is the time (in minutes) in which the origin and destinations are considered to be out of range of each other. As a default, if the travel time distance exceeds 30 minutes, the score will be zero.)\n",
    "- custom_threshold=40 (change binning threshold specifying it in calculate() function. Example: model_name.calculate(custom_threshold=40) for changing the percent of population above a certain threshold.)\n",
    "- normalize (Default is True and shows both normalized and non-normalized values. False shows only non-normalized results.)  \n",
    "\n",
    "\n",
    "Functions within the Access Model class (use as name.function()):  \n",
    "- calculate () \n",
    "- get_aggregate (aggregate_type) Aggregation can be by ('access') score for the lower aral unit. If the user wants to modify the level of aggregation, change 'community' with other spatial unit of analysis in code.  \n",
    "- write_aggregate (aggregate_type, filename='name')\n",
    "- plot_cdf  (title='CDF Access Score')\n",
    "- write_csv (filename='name') \n",
    "\n",
    "In the **scripts**, the user can specify:  The default weights set before as [1,1,1,1,1,1,1,1,1,1] weights, different standarizations, and other modifications to the access score.  \n",
    "\n",
    "Dictionary weights should be set as the following example:  \n",
    "**dict = {  \n",
    "\"Hospitals\": [10,10,10,10,10],  \n",
    "\"Federally Qualified Health Centers\": [8, 7, 6, 5, 4],  \n",
    "\"School-Based Health Centers\": [7, 7, 6, 6, 5],  \n",
    "\"All Free Health Clinics\": [5, 5, 5, 4, 4],  \n",
    "\"Other Health Providers\": [4,3,2,1,1]  \n",
    "}**"
   ]
  },
  {
   "cell_type": "code",
   "execution_count": 1,
   "metadata": {},
   "outputs": [],
   "source": [
    "import sys, os\n",
    "os.chdir('scripts')\n",
    "\n",
    "from CommunityAnalytics import *\n",
    "\n",
    "%matplotlib inline"
   ]
  },
  {
   "cell_type": "code",
   "execution_count": 32,
   "metadata": {},
   "outputs": [
    {
     "name": "stdout",
     "output_type": "stream",
     "text": [
      "The variables in your data set are:\n",
      ">  geoid10\n",
      ">  lon\n",
      ">  lat\n",
      ">  Pop2014\n",
      ">  Pov14\n",
      ">  community\n",
      "If you have no population variable, write \"skip\" (no quotations)\n",
      "If you have no lower areal unit variable, write \"skip\" (no quotations)\n",
      "The variables in your data set are:\n",
      ">  ID\n",
      ">  Facility\n",
      ">  lat\n",
      ">  lon\n",
      ">  Type\n",
      ">  target\n",
      ">  category\n",
      ">  community\n",
      "If you have no target variable, write \"skip\" (no quotations)\n",
      "If you have no lower areal unit variable, write \"skip\" (no quotations)\n",
      "If you have no category variable, write \"skip\" (no quotations)\n"
     ]
    },
    {
     "name": "stderr",
     "output_type": "stream",
     "text": [
      "INFO:ScoreModel:Loaded sp matrix from file: data/matrices/walk_asym_health_tracts.csv\n",
      "INFO:ScoreModel:Finished loading sp_matrix in 0.14 seconds\n",
      "INFO:ScoreModel:Processing... This could take a while\n",
      "INFO:ScoreModel:Finished processing ModelData in 0.12 seconds\n"
     ]
    }
   ],
   "source": [
    "#the last already generated a shortest path matrix, so we can reuse that instead of regenerating it.\n",
    "#Specify the distance decay function here.\n",
    "\n",
    "access = AccessModel(network_type='walk',\n",
    "                     sp_matrix_filename='data/matrices/walk_asym_health_tracts.csv',\n",
    "                     source_filename='data/ORIG/tracts2010.csv',\n",
    "                     dest_filename='data/DEST/health_chicago.csv',\n",
    "                     decay_function='logit')"
   ]
  },
  {
   "cell_type": "code",
   "execution_count": 33,
   "metadata": {},
   "outputs": [],
   "source": [
    "#Example of density and variety weights:\n",
    "dict = {\n",
    "\"Hospitals\": [10,10,10,10,10],\n",
    "\"Federally Qualified Health Centers\": [8, 7, 6, 5, 4],\n",
    "\"School-Based Health Centers\": [7, 7, 6, 6, 5],\n",
    "\"All Free Health Clinics\": [5, 5, 5, 4, 4],\n",
    "\"Other Health Providers\": [4, 3, 2, 1, 1]\n",
    "}"
   ]
  },
  {
   "cell_type": "code",
   "execution_count": 34,
   "metadata": {},
   "outputs": [
    {
     "name": "stderr",
     "output_type": "stream",
     "text": [
      "INFO:ScoreModel:Finished calculating hssa in 0.04 seconds\n"
     ]
    }
   ],
   "source": [
    "access.calculate(custom_threshold=40,\n",
    "                 normalize=True,\n",
    "                 custom_weight_dict=dict,\n",
    "                 largest_weights_first=True)"
   ]
  },
  {
   "cell_type": "code",
   "execution_count": 35,
   "metadata": {},
   "outputs": [
    {
     "data": {
      "text/html": [
       "<div>\n",
       "<style scoped>\n",
       "    .dataframe tbody tr th:only-of-type {\n",
       "        vertical-align: middle;\n",
       "    }\n",
       "\n",
       "    .dataframe tbody tr th {\n",
       "        vertical-align: top;\n",
       "    }\n",
       "\n",
       "    .dataframe thead th {\n",
       "        text-align: right;\n",
       "    }\n",
       "</style>\n",
       "<table border=\"1\" class=\"dataframe\">\n",
       "  <thead>\n",
       "    <tr style=\"text-align: right;\">\n",
       "      <th></th>\n",
       "      <th>lat</th>\n",
       "      <th>lon</th>\n",
       "      <th>population</th>\n",
       "      <th>lower_areal_unit</th>\n",
       "      <th>access</th>\n",
       "      <th>access_cat</th>\n",
       "      <th>access_sd</th>\n",
       "    </tr>\n",
       "    <tr>\n",
       "      <th>geoid10</th>\n",
       "      <th></th>\n",
       "      <th></th>\n",
       "      <th></th>\n",
       "      <th></th>\n",
       "      <th></th>\n",
       "      <th></th>\n",
       "      <th></th>\n",
       "    </tr>\n",
       "  </thead>\n",
       "  <tbody>\n",
       "    <tr>\n",
       "      <th>17031842400</th>\n",
       "      <td>41.742475</td>\n",
       "      <td>-87.630040</td>\n",
       "      <td>5157.0</td>\n",
       "      <td>44.0</td>\n",
       "      <td>0.054373</td>\n",
       "      <td>7.0</td>\n",
       "      <td>0.126241</td>\n",
       "    </tr>\n",
       "    <tr>\n",
       "      <th>17031840300</th>\n",
       "      <td>41.832094</td>\n",
       "      <td>-87.681882</td>\n",
       "      <td>5881.0</td>\n",
       "      <td>59.0</td>\n",
       "      <td>6.551565</td>\n",
       "      <td>22.0</td>\n",
       "      <td>15.211203</td>\n",
       "    </tr>\n",
       "    <tr>\n",
       "      <th>17031841100</th>\n",
       "      <td>41.851006</td>\n",
       "      <td>-87.635098</td>\n",
       "      <td>3363.0</td>\n",
       "      <td>34.0</td>\n",
       "      <td>9.284239</td>\n",
       "      <td>44.0</td>\n",
       "      <td>21.555834</td>\n",
       "    </tr>\n",
       "    <tr>\n",
       "      <th>17031841200</th>\n",
       "      <td>41.855562</td>\n",
       "      <td>-87.683342</td>\n",
       "      <td>3710.0</td>\n",
       "      <td>31.0</td>\n",
       "      <td>20.034265</td>\n",
       "      <td>96.0</td>\n",
       "      <td>46.514881</td>\n",
       "    </tr>\n",
       "    <tr>\n",
       "      <th>17031838200</th>\n",
       "      <td>41.870416</td>\n",
       "      <td>-87.675079</td>\n",
       "      <td>3296.0</td>\n",
       "      <td>28.0</td>\n",
       "      <td>40.359906</td>\n",
       "      <td>111.0</td>\n",
       "      <td>93.706271</td>\n",
       "    </tr>\n",
       "  </tbody>\n",
       "</table>\n",
       "</div>"
      ],
      "text/plain": [
       "                   lat        lon  population  lower_areal_unit     access  \\\n",
       "geoid10                                                                      \n",
       "17031842400  41.742475 -87.630040      5157.0              44.0   0.054373   \n",
       "17031840300  41.832094 -87.681882      5881.0              59.0   6.551565   \n",
       "17031841100  41.851006 -87.635098      3363.0              34.0   9.284239   \n",
       "17031841200  41.855562 -87.683342      3710.0              31.0  20.034265   \n",
       "17031838200  41.870416 -87.675079      3296.0              28.0  40.359906   \n",
       "\n",
       "             access_cat  access_sd  \n",
       "geoid10                             \n",
       "17031842400         7.0   0.126241  \n",
       "17031840300        22.0  15.211203  \n",
       "17031841100        44.0  21.555834  \n",
       "17031841200        96.0  46.514881  \n",
       "17031838200       111.0  93.706271  "
      ]
     },
     "execution_count": 35,
     "metadata": {},
     "output_type": "execute_result"
    }
   ],
   "source": [
    "#Output\n",
    "access.results.head()"
   ]
  },
  {
   "cell_type": "markdown",
   "metadata": {},
   "source": [
    "**Scores:**  \n",
    "- access_cat is the count of weights by tract.  \n",
    "- access is the sum of the final score obtained from multiplying each weight by the distance decay for each establishment.  \n",
    "- Finally, access_sd is the normalized access score by doing:  \n",
    "$$access sd=\\frac{access-min}{max-min}$$"
   ]
  },
  {
   "cell_type": "markdown",
   "metadata": {},
   "source": [
    "Merge the scores to the origin's shapefile and map out the scores in order to view the distribution of the access scores by tract:"
   ]
  },
  {
   "cell_type": "markdown",
   "metadata": {},
   "source": [
    "<img src=\"scripts/data/figures/access_sd.png\" width=\"900\"  title=\"Optional title\">"
   ]
  },
  {
   "cell_type": "markdown",
   "metadata": {},
   "source": [
    "\n",
    "By constructing the access model, we can do several things:\n",
    "- Write to csv\n",
    "- Aggregate\n",
    "- Get count of nearby destinations metric\n",
    "- Get time to closest destination metric"
   ]
  },
  {
   "cell_type": "code",
   "execution_count": 38,
   "metadata": {},
   "outputs": [],
   "source": [
    "#Write output to csv\n",
    "access.write_csv()\n",
    "\n",
    "#Saved as Access_walk_health_tracts.csv"
   ]
  },
  {
   "cell_type": "markdown",
   "metadata": {},
   "source": [
    "### Aggregation at a greater areal level"
   ]
  },
  {
   "cell_type": "code",
   "execution_count": 7,
   "metadata": {},
   "outputs": [
    {
     "data": {
      "text/html": [
       "<div>\n",
       "<style scoped>\n",
       "    .dataframe tbody tr th:only-of-type {\n",
       "        vertical-align: middle;\n",
       "    }\n",
       "\n",
       "    .dataframe tbody tr th {\n",
       "        vertical-align: top;\n",
       "    }\n",
       "\n",
       "    .dataframe thead th {\n",
       "        text-align: right;\n",
       "    }\n",
       "</style>\n",
       "<table border=\"1\" class=\"dataframe\">\n",
       "  <thead>\n",
       "    <tr style=\"text-align: right;\">\n",
       "      <th></th>\n",
       "      <th>access</th>\n",
       "    </tr>\n",
       "    <tr>\n",
       "      <th>lower_areal_unit</th>\n",
       "      <th></th>\n",
       "    </tr>\n",
       "  </thead>\n",
       "  <tbody>\n",
       "    <tr>\n",
       "      <th>44</th>\n",
       "      <td>0.033946</td>\n",
       "    </tr>\n",
       "    <tr>\n",
       "      <th>59</th>\n",
       "      <td>4.633144</td>\n",
       "    </tr>\n",
       "    <tr>\n",
       "      <th>34</th>\n",
       "      <td>5.627126</td>\n",
       "    </tr>\n",
       "    <tr>\n",
       "      <th>31</th>\n",
       "      <td>15.149919</td>\n",
       "    </tr>\n",
       "    <tr>\n",
       "      <th>28</th>\n",
       "      <td>16.716169</td>\n",
       "    </tr>\n",
       "  </tbody>\n",
       "</table>\n",
       "</div>"
      ],
      "text/plain": [
       "                     access\n",
       "lower_areal_unit           \n",
       "44                 0.033946\n",
       "59                 4.633144\n",
       "34                 5.627126\n",
       "31                15.149919\n",
       "28                16.716169"
      ]
     },
     "execution_count": 7,
     "metadata": {},
     "output_type": "execute_result"
    }
   ],
   "source": [
    "#Get the output of the aggrregation by access by community area\n",
    "access._get_aggregate('access').head()"
   ]
  },
  {
   "cell_type": "code",
   "execution_count": 37,
   "metadata": {},
   "outputs": [
    {
     "name": "stderr",
     "output_type": "stream",
     "text": [
      "INFO:ScoreModel:Wrote aggregate to file: data/access_metrics/access_aggregate_0.csv\n"
     ]
    }
   ],
   "source": [
    "#For community areas write to csv\n",
    "access.write_aggregate('access')\n",
    "\n",
    "#Saved as access_aggregate_health_tracts_comm.csv"
   ]
  },
  {
   "cell_type": "markdown",
   "metadata": {},
   "source": [
    "<img src=\"scripts/data/figures/access_com.png\" width=\"900\"  title=\"Optional title\">"
   ]
  },
  {
   "cell_type": "markdown",
   "metadata": {},
   "source": [
    "## Plot"
   ]
  },
  {
   "cell_type": "markdown",
   "metadata": {},
   "source": [
    "The following cumulative distribution function shows the percentage of tracts that fall within an access score."
   ]
  },
  {
   "cell_type": "code",
   "execution_count": 9,
   "metadata": {},
   "outputs": [
    {
     "data": {
      "image/png": "[encoded data removed]",
      "text/plain": [
       "<Figure size 576x288 with 1 Axes>"
      ]
     },
     "metadata": {},
     "output_type": "display_data"
    },
    {
     "name": "stderr",
     "output_type": "stream",
     "text": [
      "INFO:ScoreModel:Plot was saved to: data/figures/fig_5.png\n"
     ]
    }
   ],
   "source": [
    "access.plot_cdf('CDF of Access Score')"
   ]
  },
  {
   "cell_type": "markdown",
   "metadata": {},
   "source": [
    "## Subsetting the data to calculate the Access Score"
   ]
  },
  {
   "cell_type": "code",
   "execution_count": 26,
   "metadata": {},
   "outputs": [
    {
     "name": "stdout",
     "output_type": "stream",
     "text": [
      "The variables in your data set are:\n",
      ">  geoid10\n",
      ">  lon\n",
      ">  lat\n",
      ">  Pop2014\n",
      ">  Pov14\n",
      ">  community\n",
      "If you have no population variable, write \"skip\" (no quotations)\n",
      "If you have no lower areal unit variable, write \"skip\" (no quotations)\n",
      "The variables in your data set are:\n",
      ">  ID\n",
      ">  Facility\n",
      ">  lat\n",
      ">  lon\n",
      ">  Type\n",
      ">  target\n",
      ">  category\n",
      ">  community\n",
      "If you have no target variable, write \"skip\" (no quotations)\n",
      "If you have no lower areal unit variable, write \"skip\" (no quotations)\n",
      "If you have no category variable, write \"skip\" (no quotations)\n"
     ]
    },
    {
     "name": "stderr",
     "output_type": "stream",
     "text": [
      "INFO:ScoreModel:Loaded sp matrix from file: data/matrices/walk_asym_health_tracts.csv\n",
      "INFO:ScoreModel:Finished loading sp_matrix in 0.14 seconds\n",
      "INFO:ScoreModel:Processing... This could take a while\n",
      "INFO:ScoreModel:Finished processing ModelData in 0.06 seconds\n"
     ]
    }
   ],
   "source": [
    "#For Federally Qualified Health Centers (walking)\n",
    "access_fed = AccessModel(network_type='walk',\n",
    "                         sp_matrix_filename='data/matrices/walk_asym_health_tracts.csv',\n",
    "                         source_filename='data/ORIG/tracts2010.csv',\n",
    "                         dest_filename='data/DEST/health_chicago.csv',\n",
    "                         decay_function='logit',\n",
    "                         limit_categories=set(['Federally Qualified Health Centers']))\n"
   ]
  },
  {
   "cell_type": "code",
   "execution_count": 27,
   "metadata": {},
   "outputs": [],
   "source": [
    "#Example of density and variety weights:\n",
    "dict = {\n",
    "\"Federally Qualified Health Centers\": [10,10,10,10,10]\n",
    "}"
   ]
  },
  {
   "cell_type": "code",
   "execution_count": 28,
   "metadata": {},
   "outputs": [
    {
     "name": "stderr",
     "output_type": "stream",
     "text": [
      "INFO:ScoreModel:Finished calculating hssa in 0.02 seconds\n"
     ]
    }
   ],
   "source": [
    "access_fed.calculate(custom_threshold=40,\n",
    "                 normalize=True,\n",
    "                 custom_weight_dict=dict,\n",
    "                 largest_weights_first=True)"
   ]
  },
  {
   "cell_type": "code",
   "execution_count": 29,
   "metadata": {},
   "outputs": [
    {
     "data": {
      "text/html": [
       "<div>\n",
       "<style scoped>\n",
       "    .dataframe tbody tr th:only-of-type {\n",
       "        vertical-align: middle;\n",
       "    }\n",
       "\n",
       "    .dataframe tbody tr th {\n",
       "        vertical-align: top;\n",
       "    }\n",
       "\n",
       "    .dataframe thead th {\n",
       "        text-align: right;\n",
       "    }\n",
       "</style>\n",
       "<table border=\"1\" class=\"dataframe\">\n",
       "  <thead>\n",
       "    <tr style=\"text-align: right;\">\n",
       "      <th></th>\n",
       "      <th>lat</th>\n",
       "      <th>lon</th>\n",
       "      <th>population</th>\n",
       "      <th>lower_areal_unit</th>\n",
       "      <th>access</th>\n",
       "      <th>access_cat</th>\n",
       "      <th>access_sd</th>\n",
       "    </tr>\n",
       "    <tr>\n",
       "      <th>geoid10</th>\n",
       "      <th></th>\n",
       "      <th></th>\n",
       "      <th></th>\n",
       "      <th></th>\n",
       "      <th></th>\n",
       "      <th></th>\n",
       "      <th></th>\n",
       "    </tr>\n",
       "  </thead>\n",
       "  <tbody>\n",
       "    <tr>\n",
       "      <th>17031842400</th>\n",
       "      <td>41.742475</td>\n",
       "      <td>-87.630040</td>\n",
       "      <td>5157.0</td>\n",
       "      <td>44.0</td>\n",
       "      <td>0.000000</td>\n",
       "      <td>0.0</td>\n",
       "      <td>0.000000</td>\n",
       "    </tr>\n",
       "    <tr>\n",
       "      <th>17031840300</th>\n",
       "      <td>41.832094</td>\n",
       "      <td>-87.681882</td>\n",
       "      <td>5881.0</td>\n",
       "      <td>59.0</td>\n",
       "      <td>8.157979</td>\n",
       "      <td>20.0</td>\n",
       "      <td>22.341129</td>\n",
       "    </tr>\n",
       "    <tr>\n",
       "      <th>17031841100</th>\n",
       "      <td>41.851006</td>\n",
       "      <td>-87.635098</td>\n",
       "      <td>3363.0</td>\n",
       "      <td>34.0</td>\n",
       "      <td>0.650705</td>\n",
       "      <td>10.0</td>\n",
       "      <td>1.781996</td>\n",
       "    </tr>\n",
       "    <tr>\n",
       "      <th>17031841200</th>\n",
       "      <td>41.855562</td>\n",
       "      <td>-87.683342</td>\n",
       "      <td>3710.0</td>\n",
       "      <td>31.0</td>\n",
       "      <td>16.836674</td>\n",
       "      <td>50.0</td>\n",
       "      <td>46.108270</td>\n",
       "    </tr>\n",
       "    <tr>\n",
       "      <th>17031838200</th>\n",
       "      <td>41.870416</td>\n",
       "      <td>-87.675079</td>\n",
       "      <td>3296.0</td>\n",
       "      <td>28.0</td>\n",
       "      <td>7.261582</td>\n",
       "      <td>40.0</td>\n",
       "      <td>19.886291</td>\n",
       "    </tr>\n",
       "  </tbody>\n",
       "</table>\n",
       "</div>"
      ],
      "text/plain": [
       "                   lat        lon  population  lower_areal_unit     access  \\\n",
       "geoid10                                                                      \n",
       "17031842400  41.742475 -87.630040      5157.0              44.0   0.000000   \n",
       "17031840300  41.832094 -87.681882      5881.0              59.0   8.157979   \n",
       "17031841100  41.851006 -87.635098      3363.0              34.0   0.650705   \n",
       "17031841200  41.855562 -87.683342      3710.0              31.0  16.836674   \n",
       "17031838200  41.870416 -87.675079      3296.0              28.0   7.261582   \n",
       "\n",
       "             access_cat  access_sd  \n",
       "geoid10                             \n",
       "17031842400         0.0   0.000000  \n",
       "17031840300        20.0  22.341129  \n",
       "17031841100        10.0   1.781996  \n",
       "17031841200        50.0  46.108270  \n",
       "17031838200        40.0  19.886291  "
      ]
     },
     "execution_count": 29,
     "metadata": {},
     "output_type": "execute_result"
    }
   ],
   "source": [
    "access_fed.results.head()"
   ]
  },
  {
   "cell_type": "code",
   "execution_count": 31,
   "metadata": {},
   "outputs": [],
   "source": [
    "access_fed.results.to_csv('data/access_metrics/FQHC.csv')"
   ]
  },
  {
   "cell_type": "markdown",
   "metadata": {},
   "source": [
    "<img src=\"scripts/data/figures/access_fed.png\" width=\"900\"  title=\"Optional title\">"
   ]
  },
  {
   "cell_type": "markdown",
   "metadata": {},
   "source": [
    "Should I add comparison between different distance decay functions and/or weights?  As an illustrative purpose?"
   ]
  },
  {
   "cell_type": "code",
   "execution_count": 13,
   "metadata": {},
   "outputs": [],
   "source": []
  },
  {
   "cell_type": "code",
   "execution_count": null,
   "metadata": {},
   "outputs": [],
   "source": []
  }
 ],
 "metadata": {
  "kernelspec": {
   "display_name": "Python 3",
   "language": "python",
   "name": "python3"
  },
  "language_info": {
   "codemirror_mode": {
    "name": "ipython",
    "version": 3
   },
   "file_extension": ".py",
   "mimetype": "text/x-python",
   "name": "python",
   "nbconvert_exporter": "python",
   "pygments_lexer": "ipython3",
   "version": "3.6.4"
  }
 },
 "nbformat": 4,
 "nbformat_minor": 2
}
