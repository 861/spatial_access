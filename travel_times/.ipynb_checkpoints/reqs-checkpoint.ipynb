{
 "cells": [
  {
   "cell_type": "markdown",
   "metadata": {},
   "source": [
    "# Installation and Files Requirements"
   ]
  },
  {
   "cell_type": "markdown",
   "metadata": {},
   "source": [
    "--- \n",
    "## Installation Setup  \n",
    "\n",
    "The package is written in Python 3.6, C++ 11 and Cython by [Logan Noel](https://www.linkedin.com/in/lmnoel/). (Minimum Python version 3.5)  \n",
    "Currently, the only supported operating systems are MacOS and Ubuntu (if you don't have either, a guide for installing Ubuntu 16.04 LTS is in README.)"
   ]
  },
  {
   "cell_type": "markdown",
   "metadata": {},
   "source": [
    "**Within the notebook:**"
   ]
  },
  {
   "cell_type": "code",
   "execution_count": null,
   "metadata": {},
   "outputs": [],
   "source": [
    "cd scripts"
   ]
  },
  {
   "cell_type": "code",
   "execution_count": null,
   "metadata": {},
   "outputs": [],
   "source": [
    "#1. Install `python3` (if not installed already):   \n",
    "! brew install python3"
   ]
  },
  {
   "cell_type": "code",
   "execution_count": null,
   "metadata": {},
   "outputs": [],
   "source": [
    "#2. Install `pip` (if not installed already):\n",
    "! curl -O https://raw.github.com/pypa/pip/master/contrib/get-pip.py\n",
    "! python3 get-pip.py"
   ]
  },
  {
   "cell_type": "code",
   "execution_count": null,
   "metadata": {},
   "outputs": [],
   "source": [
    "#3. Install requirements:  \n",
    "! pip3 install -r requirements.txt"
   ]
  },
  {
   "cell_type": "code",
   "execution_count": null,
   "metadata": {},
   "outputs": [],
   "source": [
    "#3.1 If you get errors:\n",
    "! pip3 install -r requirements.txt --upgrade"
   ]
  },
  {
   "cell_type": "code",
   "execution_count": null,
   "metadata": {},
   "outputs": [],
   "source": [
    "#3.2 If you get \"Cannot uninstall X errors for distutils packages\":\n",
    "! pip3 install -r requirements.txt --ignore-installed"
   ]
  },
  {
   "cell_type": "code",
   "execution_count": null,
   "metadata": {},
   "outputs": [],
   "source": [
    "#4. Run the setup for the travel time matrix:\n",
    "! python3 setup.py build\n",
    "! python3 setup.py install"
   ]
  },
  {
   "cell_type": "markdown",
   "metadata": {},
   "source": [
    "If getting error: \"Failed building wheel for pandana\" or missing \"libspatialindex\" when importing the libraries, do the following:"
   ]
  },
  {
   "cell_type": "code",
   "execution_count": null,
   "metadata": {},
   "outputs": [],
   "source": [
    "#Note: If getting error: \"Failed building wheel for pandana\"\n",
    "! brew install spatialindex\n",
    "! python3 setup.py again."
   ]
  },
  {
   "cell_type": "markdown",
   "metadata": {},
   "source": [
    "---\n",
    "**From a terminal:**  \n",
    "\n",
    "1. Go to directory where you want to save the folder and run:  \n",
    "`$ git clone https://github.com/GeoDaCenter/access.git`  \n",
    "    \n",
    "2. Go the access > travel_times folder:  \n",
    "`$ cd access/analytics`  \n",
    "\n",
    "3. Install `python3` and `pip` (if not installed already).   \n",
    "`$ brew install python3`  \n",
    "`$ curl -O https://raw.github.com/pypa/pip/master/contrib/get-pip.py`  \n",
    "`$ python3 get-pip.py`  \n",
    "\n",
    "4. Also within this directory, run:  \n",
    "`$ pip3 install -r requirements.txt`  \n",
    "If you get any errors, try running instead  \n",
    "`$ pip3 install -r requirements.txt --upgrade`    \n",
    "If you get \"Cannot uninstall X errors for distutils packages\":  \n",
    "`$ pip3 install -r requirements.txt --ignore-installed`  \n",
    "\n",
    "5. Run (If you are on linux, throw a `sudo` in front):  \n",
    "`$ python3 setup.py build`  \n",
    "`$ python3 setup.py install`  \n",
    "\n",
    "Note: When running the demo, if you get error: *\"Failed building wheel for pandana\"* or missing *\"libspatialindex\"* when importing the libraries, install spatialindex and setup.py again.  \n",
    "`$ brew install spatialindex`  \n",
    "`$ python3 setup.py` again."
   ]
  },
  {
   "cell_type": "markdown",
   "metadata": {},
   "source": [
    "---\n",
    "**If you are having troubles, make sure ruby, homebrew xcode, and git are installed:**  \n",
    "`$ curl -L https://get.rvm.io | bash -s stable --auto-dotfiles --autolibs=enable --rails`  \n",
    "`$ mkdir homebrew && curl -L https://github.com/Homebrew/brew/tarball/master | tar xz --strip 1 -C homebrew`  \n",
    "`$ ruby -e \"$(curl -fsSL https://raw.githubusercontent.com/Homebrew/install/master/install)\"`   \n",
    "`$ brew install git`"
   ]
  },
  {
   "cell_type": "markdown",
   "metadata": {},
   "source": [
    "---\n",
    "## Files Requirements\n",
    "* Save origin and destination files as .csv files under the **data** folder.  \n",
    "\n",
    "* Both origin and destination files should be under the same coordinate reference system and that it is EPSG:4326 (WGS 84).\n",
    "\n",
    "* Make sure that the destination points are within the area of the source area file.\n",
    "\n",
    "* If the user is interested in **aggregating** the scores, please input the greater areal unit as an attribute of the source table (for access) and as attribute of the destionation table (for coverage).  \n",
    "In order to attach the polygon's attributes to the points (destinations or origins), the user can use QGIS and do the following:  \n",
    "1) Import the polygon's shapefile (in this case, community areas for Chicago) and the points' shapefile of interest.  \n",
    "2) There are two ways of attaching the polygon's IDs to the points:\n",
    "    * Go to Vector > Data Management Tools > Join attributes by location  \n",
    "    * Go to Processing > Toolbox > SAGA > Vector point tools > Add polygon attributes to points.  \n",
    "    \n",
    "\n",
    "* **Origin file:**  \n",
    "    * Unique index identifier (ID) (integer or real)  \n",
    "    * Latitude and longitude coordinates (real)  \n",
    "    * For Coverage/Access Score: population count (not mandatory for Access Score)\n",
    "    * In order to aggregate to larger areal units, attach the larger areal unit ID as an attribute of the origin file. (not mandatory) (integer or real)\n",
    "  \n",
    "  \n",
    "* **Destination file:**  \n",
    "    * Unique index identifier (ID) (integer or real)  \n",
    "    * Latitude and longitude coordinates (real)  \n",
    "    * For Coverage/Access Score: target amount of each destination (can be size/sales) (not mandatory for Access Score)  \n",
    "    * In order to subset by categories: category field that specifies (string)\n",
    "    * In order to aggregate to larger areal units, attach the larger areal unit ID as an attribute of the destination file. (not mandatory) (integer or real)\n",
    "\n",
    "* If you already have an asymmetric matrix, the metrics will consider the negative values as null values (NaN), the blanks as and the zeros as\n",
    "\n",
    "* If the network type is **driving**, the edge traversal speed is drawn from a table of speed limits and street names that must be supplied separately. In this case, it is sepcified under scripts>data>speed_limit.csv\n"
   ]
  },
  {
   "cell_type": "code",
   "execution_count": null,
   "metadata": {},
   "outputs": [],
   "source": []
  }
 ],
 "metadata": {
  "kernelspec": {
   "display_name": "Python 3",
   "language": "python",
   "name": "python3"
  },
  "language_info": {
   "codemirror_mode": {
    "name": "ipython",
    "version": 3
   },
   "file_extension": ".py",
   "mimetype": "text/x-python",
   "name": "python",
   "nbconvert_exporter": "python",
   "pygments_lexer": "ipython3",
   "version": "3.6.4"
  }
 },
 "nbformat": 4,
 "nbformat_minor": 2
}
