{
 "cells": [
  {
   "cell_type": "code",
   "execution_count": null,
   "metadata": {},
   "outputs": [],
   "source": []
  },
  {
   "cell_type": "markdown",
   "metadata": {},
   "source": [
    "## P2P Calibration \n",
    "put at the end of p2p in order to import transitmatrix\n",
    "\n",
    "We use Graphhopper in order to test the p2p calibration. A Graphhopper API is required to run this process and it can be obtained here:\n",
    "https://graphhopper.com/api/1/docs/FAQ/\n",
    "\n",
    "Note: You can also use a GoogleMaps API.\n",
    "\n",
    "\n",
    "Show the mean and stddev of the difference between p2p's route time\n",
    "and GraphHopper's route time, in seconds.\n",
    "\n",
    "IMPORTANT: To use this, must have a valid GraphHopper Matrix API key\n",
    "saved in a text file in this directory called GRAPHHOPPER_API_KEY.txt\n",
    "\n",
    "Positive differences indicate p2p's route was longer, negative times indicates\n",
    "that p2p's route was shorter."
   ]
  },
  {
   "cell_type": "markdown",
   "metadata": {},
   "source": [
    "## Epsilon Calibration"
   ]
  },
  {
   "cell_type": "markdown",
   "metadata": {},
   "source": [
    "<a id='scoremodel'></a>"
   ]
  },
  {
   "cell_type": "markdown",
   "metadata": {},
   "source": [
    "### Score Model: Model Infrastructure  and Travel Time Distance Measures\n",
    "\n",
    "The following script creates the class: **ModelData**\n",
    "\n",
    "The **ModelData** parent class creates the basis for more advanced geospatial models like HSSAModel and PCSpendModel that create the access and coverage scores. This section provides the infrastructure for manipulating the inherited travel time distance matrix. Therefore, the user can build any model from this class. \n",
    "Travel time distance measures are incorporated as extensions in this section including:  \n",
    "* Travel time distance aggregated by population  \n",
    "* Nearest neighbor travel times by category  \n",
    "* Count of destinations by a 30 minute buffer (walking)  \n",
    "\n",
    "The user will have to specify the previously created travel time distance matrix manually. "
   ]
  },
  {
   "cell_type": "code",
   "execution_count": null,
   "metadata": {},
   "outputs": [],
   "source": []
  }
 ],
 "metadata": {
  "kernelspec": {
   "display_name": "Python 3",
   "language": "python",
   "name": "python3"
  },
  "language_info": {
   "codemirror_mode": {
    "name": "ipython",
    "version": 3
   },
   "file_extension": ".py",
   "mimetype": "text/x-python",
   "name": "python",
   "nbconvert_exporter": "python",
   "pygments_lexer": "ipython3",
   "version": "3.6.4"
  }
 },
 "nbformat": 4,
 "nbformat_minor": 2
}
