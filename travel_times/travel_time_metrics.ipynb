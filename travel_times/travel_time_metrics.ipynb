{
 "cells": [
  {
   "cell_type": "markdown",
   "metadata": {},
   "source": [
    "# Travel Time Measures"
   ]
  },
  {
   "cell_type": "code",
   "execution_count": 1,
   "metadata": {},
   "outputs": [],
   "source": [
    "import sys, os\n",
    "os.chdir('scripts')\n",
    "from CommunityAnalytics import *"
   ]
  },
  {
   "cell_type": "code",
   "execution_count": 2,
   "metadata": {},
   "outputs": [],
   "source": [
    "%matplotlib inline"
   ]
  },
  {
   "cell_type": "markdown",
   "metadata": {},
   "source": [
    "<a id='overview'></a>"
   ]
  },
  {
   "cell_type": "code",
   "execution_count": 3,
   "metadata": {},
   "outputs": [
    {
     "name": "stdout",
     "output_type": "stream",
     "text": [
      "The variables in your data set are:\n",
      ">  geoid10\n",
      ">  lon\n",
      ">  lat\n",
      ">  Pop2014\n",
      ">  Pov14\n",
      ">  community\n",
      "If you have no population variable, write \"skip\" (no quotations)\n",
      "If you have no lower areal unit variable, write \"skip\" (no quotations)\n",
      "The variables in your data set are:\n",
      ">  ID\n",
      ">  Facility\n",
      ">  lat\n",
      ">  lon\n",
      ">  Type\n",
      ">  target\n",
      ">  category\n",
      ">  community\n",
      "If you have no target variable, write \"skip\" (no quotations)\n",
      "If you have no lower areal unit variable, write \"skip\" (no quotations)\n",
      "If you have no category variable, write \"skip\" (no quotations)\n"
     ]
    },
    {
     "name": "stderr",
     "output_type": "stream",
     "text": [
      "INFO:ScoreModel:Loaded sp matrix from file: data/matrices/walk_asym_health_tracts.csv\n",
      "INFO:ScoreModel:Finished loading sp_matrix in 0.14 seconds\n",
      "INFO:ScoreModel:Processing... This could take a while\n",
      "INFO:ScoreModel:Finished processing ModelData in 0.06 seconds\n"
     ]
    }
   ],
   "source": [
    "tt=TTMetrics(network_type='walk',\n",
    "             sp_matrix_filename='data/matrices/walk_asym_health_tracts.csv',\n",
    "             source_filename='data/ORIG/tracts2010.csv',\n",
    "             dest_filename='data/DEST/health_chicago.csv')"
   ]
  },
  {
   "cell_type": "code",
   "execution_count": 4,
   "metadata": {},
   "outputs": [],
   "source": [
    "tt.calculate()"
   ]
  },
  {
   "cell_type": "markdown",
   "metadata": {},
   "source": [
    "## Count of Nearby Destinations"
   ]
  },
  {
   "cell_type": "code",
   "execution_count": 5,
   "metadata": {},
   "outputs": [],
   "source": [
    "#Use .n_dests_in_range to estimate the number of facilities by category within a buffer (time defined in upper)\n",
    "tt.n_dests_in_range.to_csv('data/other_metrics/nd_health_tracts.csv')"
   ]
  },
  {
   "cell_type": "code",
   "execution_count": 6,
   "metadata": {},
   "outputs": [
    {
     "data": {
      "text/html": [
       "<div>\n",
       "<style scoped>\n",
       "    .dataframe tbody tr th:only-of-type {\n",
       "        vertical-align: middle;\n",
       "    }\n",
       "\n",
       "    .dataframe tbody tr th {\n",
       "        vertical-align: top;\n",
       "    }\n",
       "\n",
       "    .dataframe thead th {\n",
       "        text-align: right;\n",
       "    }\n",
       "</style>\n",
       "<table border=\"1\" class=\"dataframe\">\n",
       "  <thead>\n",
       "    <tr style=\"text-align: right;\">\n",
       "      <th></th>\n",
       "      <th>All Free Health Clinics</th>\n",
       "      <th>School-Based Health Centers</th>\n",
       "      <th>Other Health Providers</th>\n",
       "      <th>Federally Qualified Health Centers</th>\n",
       "      <th>Hospitals</th>\n",
       "    </tr>\n",
       "  </thead>\n",
       "  <tbody>\n",
       "    <tr>\n",
       "      <th>17031010100</th>\n",
       "      <td>0.0</td>\n",
       "      <td>0.0</td>\n",
       "      <td>0.0</td>\n",
       "      <td>4.0</td>\n",
       "      <td>1.0</td>\n",
       "    </tr>\n",
       "    <tr>\n",
       "      <th>17031010201</th>\n",
       "      <td>0.0</td>\n",
       "      <td>0.0</td>\n",
       "      <td>0.0</td>\n",
       "      <td>4.0</td>\n",
       "      <td>1.0</td>\n",
       "    </tr>\n",
       "    <tr>\n",
       "      <th>17031010202</th>\n",
       "      <td>0.0</td>\n",
       "      <td>1.0</td>\n",
       "      <td>1.0</td>\n",
       "      <td>4.0</td>\n",
       "      <td>1.0</td>\n",
       "    </tr>\n",
       "    <tr>\n",
       "      <th>17031010300</th>\n",
       "      <td>0.0</td>\n",
       "      <td>1.0</td>\n",
       "      <td>0.0</td>\n",
       "      <td>5.0</td>\n",
       "      <td>0.0</td>\n",
       "    </tr>\n",
       "    <tr>\n",
       "      <th>17031010400</th>\n",
       "      <td>0.0</td>\n",
       "      <td>1.0</td>\n",
       "      <td>1.0</td>\n",
       "      <td>3.0</td>\n",
       "      <td>1.0</td>\n",
       "    </tr>\n",
       "  </tbody>\n",
       "</table>\n",
       "</div>"
      ],
      "text/plain": [
       "             All Free Health Clinics  School-Based Health Centers  \\\n",
       "17031010100                      0.0                          0.0   \n",
       "17031010201                      0.0                          0.0   \n",
       "17031010202                      0.0                          1.0   \n",
       "17031010300                      0.0                          1.0   \n",
       "17031010400                      0.0                          1.0   \n",
       "\n",
       "             Other Health Providers  Federally Qualified Health Centers  \\\n",
       "17031010100                     0.0                                 4.0   \n",
       "17031010201                     0.0                                 4.0   \n",
       "17031010202                     1.0                                 4.0   \n",
       "17031010300                     0.0                                 5.0   \n",
       "17031010400                     1.0                                 3.0   \n",
       "\n",
       "             Hospitals  \n",
       "17031010100        1.0  \n",
       "17031010201        1.0  \n",
       "17031010202        1.0  \n",
       "17031010300        0.0  \n",
       "17031010400        1.0  "
      ]
     },
     "execution_count": 6,
     "metadata": {},
     "output_type": "execute_result"
    }
   ],
   "source": [
    "tt.n_dests_in_range.head()"
   ]
  },
  {
   "cell_type": "markdown",
   "metadata": {},
   "source": [
    "**Results of count of nearby destinations by category**"
   ]
  },
  {
   "cell_type": "markdown",
   "metadata": {},
   "source": [
    "<img src=\"scripts/data/figures/nd.png\" width=\"1800\" title=\"Optional title\"  align=\"center\">"
   ]
  },
  {
   "cell_type": "markdown",
   "metadata": {},
   "source": [
    "## Time to Closest Destination"
   ]
  },
  {
   "cell_type": "code",
   "execution_count": 7,
   "metadata": {},
   "outputs": [],
   "source": [
    "#Use .near_nbr to create the time to the nearest neighbor within a buffer (time defined in upper)\n",
    "tt.near_nbr.to_csv('data/other_metrics/nn_health_tracts.csv')"
   ]
  },
  {
   "cell_type": "code",
   "execution_count": 8,
   "metadata": {},
   "outputs": [
    {
     "data": {
      "text/html": [
       "<div>\n",
       "<style scoped>\n",
       "    .dataframe tbody tr th:only-of-type {\n",
       "        vertical-align: middle;\n",
       "    }\n",
       "\n",
       "    .dataframe tbody tr th {\n",
       "        vertical-align: top;\n",
       "    }\n",
       "\n",
       "    .dataframe thead th {\n",
       "        text-align: right;\n",
       "    }\n",
       "</style>\n",
       "<table border=\"1\" class=\"dataframe\">\n",
       "  <thead>\n",
       "    <tr style=\"text-align: right;\">\n",
       "      <th></th>\n",
       "      <th>Hospitals</th>\n",
       "      <th>Federally Qualified Health Centers</th>\n",
       "      <th>School-Based Health Centers</th>\n",
       "      <th>All Free Health Clinics</th>\n",
       "      <th>Other Health Providers</th>\n",
       "    </tr>\n",
       "  </thead>\n",
       "  <tbody>\n",
       "    <tr>\n",
       "      <th>17031010100</th>\n",
       "      <td>1195.0</td>\n",
       "      <td>200.0</td>\n",
       "      <td>1893.0</td>\n",
       "      <td>3140.0</td>\n",
       "      <td>2008.0</td>\n",
       "    </tr>\n",
       "    <tr>\n",
       "      <th>17031010201</th>\n",
       "      <td>1010.0</td>\n",
       "      <td>469.0</td>\n",
       "      <td>1867.0</td>\n",
       "      <td>2377.0</td>\n",
       "      <td>1926.0</td>\n",
       "    </tr>\n",
       "    <tr>\n",
       "      <th>17031010202</th>\n",
       "      <td>1493.0</td>\n",
       "      <td>457.0</td>\n",
       "      <td>1569.0</td>\n",
       "      <td>2852.0</td>\n",
       "      <td>1672.0</td>\n",
       "    </tr>\n",
       "    <tr>\n",
       "      <th>17031010300</th>\n",
       "      <td>1802.0</td>\n",
       "      <td>531.0</td>\n",
       "      <td>1712.0</td>\n",
       "      <td>3234.0</td>\n",
       "      <td>1827.0</td>\n",
       "    </tr>\n",
       "    <tr>\n",
       "      <th>17031010400</th>\n",
       "      <td>1407.0</td>\n",
       "      <td>950.0</td>\n",
       "      <td>1239.0</td>\n",
       "      <td>2882.0</td>\n",
       "      <td>1347.0</td>\n",
       "    </tr>\n",
       "  </tbody>\n",
       "</table>\n",
       "</div>"
      ],
      "text/plain": [
       "             Hospitals  Federally Qualified Health Centers  \\\n",
       "17031010100     1195.0                               200.0   \n",
       "17031010201     1010.0                               469.0   \n",
       "17031010202     1493.0                               457.0   \n",
       "17031010300     1802.0                               531.0   \n",
       "17031010400     1407.0                               950.0   \n",
       "\n",
       "             School-Based Health Centers  All Free Health Clinics  \\\n",
       "17031010100                       1893.0                   3140.0   \n",
       "17031010201                       1867.0                   2377.0   \n",
       "17031010202                       1569.0                   2852.0   \n",
       "17031010300                       1712.0                   3234.0   \n",
       "17031010400                       1239.0                   2882.0   \n",
       "\n",
       "             Other Health Providers  \n",
       "17031010100                  2008.0  \n",
       "17031010201                  1926.0  \n",
       "17031010202                  1672.0  \n",
       "17031010300                  1827.0  \n",
       "17031010400                  1347.0  "
      ]
     },
     "execution_count": 8,
     "metadata": {},
     "output_type": "execute_result"
    }
   ],
   "source": [
    "tt.near_nbr.head()"
   ]
  },
  {
   "cell_type": "markdown",
   "metadata": {},
   "source": [
    "**Results of time to nearest destination by category**"
   ]
  },
  {
   "cell_type": "markdown",
   "metadata": {},
   "source": [
    "<img src=\"scripts/data/figures/nn.png\" width=\"1800\" title=\"Optional title\"  align=\"center\">"
   ]
  },
  {
   "cell_type": "markdown",
   "metadata": {},
   "source": [
    "**Empirical Cumulative Distribution Function Plots**"
   ]
  },
  {
   "cell_type": "code",
   "execution_count": 5,
   "metadata": {},
   "outputs": [
    {
     "data": {
      "image/png": "[encoded data removed]",
      "text/plain": [
       "<Figure size 576x288 with 1 Axes>"
      ]
     },
     "metadata": {},
     "output_type": "display_data"
    },
    {
     "name": "stderr",
     "output_type": "stream",
     "text": [
      "INFO:ScoreModel:Plot was saved to: data/figures/fig_4.png\n"
     ]
    }
   ],
   "source": [
    "tt.plot_nearest_providers(limit_categories=None,\n",
    "                              n_bins=300,\n",
    "                              resolution='block',\n",
    "                              title=\"Time to Nearest Neighbor Health Provider - CDF by Area\")"
   ]
  },
  {
   "cell_type": "code",
   "execution_count": 5,
   "metadata": {},
   "outputs": [
    {
     "data": {
      "image/png": "[encoded data removed]",
      "text/plain": [
       "<Figure size 576x288 with 1 Axes>"
      ]
     },
     "metadata": {},
     "output_type": "display_data"
    },
    {
     "name": "stderr",
     "output_type": "stream",
     "text": [
      "INFO:ScoreModel:Plot was saved to: data/figures/fig_5.png\n"
     ]
    }
   ],
   "source": [
    "tt.plot_nearest_providers(limit_categories=None,\n",
    "                              n_bins=300,\n",
    "                              resolution='population',\n",
    "                              title=\"Time to Nearest Neighbor Health Provider- CDF by Population\")"
   ]
  },
  {
   "cell_type": "markdown",
   "metadata": {},
   "source": [
    "Other metrics results are saved under Access_health_tracts.shp.  \n",
    "The prefix nd stands for the count of nearby destinations metric and the prefix nn stands for the time to the closest destination."
   ]
  },
  {
   "cell_type": "markdown",
   "metadata": {},
   "source": [
    "Should I add maps of nearest neighbors and counts by type one next to each other?"
   ]
  },
  {
   "cell_type": "code",
   "execution_count": null,
   "metadata": {},
   "outputs": [],
   "source": []
  }
 ],
 "metadata": {
  "kernelspec": {
   "display_name": "Python 3",
   "language": "python",
   "name": "python3"
  },
  "language_info": {
   "codemirror_mode": {
    "name": "ipython",
    "version": 3
   },
   "file_extension": ".py",
   "mimetype": "text/x-python",
   "name": "python",
   "nbconvert_exporter": "python",
   "pygments_lexer": "ipython3",
   "version": "3.6.4"
  }
 },
 "nbformat": 4,
 "nbformat_minor": 2
}
