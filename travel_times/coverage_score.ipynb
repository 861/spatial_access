{
 "cells": [
  {
   "cell_type": "markdown",
   "metadata": {},
   "source": [
    "# Coverage Scores"
   ]
  },
  {
   "cell_type": "markdown",
   "metadata": {},
   "source": [
    "## Calculating the Coverage Score\n",
    "---\n",
    "**Specifications for Coverage Model:**  \n",
    "\n",
    "**name.CoverageModel( ):**  \n",
    "- network_type ('drive' or 'walk')\n",
    "- source_filename (primary input data) \n",
    "- dest_filename (secondary input data)  \n",
    "- upper (is the time (in minutes) in which the origin and destinations are considered to be out of range of each other. As a default, if the travel time distance exceeds 30 minutes, the score will be zero.)\n",
    "- The prompt will ask for the target which should be specified in the destination file, according to the user's needs. \n",
    "        \n",
    "**name.calculate():**\n",
    "- Just processes the model specified above. \n",
    "\n",
    "In the **scripts**, the user can specify further changed to the coverage score.\n",
    "\n",
    "Functions within the PCSpend Model class (use as name_of_model.function()):  \n",
    "- calculate ()\n",
    "- get_aggregate (aggregate_type) Aggregation can be by ('category') or ('lower_areal_unit') for the community level. If the user wants to modify the level of aggregation, change the lower_areal_unit field in destination csv to another unit of analysis.\n",
    "- agg_area_cat (aggregate by area and by category)\n",
    "- write_aggregate (aggregate_type, filename='name')\n",
    "- write_agg_area_cat (write the aggregation by lower areal unit and by category)\n",
    "- plot_cdf  (title='Coverage Amount')\n",
    "- write_csv (filename='name') "
   ]
  },
  {
   "cell_type": "markdown",
   "metadata": {},
   "source": [
    "<img src=\"scripts/data/figures/coverage.png\" width=\"900\" title=\"Optional title\"  align=\"center\">"
   ]
  },
  {
   "cell_type": "code",
   "execution_count": 1,
   "metadata": {},
   "outputs": [],
   "source": [
    "import sys, os\n",
    "os.chdir('scripts')\n",
    "\n",
    "from CommunityAnalytics import *\n",
    "\n",
    "%matplotlib inline"
   ]
  },
  {
   "cell_type": "code",
   "execution_count": 2,
   "metadata": {},
   "outputs": [
    {
     "name": "stdout",
     "output_type": "stream",
     "text": [
      "The variables in your data set are:\n",
      ">  geoid10\n",
      ">  lon\n",
      ">  lat\n",
      ">  Pop2014\n",
      ">  Pov14\n",
      ">  community\n",
      "If you have no population variable, write \"skip\" (no quotations)\n",
      "If you have no lower areal unit variable, write \"skip\" (no quotations)\n",
      "The variables in your data set are:\n",
      ">  ID\n",
      ">  Facility\n",
      ">  lat\n",
      ">  lon\n",
      ">  Type\n",
      ">  target\n",
      ">  category\n",
      ">  community\n",
      "If you have no target variable, write \"skip\" (no quotations)\n",
      "If you have no lower areal unit variable, write \"skip\" (no quotations)\n",
      "If you have no category variable, write \"skip\" (no quotations)\n"
     ]
    },
    {
     "name": "stderr",
     "output_type": "stream",
     "text": [
      "INFO:ScoreModel:Loaded sp matrix from file: data/matrices/walk_asym_health_tracts.csv\n",
      "INFO:ScoreModel:Finished loading sp_matrix in 0.14 seconds\n",
      "INFO:ScoreModel:Processing... This could take a while\n",
      "INFO:ScoreModel:Finished processing ModelData in 0.06 seconds\n"
     ]
    }
   ],
   "source": [
    "coverage = CoverageModel(network_type='walk',\n",
    "                         sp_matrix_filename='data/matrices/walk_asym_health_tracts.csv',\n",
    "                         source_filename='data/ORIG/tracts2010.csv',\n",
    "                         dest_filename='data/DEST/health_chicago.csv')"
   ]
  },
  {
   "cell_type": "code",
   "execution_count": 3,
   "metadata": {},
   "outputs": [
    {
     "name": "stderr",
     "output_type": "stream",
     "text": [
      "INFO:ScoreModel:Finished calculating CoverageModel in 0.04 seconds\n"
     ]
    }
   ],
   "source": [
    "coverage.calculate()"
   ]
  },
  {
   "cell_type": "code",
   "execution_count": 11,
   "metadata": {},
   "outputs": [],
   "source": [
    "coverage.results"
   ]
  },
  {
   "cell_type": "code",
   "execution_count": 7,
   "metadata": {},
   "outputs": [],
   "source": [
    "coverage.write_csv()"
   ]
  },
  {
   "cell_type": "markdown",
   "metadata": {},
   "source": [
    "<img src=\"scripts/data/figures/coverage_tracts.png\" width=\"700\" title=\"Optional title\"  align=\"center\">"
   ]
  },
  {
   "cell_type": "markdown",
   "metadata": {},
   "source": [
    "### Aggregation by greater areal units"
   ]
  },
  {
   "cell_type": "code",
   "execution_count": 6,
   "metadata": {},
   "outputs": [
    {
     "data": {
      "text/html": [
       "<div>\n",
       "<style scoped>\n",
       "    .dataframe tbody tr th:only-of-type {\n",
       "        vertical-align: middle;\n",
       "    }\n",
       "\n",
       "    .dataframe tbody tr th {\n",
       "        vertical-align: top;\n",
       "    }\n",
       "\n",
       "    .dataframe thead th {\n",
       "        text-align: right;\n",
       "    }\n",
       "</style>\n",
       "<table border=\"1\" class=\"dataframe\">\n",
       "  <thead>\n",
       "    <tr style=\"text-align: right;\">\n",
       "      <th></th>\n",
       "      <th>target</th>\n",
       "      <th>lat</th>\n",
       "      <th>lon</th>\n",
       "      <th>coverage</th>\n",
       "    </tr>\n",
       "    <tr>\n",
       "      <th>lower_areal_unit</th>\n",
       "      <th></th>\n",
       "      <th></th>\n",
       "      <th></th>\n",
       "      <th></th>\n",
       "    </tr>\n",
       "  </thead>\n",
       "  <tbody>\n",
       "    <tr>\n",
       "      <th>44</th>\n",
       "      <td>NaN</td>\n",
       "      <td>NaN</td>\n",
       "      <td>NaN</td>\n",
       "      <td>NaN</td>\n",
       "    </tr>\n",
       "    <tr>\n",
       "      <th>59</th>\n",
       "      <td>200000.0</td>\n",
       "      <td>41.831274</td>\n",
       "      <td>-87.676580</td>\n",
       "      <td>3.231279</td>\n",
       "    </tr>\n",
       "    <tr>\n",
       "      <th>34</th>\n",
       "      <td>170000.0</td>\n",
       "      <td>41.852812</td>\n",
       "      <td>-87.634843</td>\n",
       "      <td>1.996641</td>\n",
       "    </tr>\n",
       "    <tr>\n",
       "      <th>31</th>\n",
       "      <td>691000.0</td>\n",
       "      <td>209.274216</td>\n",
       "      <td>-438.350068</td>\n",
       "      <td>10.734180</td>\n",
       "    </tr>\n",
       "    <tr>\n",
       "      <th>28</th>\n",
       "      <td>2020000.0</td>\n",
       "      <td>502.477414</td>\n",
       "      <td>-1052.049515</td>\n",
       "      <td>29.872472</td>\n",
       "    </tr>\n",
       "  </tbody>\n",
       "</table>\n",
       "</div>"
      ],
      "text/plain": [
       "                     target         lat          lon   coverage\n",
       "lower_areal_unit                                               \n",
       "44                      NaN         NaN          NaN        NaN\n",
       "59                 200000.0   41.831274   -87.676580   3.231279\n",
       "34                 170000.0   41.852812   -87.634843   1.996641\n",
       "31                 691000.0  209.274216  -438.350068  10.734180\n",
       "28                2020000.0  502.477414 -1052.049515  29.872472"
      ]
     },
     "execution_count": 6,
     "metadata": {},
     "output_type": "execute_result"
    }
   ],
   "source": [
    "coverage._get_aggregate('coverage').head()"
   ]
  },
  {
   "cell_type": "code",
   "execution_count": 8,
   "metadata": {},
   "outputs": [
    {
     "name": "stderr",
     "output_type": "stream",
     "text": [
      "INFO:ScoreModel:Wrote aggregate to file: data/coverage_metrics/coverage_aggregate_0.csv\n"
     ]
    }
   ],
   "source": [
    "coverage.write_aggregate('coverage')\n",
    "\n",
    "#Saved as cov_aggregate_health_tracts_comm.csv"
   ]
  },
  {
   "cell_type": "markdown",
   "metadata": {},
   "source": [
    "<img src=\"scripts/data/figures/cov_t_comm.png\" width=\"750\" title=\"Optional title\"  align=\"center\">"
   ]
  },
  {
   "cell_type": "code",
   "execution_count": 4,
   "metadata": {},
   "outputs": [
    {
     "name": "stderr",
     "output_type": "stream",
     "text": [
      "/usr/local/lib/python3.6/site-packages/pandas/core/reshape/merge.py:544: UserWarning: merging between different levels can give an unintended result (1 levels on the left, 2 on the right)\n",
      "  warnings.warn(msg, UserWarning)\n"
     ]
    },
    {
     "data": {
      "text/html": [
       "<div>\n",
       "<style scoped>\n",
       "    .dataframe tbody tr th:only-of-type {\n",
       "        vertical-align: middle;\n",
       "    }\n",
       "\n",
       "    .dataframe tbody tr th {\n",
       "        vertical-align: top;\n",
       "    }\n",
       "\n",
       "    .dataframe thead th {\n",
       "        text-align: right;\n",
       "    }\n",
       "</style>\n",
       "<table border=\"1\" class=\"dataframe\">\n",
       "  <thead>\n",
       "    <tr style=\"text-align: right;\">\n",
       "      <th></th>\n",
       "      <th>(target, All Free Health Clinics)</th>\n",
       "      <th>(target, Federally Qualified Health Centers)</th>\n",
       "      <th>(target, Hospitals)</th>\n",
       "      <th>(target, Other Health Providers)</th>\n",
       "      <th>(target, School-Based Health Centers)</th>\n",
       "      <th>(coverage, All Free Health Clinics)</th>\n",
       "      <th>(coverage, Federally Qualified Health Centers)</th>\n",
       "      <th>(coverage, Hospitals)</th>\n",
       "      <th>(coverage, Other Health Providers)</th>\n",
       "      <th>(coverage, School-Based Health Centers)</th>\n",
       "    </tr>\n",
       "    <tr>\n",
       "      <th>lower_areal_unit</th>\n",
       "      <th></th>\n",
       "      <th></th>\n",
       "      <th></th>\n",
       "      <th></th>\n",
       "      <th></th>\n",
       "      <th></th>\n",
       "      <th></th>\n",
       "      <th></th>\n",
       "      <th></th>\n",
       "      <th></th>\n",
       "    </tr>\n",
       "  </thead>\n",
       "  <tbody>\n",
       "    <tr>\n",
       "      <th>44</th>\n",
       "      <td>NaN</td>\n",
       "      <td>NaN</td>\n",
       "      <td>NaN</td>\n",
       "      <td>NaN</td>\n",
       "      <td>NaN</td>\n",
       "      <td>NaN</td>\n",
       "      <td>NaN</td>\n",
       "      <td>NaN</td>\n",
       "      <td>NaN</td>\n",
       "      <td>NaN</td>\n",
       "    </tr>\n",
       "    <tr>\n",
       "      <th>59</th>\n",
       "      <td>NaN</td>\n",
       "      <td>200000.0</td>\n",
       "      <td>NaN</td>\n",
       "      <td>NaN</td>\n",
       "      <td>NaN</td>\n",
       "      <td>NaN</td>\n",
       "      <td>3.231279</td>\n",
       "      <td>NaN</td>\n",
       "      <td>NaN</td>\n",
       "      <td>NaN</td>\n",
       "    </tr>\n",
       "    <tr>\n",
       "      <th>34</th>\n",
       "      <td>NaN</td>\n",
       "      <td>NaN</td>\n",
       "      <td>NaN</td>\n",
       "      <td>170000.0</td>\n",
       "      <td>NaN</td>\n",
       "      <td>NaN</td>\n",
       "      <td>NaN</td>\n",
       "      <td>NaN</td>\n",
       "      <td>1.996641</td>\n",
       "      <td>NaN</td>\n",
       "    </tr>\n",
       "    <tr>\n",
       "      <th>31</th>\n",
       "      <td>NaN</td>\n",
       "      <td>369000.0</td>\n",
       "      <td>NaN</td>\n",
       "      <td>NaN</td>\n",
       "      <td>322000.0</td>\n",
       "      <td>NaN</td>\n",
       "      <td>5.685867</td>\n",
       "      <td>NaN</td>\n",
       "      <td>NaN</td>\n",
       "      <td>5.048313</td>\n",
       "    </tr>\n",
       "    <tr>\n",
       "      <th>28</th>\n",
       "      <td>339000.0</td>\n",
       "      <td>292000.0</td>\n",
       "      <td>614000.0</td>\n",
       "      <td>192000.0</td>\n",
       "      <td>583000.0</td>\n",
       "      <td>6.13458</td>\n",
       "      <td>4.903672</td>\n",
       "      <td>8.655339</td>\n",
       "      <td>2.458166</td>\n",
       "      <td>7.720715</td>\n",
       "    </tr>\n",
       "  </tbody>\n",
       "</table>\n",
       "</div>"
      ],
      "text/plain": [
       "                  (target, All Free Health Clinics)  \\\n",
       "lower_areal_unit                                      \n",
       "44                                              NaN   \n",
       "59                                              NaN   \n",
       "34                                              NaN   \n",
       "31                                              NaN   \n",
       "28                                         339000.0   \n",
       "\n",
       "                  (target, Federally Qualified Health Centers)  \\\n",
       "lower_areal_unit                                                 \n",
       "44                                                         NaN   \n",
       "59                                                    200000.0   \n",
       "34                                                         NaN   \n",
       "31                                                    369000.0   \n",
       "28                                                    292000.0   \n",
       "\n",
       "                  (target, Hospitals)  (target, Other Health Providers)  \\\n",
       "lower_areal_unit                                                          \n",
       "44                                NaN                               NaN   \n",
       "59                                NaN                               NaN   \n",
       "34                                NaN                          170000.0   \n",
       "31                                NaN                               NaN   \n",
       "28                           614000.0                          192000.0   \n",
       "\n",
       "                  (target, School-Based Health Centers)  \\\n",
       "lower_areal_unit                                          \n",
       "44                                                  NaN   \n",
       "59                                                  NaN   \n",
       "34                                                  NaN   \n",
       "31                                             322000.0   \n",
       "28                                             583000.0   \n",
       "\n",
       "                  (coverage, All Free Health Clinics)  \\\n",
       "lower_areal_unit                                        \n",
       "44                                                NaN   \n",
       "59                                                NaN   \n",
       "34                                                NaN   \n",
       "31                                                NaN   \n",
       "28                                            6.13458   \n",
       "\n",
       "                  (coverage, Federally Qualified Health Centers)  \\\n",
       "lower_areal_unit                                                   \n",
       "44                                                           NaN   \n",
       "59                                                      3.231279   \n",
       "34                                                           NaN   \n",
       "31                                                      5.685867   \n",
       "28                                                      4.903672   \n",
       "\n",
       "                  (coverage, Hospitals)  (coverage, Other Health Providers)  \\\n",
       "lower_areal_unit                                                              \n",
       "44                                  NaN                                 NaN   \n",
       "59                                  NaN                                 NaN   \n",
       "34                                  NaN                            1.996641   \n",
       "31                                  NaN                                 NaN   \n",
       "28                             8.655339                            2.458166   \n",
       "\n",
       "                  (coverage, School-Based Health Centers)  \n",
       "lower_areal_unit                                           \n",
       "44                                                    NaN  \n",
       "59                                                    NaN  \n",
       "34                                                    NaN  \n",
       "31                                               5.048313  \n",
       "28                                               7.720715  "
      ]
     },
     "execution_count": 4,
     "metadata": {},
     "output_type": "execute_result"
    }
   ],
   "source": [
    "coverage.agg_area_cat().head()"
   ]
  },
  {
   "cell_type": "code",
   "execution_count": 10,
   "metadata": {},
   "outputs": [
    {
     "name": "stderr",
     "output_type": "stream",
     "text": [
      "/usr/local/lib/python3.6/site-packages/pandas/core/reshape/merge.py:544: UserWarning: merging between different levels can give an unintended result (1 levels on the left, 2 on the right)\n",
      "  warnings.warn(msg, UserWarning)\n",
      "INFO:ScoreModel:Wrote aggregate to file: data/coverage_metrics/walkagg_area_cat_0.csv\n"
     ]
    }
   ],
   "source": [
    "coverage.write_agg_area_cat()\n",
    "\n",
    "#Saved as cov_aggregate_health_tracts_comm_cat.csv"
   ]
  },
  {
   "cell_type": "markdown",
   "metadata": {},
   "source": [
    "See all results in chicago_boundaries.shp"
   ]
  },
  {
   "cell_type": "code",
   "execution_count": null,
   "metadata": {},
   "outputs": [],
   "source": []
  }
 ],
 "metadata": {
  "kernelspec": {
   "display_name": "Python 3",
   "language": "python",
   "name": "python3"
  },
  "language_info": {
   "codemirror_mode": {
    "name": "ipython",
    "version": 3
   },
   "file_extension": ".py",
   "mimetype": "text/x-python",
   "name": "python",
   "nbconvert_exporter": "python",
   "pygments_lexer": "ipython3",
   "version": "3.6.4"
  }
 },
 "nbformat": 4,
 "nbformat_minor": 2
}
